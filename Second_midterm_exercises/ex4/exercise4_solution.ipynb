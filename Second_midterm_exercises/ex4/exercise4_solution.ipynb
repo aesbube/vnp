{
  "cells": [
    {
      "cell_type": "markdown",
      "metadata": {},
      "source": [
        "![image](screenshot.png)"
      ]
    },
    {
      "cell_type": "markdown",
      "metadata": {
        "id": "4ZzmvWm1e1vB"
      },
      "source": [
        "### Прочитајте го соодветното податочно множество"
      ]
    },
    {
      "cell_type": "markdown",
      "metadata": {
        "id": "tu58_4LzK03D"
      },
      "source": [
        "![image.png](data:image/png;base64,iVBORw0KGgoAAAANSUhEUgAAA5MAAACsCAYAAADmK/hsAAAAAXNSR0IArs4c6QAAAARnQU1BAACxjwv8YQUAAAAJcEhZcwAADsMAAA7DAcdvqGQAAFNfSURBVHhe7Z0JnE7VG8cf6wyylEhCCpFSaEObIlokJEuWSvZkz07ZkhJRibRQESlalPKnkpASQkmWZN/3ZWaMef/3d+ae1507933fe995Z8zL7zuf+5n3nnvvuWd5zvKc85xzs/gMhBBCCCGEEEII8UBW8z8hhBBCCCGEEOIaKpOEEEIIIYQQQjxDZZIQQgghhBBCiGeoTBJCCCGEEEII8QyVSUIIIYQQQgghnqEySQghhBBCCCHEM1QmCSGEEEIIIYR4hsokIYQQQgghhBDPUJkkhBBCCCGEEOIZKpOEEEIIIYQQQjxDZZIQQgghhBBCiGey+AzM34QQQgiJYpKSkiQxMUn9z8xkzZpVsmfPqv6TzEG0yE60QBknFwpUJgkh54TjJ06q/xflya3+E0LSBpSAhIRE8yw6yJkzOzvbmYBolJ1ogTJOzncyVLoPHDwkrZ7pLdM/m2O6XBhAX5//42L57ItvJTExeGX9yti3pdegkXLqVJzpEl0sWbZCGj/5rPyz8V/TJf2wppWXNM5MIKwIM8Ie6XGdjJAl5DPyG/nuFsR53IQp0rRVF3mifU9Z8+d680raCEf2wgl/uKDeQ/2HejDS2OMeTrwgJ5AXyE16cy7quU3/bpVJU2bI/gMHTZdzTzgyGwzMKkUb6RFmuyxHa/sQjEiX12iUnWiBaUu8kJH9kkjhWZlEhVynUWuZ8vEs0yV9OXbsuCxfuUYSEhJMl/Qn0u+MN/yZ/+MS+f6npXLS7Dwlnjkjq9b8ZXRsIt+xdEtmCEOkcErjaODosRMyd/5CWfzL73L69GnTNTTIM+Qd8jDa+GPt30Yl+bsMH9RDZk55Q64vf415JfKsW79J/tu2wzwjmmgr+5EI78rVf8o3836Q7Tt3my7uiFRZywhZjEbzxIwIc6TaYD0g7tTJw2BReg2QZEQ/iKat6ceFlLbp2bZEW7uVkUSqnQoXT8okArn015VyU8XrZbXRITxhmqmlJzt275X3Ppopx46fMF3Sn0i/MzYmRob06yKjhvWVfHkvUm5oFD6a8UXERqTDITOEIVI4pXE0cMnF+eX1l5+Xvt3bS86cOU3X0Kz7Z6NMm/mVnE5wr4BmFuLjEyR37lxyxeWXKdOfLFmymFciC2YjvvxmvqqzSEqirexHIrwNHq4tH0x8VW68/lrTxR2RKGvnShb37T8g9Zq0kj/XRWb2PxAnTp6SFm06qwO/MxuZtQ12y7noB9mZNHmaOrzSZ9CLYT3nFbyjXOW71FGpWq1UMo9zuNvDEuo54o30LFfnU5810pzrPqEnZXLfvgOyZ+9+qV3jLjl67LirUVYonBhRQ+YHMuODgPz9zyY12nfw0BHT1VBeExNl2/adctJonA4dPqquaRMV+AVNHM+s37A5lekKru/es0/N+CCc9pEhnMPdyzs1WOt15OixFPGBm14DprG6JZxONI7T6hkce420hLnV8RMn1GindTSz4MUFJCYmpwr/suWrUoRPo+O39NcVsnPXnlTxQ5oeOnwkhTvcdHxChcEK7g2W1m7AuzFqgsPpPW7eATdcgzzFxcWbrmexprE6N96p80nLoZMs4LpOy+07dqu0CJYeOi7wz2lAxRpX/NZAFuAn3o/ysHHzf+o3woywA4QFYcZz1vha34NreBbXDxp5bM9nK5AlKKl2WdfvscsssMqtE/ADfm3bscuf1nYQnkDl68TJk+o6ypf1PQgP4mpPN+AUJpzby6EV5OGeffvlVFyc+h0sTnas4YdcOr0jWHiB1Q/Ul07guWCyZAX3OtWTXkFcgpX9K4oW8Yc9ULjghy4z+B8oDzShyi7APVv+267qbKufocIbKh808P+0Uc7OmCO3OD985JiKq84He90D90BlzZoGTnWwlWCymCtXLjWoFKyOAvp6oPrxfANxRFyd6hCdb17SxEsbHClClW834Yd7sD6Jm/Kqr6e17sisYABj1eo/5bOpk+TvFT/JyiXz5Lpry5pXg9PmycfVM4vmzZYrSxQzXdMfyCDqLsgI8hMyECj/cN2pbgS4pssD2pnfVqz2D+jA70BtBq7p9hPPoa9p9Rv3ww3lxAkn2Q1VroLJIepEe//IGk8vfgdqszVpibvbvHBTtq3gnQh7sH5VoLYOv4O1U2ntv7shi/GiwCluAyau877/WQb26iSvjX9fShQvKk80bWBeTc2ipb/J2PGTJVv2bJIje3bJkzuXnDYiUuveO6XJo3VUxT71ky/km3k/Sow5K4PGtmuHp+TOareotQALF/+q3AGeHzqgu/o9buIU2b17n+TNm0eOHTshpUuVlIHPPSN58uRWiTX+nany05JfJe9FeZRZC2ZBBhjXLzE61xDGEaMnKHOnXLGxcvz4CWlshKfhI/fLqHGTHN95TemrTJfkdIBJy8tD+qhOADJy6CtvytGjx2XYwO7qnRDy50eMlco3XqfiirjsMzJ0cN8usnL1X/Liq+NN35Jp3rie/z6EF/FYblQKyBz437NzG7n9tpvUvRBSrDn7zRAqjLIi/FeWuELNbl1a8BJ1DwTnnQ9myCtD+0jBSy72u419630VHwhXoDBYQaEOltZ2rO/QaYZCCXnBDBRmomBy1MJ418MP1FBubt6BQYzBL42TXXv2Sv58eVWnsHChgpIjRw6VprlyxaZIY5wjLB98PEvuuauqzP7qO8luyOERI4/uu+cO6dimuWTPlk2l5Zjx7xkV7mYpX660Wr8XFx9vvCOfPFq3tgqjFRTGoS+/oX4jLmjgn2reUB6qfY8qtF/NXWC8c7ahwOVQ19Fxfb5PZyl3TSkVPoQd+YuwVa54nTzTpoXyr1DBi+W5Lm39clOk8KWyzmgEcI4ycybxjHTp+KTcXLGCuv7X3xtUGADSwZrPGrxvj1EZIly7du9VbqiwWzSpr2T9g+mzjQb4Lxlm5JVOZ4x8Dxg62oj3vVKz+u3KTQN/Pv3iW/nQeE5vmnOZEU50pLsYZbbabZWVW7DyNWPW1/LRjM/VfeDu22+VlkYdgvyHGSDkGXUA0mlo/27Kf4C4AKSRxim/teyBgcNGp5glwbuszwPIHu5zCv9/W3fIRUZZRmNzS6UK0rn9EyqdIIuhwgu5gh+r//xbCuTPp8pwiWJFZb/RAOq8CiZLVkLVk8Be7pzipcG9TmX/kQdrKtm6svgVqkHbajTMCQmnJYchy0P6dZUyRpkEuv75/Y+1qq6DzNxV7Vbp2LqZUcayq3ushCq7GDib+7+FSi5QH8CPo0aj2fSxutKo/oNqNs8pvPfcWSVkPlhxSqNXjPr+gfvuls/nzDMa3+SOxfXXXqPaOBCorGGmK1QdrNF54SSLCNPbk6cbbeIdaubSqY7S9QpG5GNjY1T7BplCvWKPZ1xcSmUaM5NtOj0nw5/v7bpzfS6IjU1plaFl5vCRo2owDOl7f827pFWLx1Sn6WWj7MM8/hdDNpAm6GRdfllhf5roelTXq8BaXwRrg4OBDuxzA1+S1i0bpypX6BOs+ONPf33kpq1wk6cIt1OfpPgVl7sqr8HqY6tViF127OgZPShfXsDMZKmrS3p+zgsoW70GDDPKTMuw5Ty9y4pdxkO19XdWvUUpBMHqRt1/Gv3mu9Ko3oNq9jpr1mzSteNT8sfadSHbDPSPqtxSSb6dv1DJKPoHbZ9soqwQp3/6lXLDc92fedr/XDDZxbr0QOUqlBxCzu39I/R7UQeCQO2W1e9AbbadcOLuNi9C1U123PSrgvU5cB6onTpw8HDIvnXEMCLiCkPIfUNGvu77+NOv1LkhTL6ufYb6DIFQ53b+3bLN17xNd9/kaZ/5Tp8+rdzW/Pm3r9ETnfx+gN9WrPbt3L1X/TYyy2cUhhT+Gtq/76mOvXyGsKhzgN/Llv/h99cQTt8T7Z/zLVi4RJ1v2LTF16JtD9/qtX+rc6ND7zMSVf2Oj4/3DRo+xvfqG++q32Dd+o2+Np37+TZv2arOnd5pZcvW7eq69t/IdN8zPZ73tevS32c0IH631p36+O95+bWJPqMR8hkNijqH3/AD77KC++o93s73zbwfVLgRxxdGjPUNGDZahRf5MPatySq8iDcwBNrXe9BIn9Fw+dPEKQ5wQ/rrMAYKg5VQaW3H/g6jcPmaturimzbzSxUf5PEPPy31NTHcjMpO3RPqHTrPeg540cjHQ8oNce7R/8UUaWpPY4Tlocee9r00eoLPqCiUm1Fx+B5/uqvKQwA5ftrIJ0PZUud4d1sjbf9c9486twO5QTlAPgCEQ8sRZBlxxzsQTxwoBzpeCN8jTdoq+UdaAIQVYcY16/mTHZ7zGQ2McsPzRqfX16HbQN/BQ8lyDD+scXUCfiKdf/39D394kA/NWndV4YK8I521jAL8htxCfu04xW/Bj4tVnLQMhVO+EIefly73GY2pOjcqX1+X3kNU3aFBXHQaaXBuz2+r7Om0tNY3dnAvntHhxzN9X3hFlSfkLYBMIPyomxDnUOHFPePf+UjJlZYzpIXRWKaIdzBZsuOmnrTG3R4vO05lX6eXVWaMzryvU88XfG+8/aG6R8fNmj679+xTsokybEfLQ6iy+9ffG32GkqD8B//7/mdVBnScA4U3lNxYCZRGCNvefQeUm6EMKLflK9eoc2Ava27rYCs6be2yiDCFqqOQ9y3advet/Su5ToL/Y958z/f6xCn+9NKcOhWvjnFvve+78trbHI+vv/1B3YP/2q1h83a+hYuW+cpVujvFPcuNd2s3HF2ee97/DqfreK/1+v4Dh5XfM2fNUf9xT5V76vq2btuZ4j47Mz//xte51xCf0SlU58hjnT463wxl0y+DqL9R3iCbSBOd3tY6w15fOMlUKII9Y5eTUG2F2zwFeJ+17gA6jsHKqy5/wepjjTU/cFhlCPmOc2v+Ig+Rl/oe5C/yG9fscmE9rDIUSr5CHYHkHH7Cb/s9Vnf7gfjUfqRZwOsIm/bHGlccWs71dRy6DOnDjs6/UG19qLoR5aHxk8/62ncd4K+PgJs2Q9U9YyYY4YtTfZLXxr/vq9OotfoPeUF4UKf1fv5ln6HAqOdCya5TGXEjhyif9v6RnUDtQKg22064cXeTF6HqJjtITzwTrF+FOIZq6+z1D0B6eem/pwXXZq47du5WU7s3XJc8YlPB+A+Ne/OWberczi/LV6kRtIfvr+Efrb68SOFU2vDNlSoYWnsh80zUKBtG/zCyEAiM6t960w1+f6HNY4YQ4dMkJZ1RI01GHNUIA66D9Rv+lf+27ZT6de7zr1GDpo5Rvj/XndXsg1H40oJq9PlPcyRg83/bpIgRh1JXlVAjE9oNI+/FixVV514oU+oqqX5HFRVuxLFsmavVOrMzZ5KUqfHylavlwVrV1WwryJv3ImlQ9375+5+NsmVrZDd4cJPWwVi05Dc1cgLTaMQHozcYabm6ZHG1IQII9Q7EacOmLfJYvYcM9wLKDXG+rFBB9TsYkMH6D9dS/8FVVxZXs4ZIT4CRtFIlS6iRHHBJgfySP38++Wv9RnXuBOT+lDnLgHBAjjCahVEryBJmTBBPHCWvLOaPF4AZDUamkRbBKF+2tJQz8h3g+dr33imHjhxVZrhegFxjpkWHp/odt6l3b/z3PyWbZctcJQsXL1PlBBgVm1xtyHEhW9ri+o8/L0sVv2KG/5hZ0oRTvjCKf3uVm9QoHshtnCM/jMY9wxeTY9Zjk5E2KE/IW4ByhvJmVOzKzCxUeDEauHzFGqlz/72qPgNIC6SVHSdZciKcejJcKt9QXm6pfIPKX4x+lih2uZw8mWx6BbMeyIg1fTCKivDB3Y7bsntt2VKq/sQ7AeQPM5j79wfeeTVSclO/Tm0pdGnybCLiijZK1w9ORLoODlZH6Xrl1ptuVJYTAPVBjburKVnFLKYTVtO9cteU9pv/4bjXeBbgP87Hj3lJtm3fJVOmzZSf53/hvwftZ//BI+Wjd19Xbr///J3s2LU7xZozzODApBDXe3Rub7qmZsasr6RP92fUfY83qi/d+w5OMVPrBMzhUT4A8linjwaWE1oG0f5Wu7WysjDBDENmIVhb4TVPAxGsvIbb3/l+4RIZ//Zkv9zUqlFdXh03wbyaPBOIPBzYu5u6juOKy4vI0JfGqOtWuahX534lG/q+l4b0U/e4ka9QaDnHszWq3+lo5mq9p1qV5Nk1r2B2FcAfHHfdXkXad+ntl+Fpn8xW8dfX8a7Pvvja1frLUG29m7oR7fOjj9zvr4+AmzZD1T11aqnyhX4B5Ah1YfPGjyh5QXgqVrhW9u7bryxSwpVdt3Lotn9kxU2b7YTXuAO37ZTbusltvyrcti6t/XcvuM4xmP+dMRS0rUaj89PiX5XSlM3IAKcOBICNP2z58+VLTtBAwPxr3veLpGP3QdL4yc7yzpQZqhENtdB8q+H/qNffkSZPdZZnegySfw3lDQUFILMb1X9Imbq27dxP+Y/3APh78NBhef7FsfJUx17qaPNsX/ljzTrXjRAyFoUfnSRk5KrV65TQXWtUCjCfgdt6Q3DQKc8fIv5eQfhhxgCzSSsF8iebjwWyb08LwdI6FLgPnaOLC+QzXZI71gWMRg8d01Onkm3eg70DJrkw/yp+RRF1HkmuKV1SvRt27gD25khDDHw40bJJPVUBtGzfU5ll4FmARc/Im+vKlfFXlk6ggtBmG17Ac0mGXIUqF6FAJxUVi0pTIxx33X6rqsxR4cJvmGXednPFVGHEOjekCxTvYPELt3whrye+/7G0aNtDWrbrKStW/an8yujF5Hgn1rBdXTLl2hkMIGFHxf0HkhuNYOFF/GGairQKRiBZciLcejLS4H0njQ7UuAmT/fmL4zsjbLoDa8Vt2U1KSpJfflspPfu/KI2eeNZIj4mqIx4qfudCbuB/RtXBul5ZtHS52kVUp/fI1yYqk6UzZyKz/gV9oxf6dU+hsBUyZP7z6e/5O+W4hk50OOA57U+1225SZclJXjQP1LxblZ9OPZ5XZvcw70JZCQY29Tp2/Li/rT/XhGor0jtPAd4TTn286d8tUrtmdX+eYXDBOlgAWfhw0jj/wASAwumFSMpXegKFEINEPTq3M11EDYjky5vX6JRvVeebNm9R/zWIy5ujh/vj5gV7W++2bsxttFtWItVm6EFAEK7supXDcPpH8NtNmx0O1riDcNupQHWT234VCLetC9a3jiSulEkkwLLf/1AzTFjMi3UB6IBC88Y2/6ESMhDQ9gcZwgX75f7PPSMzJo+TTm1bmlcDg9muvi+8omZJP5g4SiaNG6Fm8zTQ7Os+WFM+mjRaGtZ7QK1l6Dt4lH9EBpr5oN7Pqp3d9DFx7DC1ZsgtNxrKI9Yp7Ny5R3bv3adGFrAOB5sswNb57w2blYKpRzAiyRmjoknPzpKVUGntBnSszxiFMBCReEe4YK3XRRflNjosr8roN95Va5uQb7fddKN5R0owIw15GTNigFrP2r3vcFVhawJtLpJZufaa5NFF7ASG0Soo9xgUSQteyxfqlG59h6n6ZcKYoTLt3dcMhdY5/TMCWDVAKQhEpMIbSpY04daT6UVsbKx06fBkivwd/+pg6dC6uXmHN7DmBusPP/rkC2n/dDOZ/v5YQ346q9HXYJxLucnIOhhgvaA1vceOHCijhveViwskW9ykFYyE586deg2NdadLHNbZKS+Uuip5/Z5bMDvct0cHeXvci0bYihjyP0atcQqlUGYU6BjbQUfTSqjynd55qgmnvwPlCOscg4HZS6tsdOzWx7zinkjJV3rz39btcmet+v5w3nRHbVnw4yLZszd54Ghgn25qVtUaFz2bmRbCrRvTu80IR3Yj0e8ORKg2OxKEmxeRINy2LiP71q6UyV179qmFrU88/qha2KuP9q0eV5Wq05QpZiVhGotNaQIBhQtTyO2eaqqmpd0oXmq05Yef1bQ6NvIJps1jShjmlUP6d1MmFevWbzQq+IuNjkCSUoAxBWw9MOPoFpgMYGYWi5wRpiKFC6nZLCx2xmgLRkRKpsPOYBgpyZkjh2zakjwiptlupHWOHNmNdD9r5pCUlLxrnQYzy17wktaBgCmlXQ5Q0e3cvTc5DbNlDfmOSy4pIKcTzxjKuzcTTzcgHHgnNsKBWcjgfl1VR1mbBTgBOUXePte5japUv//pF8MxedEz8sU++hQJnPI3HLCQGzNLenMGVPBVbq2krA0wK1mm9FVqQwA7KEvYGTZU/MIpXwsWLlUV3GP1Hwy6KNwqz/iP80iD8Cc6yNoGo3OFsle40KUhw4s0zZYtW6oy6oSTLGEDKCvh1JPpBdIA9R7qfXv+6s0DrLgpuzt27VGy1+7JplL66itdmzi5lZtI46UOTisod9qcCSaM1vRGx82LOZhXMCPz9bfzlamsNt8LZsqaHiDu6Ge0btlIzYYEMlmDNRBG3NHvwKZQ6QX8xjvW/LU+hXkZ6kQse0GbZq3ngrUVGZGn4fZ3oEjaZ9usoD817q13UphPw1zaC5lBvtwC80trOPWhZ2b1TK121ya7ULi9Yq1Hwq0b06vNCLc+ilS/2wk3bXYkCDcvgtVNbvtV4bR1kei/e8FVasDEFYWl1FVXmi7JQEiRkU6mruiYYye2r+bOV5HCjM2XcxcYldDZKWc0yJh2h7kjQCH67Mtv1W8Npr3R+UVGqo6kUSjwHM7hL0YL8NH3zf+ebdihzH32xbf+zDl8GFsQZ1EZibV6+E7mW+9O9ZudwA/MtOI/sL/TPuIIChTIJ0WN+C/8eZky14A5a7L/JZQbprWddm7SZMuWXSme6zduVu+wNkzBKGh0zmrVuFM+mQV7/GRbc6z7mzbzS7n1popKYAFMruLi4tT3QBF+rAGcPPWzFJVKqDBkNTrEodI6FLADTzL8njztM+UHjk+/mKuUGuxg6OYdVxoKKWzrZ37+tZIfxAc7xK5Y/Zd5R/isNypdyCDWmcDkE+8JVPEifO99OFO2bE0ePDl9+rSSceQ91sciPhs2bpGPP/1K3Ytwwh4+0LriYOAZ5CvyxSl/0XFHuYFZLt6jyoYDuGftun/UPUi796d+qmQU6zQ0d1W7xajstssPi36RqoZi6RR/uFWrUlmZty8wGkj4h5n+2V/NS7H2yU35spPLqFBhDond3eAv1jnA+sFKYaMsoXGAnMCfWV9+J8tXrTGvOoOBCpRlrKnAM27KGMKP9SDYCVmXf9Rv381P7jigXIUKbwGjUb3h+nIy59vv/XmIMGAXaE0wWbIPZLipJ72S1vpnyrRZql3As0gDmPzrdSVW3JRdxA+dgZ27k9Mb25p/Mvsb/8flgVN43chNJLCXNQwWuKmDrYQjiwDlrk7te1Q9hTTRZQgDvLCAyUhQzn9abChD6Qzyd6YR15VGXmr5guygfY3JmcO8S+TXFX+oOgjX//f9IrUzNRQ2t50mJ5nCMcGou4aMHOdfgmEFft9d7Va1Pf+3/1uoyjHkfqqR96j776x2s7ovVFvhNU/d9EmcCKc+BphJ/m7+j8Z9yWv+3OT9vAU/mr/CI6PkyyswVS13TWn5fM53pkuyIlz9gcfUf4Qb31e1Ko4w4d6+Y5d5Fpxgbb2butGJ9GgzgJv6yKlchSuHdgL5HarNjgRe8sJt3eS2X+WmrbO3U1kMZRdhDta3jiQhlUkEYulvK40CVUZVhFagIVcoX9bR1BUzH9jG+6u530uD5h2l0ZPPGgUsTm2Zq8FiVqzPGvTia1KnUWsZPGKs6tjmy3c289HphV/9Bo+Suk3aKiHBNrzrN2xS/uLYtXufml3R5DeEB58ladiykzz+dFc13Y+pdJjvoaPW5onGyesxer6g3lu/WQf5YPosfxzs70T87cCuu9IN5VOZs1a84VpD0P81BLxEqlEIKxDwmvfcroTm4cZt1KczIKChwHvwyYoa1avJgGGvqvBj+rvSDdepbY21vTlMbrE2ZYzhL+Lw7gefGPFu4l8UDEKFAX6FSms7VxkFG/brb0+ebhSyU0qh7tWlrfxjpJP24+ely6V313Yqjd28AyNXz7RprmzyYWuP+KAQ32f7dEU43HLTDWoWuakhJ0jLZHloLy8Ysuhkaw+Z79l/hDR+qrMhW93UovJWzR9T8UBZ6PbMU/KtUYkhHggntph22/BbubxIIXlp9FsqX7r2Gark9WmjPOn8rXJLRSVf7br0l6atuqjOvBNYJP/J7K/lkabtVNphNq97p1YpRgMxe3wVNgoy/NZmr05UvaWSKkdvvTtNxa1Vx95S5LJLpZil8+ymfNnBgnt0tpq36a7CuWDhYlXxWrm/hlERGxVj+64DVNoeOHRYmjRIuY2/XfZQcWPtFSryeo+3V+XZ3kHEgBgGhfAM8tsa/g7dBqr0HzlmotSrc59g8wAQKrxIxycfbyAwc+vSe4jpxwS1KB8zlppgsmTFTT1pj7s9XnYiUf/A9BDPQhZgIr7P4T1uyi42KMAneN6c9JHyD2t8rjfaG8RB4xRebLAQSm4igb2sQSF0UwdbcSOLgcDaTFhLYJt/PIv3dek1RFYbynwoMNBZzijTjzZr4ze/051ebaYI88Tffl+lTPes5nnoRD90f02/ed8dNR8xZP9etTGL3iQFnWl86B3XYaKIA7/vefAxQwEMb+0o5BCDFthi/zGjDUfdjIEYzFDqUXnIOjrLqIMgU+9+MFOaNXpEbXSRfD1W9VnwSQ30BZxwkinI0xajHG7esl0Om5v/2Kl+523SuMFDanAWdRHK77wFi9SncdAGaIKVb6956qZP4kQ49TFAJ7xj2yf9coO8xxpBDeSqc4fWKeSqotEfWrZ8ZSrzzlrm5j36Pi/yFQotw9rsVIcHyp3ujGtTWvs9Ohz6OsKBtZH26wCbBmGmFu44mj/9rLw5epiKA8DmUkNHjvFfh19YV2ldUxqIYG29m7rRCTdtRriEkl2ncoV2Lxw5tBPK70BtdiRwmxeh6iY7bvpVbvpI9nbq3y3bPPff04Kn70yGA7Tho0ZHApp1oOlsLMDFGhTYA2ulzAqCqNc76nu0vxflyRVwJBL+xsfHqwR2ugeNOTpeWLhsD5vTO9MDhOFUXLzxjjypZiRCAUUfBdEp/JpQaQtChcFNWluBf1gnaX2nTk8oVjCPsJsIuHlHpPME/qFji9Gc1kZlhJlcgG8z4nujd1S5WQ2I2NFhxWyDUzgQRyzKRhy9hhNph28GYYMnfJMM8UVl6WRCqN+DkW6n61aCyQHS4VVDGYiNSTb3DRVeLXeBypUmWPmyo+OC7/cFutfNPU6yFyq8uI6Oh10udfidnnMTFoB0RyPgJPMglCxZCVWW7XEPFC8reCat9U+MkQah5M9N2UVYkr/x6j68bvMhrQQqazoN3Mg4CCWLwdBhAIHSKNS3AjMr9m/wgUDxxSg+vt+IQUp0mgO1G/p5WFWFqqesMoU8gkleqPzUZReiHG75dpOnmrS2f4hnsPo4WmUnWgj0nUk3bb2butEJN/2/cAklu/ZypQklh24I5Xc49atbguWF27rJiVBtg05vN30kazvlpm8dCdJdmSQkswLzpAHDRkuDurXVB4I1qCxQyVe+8bqQH7GONPrd1o9tpzdY3I3d2LCup3y5MqYrISTaSEhIVB2KaAIdspw53Q9koMOGjdL0B71JZMhssoNZb8wA4gPtdrC2Ep/8iBacZPxctPUkfbmQ6yb3QxyEnGfExMaoz5Z8MG2WMoXCdskwYYNihVGimtVDm6hEM4grZmAHj3xdrWe4xvzWFSEkOsmePfqa9GgM8/lIZssHmJDqb1Xaj2hSJAFlnJzvcGaSXNBAacQugf/7YbHs2btPLitcSO6753a5s+rN6WoSEAgsKF/713qJyRmjzCTSE+zI9vMvy9W6yhuuK+fJfIYQkjnB7FJiYlKmn6FEfYNOttd6B2vcsT6rbJmr1QaAJHJEi+xEC8FkPCPbepIxXMh1E5VJQgghhBBCCCGe4VQEIYQQQgghhBDPUJkkhBBCCCGEEOIZKpOEEEIIIYQQQjxDZZIQQgghhBBCiGeoTBJCCCGEEEII8QyVSUIIIYQQQgghnqEySQghhBBCCCHEM1QmCSGEEEIIIYR4hsokIYQQQgghhBDPUJkkhBBCCCGEEOIZKpOEEEIIIYQQQjyTxWdg/iYXKElJSZKYmKT+Z2ayZs0q2bNnVf9DES1xiha8pH1GklnyObOmDyGEEEJIeuJZmTx+4qT6f1Ge3Oo/iW7QCU9ISDTPooOcObMH7bRHY5yihVBpn5FkxnzOTOlDCCGEEJLeuO71JCYmyrgJU6Rpqy7yRPuesnrt3zL/x8Xy2RffqmvglbFvS69BI+XUqTh1fj6yZNkKafzks/LPxn/V+f4DB2XSlBmy6d+t6jytwF/4j/cA6PpO6YwjEmBWJ9oIFeZojFO0kNFpay8PVjJjPlP2CCGEEHIh4VqZ/MNQHpcs+12GD+ohM6e8IWVKlzSUnCXy/U9L5WQGKI/Hjh2X5SvXSEJCgumSOYASOefbBUand7PpAgXzkKxa85cknjljuoRPvBHf9Eznc20eGA6hwhyNcYoWMlPaZsZ8puwRQggh5ELCtTIZH58guXPnkisuv0yZceWKjZUh/brIqGF9JV/ei8y70o8du/fKex/NlGPHT5gumYNbb7pRPpo0RmrXuMt0EVn3z0aZNvMrOZ1w2nQJn9iYmAxN5z/XrZd6TVrJvv0HTJf0Ae+pVK2WTJo8zXTJnJw4eUpatOks5SrfpQ78hlsg+gx6Ue558LGQ6Yf4P9O9f1C/nHCTP9GStpEGaYK0QfzTE+TxhZa2hBBCCCFOuFImYV554uRJNep+6PBR/7rJhNOJxnFamWIG44RxP2YV12/YrPyygmd379kni3/5Xf7btsNxZB/PbNu+U04aHW+8/+ChIyn8wWwlZgJxuDGxxfMwm7OHB/HC8wgDwoJ7cG8wzpw5I6eNdND+ICwbN/+nzg8ePmKE94g/TjqcSAukiVtCpTPcjxw9pg59j07Xpb+uUP8DPUuCkyd3Lvlw0jj5e8VPMn7MS6YrcQLyB9mGjNstCHTZ0nK5bPmqgGVLl89tO3ZRbgkhhBBCMjGuNuCZ/tkc+WjG5+aZyN233yrPdWmr1u3tO3BIBvftIrlyxaY6h9dfzV1gPPuFxMbGKAWrQP588nyfznJZ4UvV+fh3pspPS36VvBflUWacmPkc8NwzcsnFBcy3Ja8RXLj4V/MsuYM/dEB3uab0VapT+tr49yVLlixqxhRmoS0a15OHH6ih3KwgPJ9+8a3MMOJzkfE+dHgRrkG9n5WSJYqp96DTi2PX7r3qGfxu0aS+NHzkfuUfOrlj33rf/36s6Ro4bLR06fCUVLqhvDw/Yqz89fcG9SwoXKigvDK0jzJ9HfryG8oN4YRi/FTzhvJQ7XuUm8bqX7XbKis3p3QGyAOwaMlvMmnKdOnXo6OUu6aUUlSxvvX3P9aqdMVs7l3VbpWOrZtJ9uzZ1TOauLiUnX7M6vQfPFImvfGKFLq0oOma+YiNzWn+So09TpHi+4VL5P2PpsuEsSOVDKYFpPP4SR/Iy8MGePIrM+SPPe337N0v4yZOkXXrN6nZ81NxcZI/X14Z2r+bKucAMpvF3Jhm+YrVgkoH5a9n5zZy+203KXddPj+cPtu/wRee37lrT4ryoLHnM2Ym23R6ToY/31uuu7as6Rp5MDNZ6uqS0ubJx02XlGzfuUteff0deeLxBlLllkqmKyGEEELI+Yermckmj9ZRigoUoykTXvErMaH4fdVao3M4VymPH0wcpQ4oYDM//0Z1HLds3aFmMp7v3VneH/+yfPzua4Yi2SmFIgnwPuv7Z0x+XfmzYdMWQ7GbLHUfrCkfTRotH779qjzTurl8bCiLa/5KbeqGWc3vFvwk7Z9+XCa/9bJMfWeMjBrWT64sfoV5h8jf/2ySBnVrq2s4mjZ8WL74ep78Z4Q1FFD0Xh7SW5obymz5cmXU2tL33hwpBS+5WL6e96OULXO1TDbCj3R4f/xIue+e280nwwezPNNmfiltnmiiFEmk6wdGZxyzRO8b70a6vjlqsIrXij/+Mp9KDTrIMON8tFkb496Ncmet+uoc5pJQYOzmnlCs9DNW00+Y/+l79H1WrNe131ZwP/ybM/d//vvCNSnUYbY/j3NrmBEGhEW/D/HyApQYmLYGe976Dty7Z29qM1WdnjjsaRMqf0CotAX2uFrTRqcX0h7/cd2NyS4UyAfvqy7TjPKCcjVp3IuS2ygL3xplzcriX5bLdeVKyzSjnE81ymvFCuXl2/k/+WcxVX1h1A3PtGnuL38P33+vMrEPho430gRpgzTS8bPKnz3udtm056M1Da3Pfj7nW3l13AT/ffb8PnDwkKFQ7pb15iZdhBBCCCHnK67XTHoFm8/M/d9CtaawvNGBBJgVq3F3NWUGeuToceWWlHRGdeKgBGHG7pKL8yt3N2BGDh1ZrFfEs5g5xOzF1SWLq01rAgEFDKanuB/vs85gXlmimFS+4TrlhqP6Hbcpvzf++595R/hAwTtlKjB5jXDnzBl4ds0NmIEcO2GyVL+zitxR9Wblhrj9tmK1oRDfr94BMLtzc6UKyj0QLw3pp0w5P5s6yVBKS8uiebPV+col89QsD2bPYO75+8/fyS03VTSU+ElSq0Z1dQ/ccR2d858W/6Lu0X4NeWlMCqUGszm4hnuqVbnFdE3Jtu27ZOXqP9V9CMe0T2an6vi7AWHq0/0ZWWX4pRVH/EcYn2reRF2H7GGm76N3X/eHa8eu3akU0GBghvCHb2aq551MYfGOTj0GSMe2T6p7PvlgggwdOUaOHjtm3pGsEAFcx/HqiBfUM1qRC5U/IFTaIh+e6T4gRVyRFva4zpj1lUo33PN4o/rSve9gf/o5gUGU26vcpGb5ARRJDPxs3bYzxSZUZUpdZZSnKqo8oS7A4AoUxTNnklT5//HnZVK6VEm5x5BnXf6KXXG5xMQELyc63kgTpA3SCOc47jXqG2CPO+5FHljl6tVxE1V89bPzvvxYXhr9psoDpDHSGu716twvPTq399+HvLGCOg8KMywkCCGEEELOZ9JNmcTmMzCvXLR0ubR6prc81bGXOka+NlGOHTthdCATpdRVJaRR/YeUqWvbzv1k3veLUq21CgZmAK66srhcXCCf6YLvvOWUAvnyKqXKvn4SimObJxrL19/9IC3b9TQ6zV8H7SSDnDlzqI4vzFTTQssm9VSHuWX7nsrkb+v2neaV8EhMPKM+SYIZx2JXFPErxEhzmNCOM5RMneY4vjPS9uRJ9+s0Q1Hn/vv8HXUNzrViCUpeWcLohF+jfnsBUWn/dAv1G4rabTdXkk3/blHnXkEYoLQt+22lOt/y31a1M3CF65IVMPj/+fT3/AoZwn7X7VXU70ixd99+ZfZZr05tdY53vvHqMMmXN686B1CIrEoJwgdFKpJgN2aYXVrjale2AeKv76l2200qvULJDsrixPc/lhZte6iytWLVn0oW3W5CFRcXb6TTASlVskSaB1mc+PDjz6RZ4/r+eCEPBvbuJvMW/KjOEX8MIljBPZBn/PcCyiLMy6E0E0IIIYScz6R7b+f+mnepnUj1MXbkQBk1vK+hACbPCGoT1Yb1HlBrM/sOHmV0/pNnLd2AjWnOOGzaE4jbbq6ozGE7tm5uKLq/Sedeg9VGH+nNpQUvUfEfM2KAWi/Wve9wpTyHyy/LV8oeQ0mp+0BNmfbJl2qjH01sbKx06fBkinQf/+pg6WDEOVKUuqqk+ess6JBr80gcN91RW5b88pt51T1QonLnTl4zl1a0cqiVBihUD91fM4WCoM0k9QETxkgCk1bMEgeLE2a/rCaWMNncngFyCXbs3JVCWXTK22BgQKNbXyjHF8mEMUPVrNxtN99oXs08WE1TcXTs1kcpkJBbyMnoEc+rWXDrPV5mqAkhhBBCLjTSTZmEyZs2dcOsDNYN6gOKpHXUHvfCVHVI/26qU71u/UbzSnCKFytqdIR3y1HTZBbA9HPn7r1qHSTM75zATCPMYYcP7CG5c+VSm/gEApuLYKavTClvHWwnoDxjo5/nOrdRSvb3P/0icfHx5lVvXFa4kHTt8JQ0qv+goaTEyudf/0/NfGK9aTYjbQ8eOpwizXHoTU3SC3TEr7i8iN/8L5gpa0aC2TWspduydbuahcO5BuaPX3873282igMmjJHkssIFQ87u2U0sEZ5Iz0wG4oqiaVPeFyxcqkxYHzNkMU+YMoY6oKAhu5u2bPVkneAFq2mqPqwz6Rhg0ObKOJAHkA2rmTYhhBBCCDlLuimTUJzq1L5HfX7jk9nf+D+dsWvPPrU7I/hjzTr57Itv/Z3Hw2p2LdlEzA7WTUGp22E8C6UJax6xtirJ+D152mfKDxzY8AcKYK177zCfPAs+9zHFuFeb9MEMD8qcdcMfmMeuXfeP8n/f/oPy/tRP5eqSJaR82eR1n26A0gZ/8GkQ+BNvvOO9D2cqZQacPn1aDh85aijZF6XaXdUtZa6+Uq2FROe9cYM6suDHxYbCtNlQGgtIrRp3GvGcJWv+XO9PK2xW5OVzJJEAJqV/GmmZHsCE+YURY9UR6nMwMG0sd01p+fyrueocpq+BgGxgHWEkKVzoUrVe9vM535kuyTOk1jWTdpB3kZ6ZhBL9y28r/coR4oo1gRVvuM6vUIVDLkMRhBn4caM8QdbwmZ8Vf/xpXnUH6otqVSqr3YwXLFyi/IGFwuyv5vnLa1po0fRRpRjqNagAG+fozXPgbv9GJcyTDx8JnEeBwJrwDt0GqrQmhBBCCDmfiagyeVOlCmpWcfaceeocu4vC3PKbeT9KvcfbS51GraVLryGy2ugog/z58ypT04YtO8njT3eVQS+OlUcerCnXOihuUOYwO9hv8Cip26StLDU6alCmenVpK/8YCmuD5h3V8fPS5dK7azvHmUTMQkKhfPzpLup9nXq+IDdeX07uqnZ29gyzqTC3xTuw1jApySfdO7Xyz3JeVbK48TuXvD15upw85dzJrXJLRaUQt+vSX5q26qI6l1D6evYfIY2f6my8u5sRjp3Sqvljkj1bNvOpZPBplKLGAf/3Hzhougan4g3l5dabKsp7H32iFO5H69aWGtWrGek5Rh5u3EbFZfQb78o+F/5B0YJJZqDdXGG6+tvvq5SJoPU6wMwazAa1iSAUlXp1aknzp5/136NNSuHPgh8X+XfetO+IGYrTiYlqd17ImxszZWwWNOHdD1MpTlA0Yfaq43tHzUfkodr3yvi3J6uw6njjGuKMuCPsONebt1hNVHEPdvvEb502mPHCGkn4CXccmCG1rpns0bldChNLmOVirWijlu1TKECB8geESlvE9c3Rw1R+6PtgAhzoExduwedtMEDSvE13eaRpO0MZXKxm3r1S9ZZKqvy/9e40JbOtOvaWIpddKsWKFjHvCA7SGYMGTru5Iu74ZEituk3914B1nWq/np39aYMD/gzq082/zlIDWeJuroQQQggh4u47k26BV5hNyJkjRwoTU8wyYGYGwOTVvjEFvuWI2TsoYME239D+A6zPwmwG0O54j5P/djCTBUUQyqU1nNgYJy4+Qfr26KA2BDlz5kyK92jwPNZqOl3T6DjnMNJCm5didvbosROSLVvWoM9ihhVKjJu4BAP+YPY1JiYmoIlren2TMb3Btw4xa/TyaxPl2XYt5fIihc0r0RunaMHpG59a3mMNWQtkXu4WLbeh6oPMms8xMTlUnYZBC27CQwghhJDzmYgqk9EOlMl9Bw7J4L5d0twhjhYSEhKVIhBNoIOOPvrUmV+q9bIdWjdLMcMbjXGKFpD2OXOGZ5odaTJjPmem9CGEEEIISW84bH6Bkz179IkAwgzT4SzGX7unmqQyFY7GOEULmSltM2M+U/YIIYQQciHBmUkL69ZvkviEeLm+fNlUCsr5DGZ3EhOTMv1sHmZ90Fl3YzoYLXGKFrykfUaSWfI5s6YPIYQQQkh6QmWSEEIIIYQQQohnOIxOCCGEEEIIIcQzVCYJIYQQQgghhHiGyiQhhBBCCCGEEM9QmSSEEEIIIYQQ4hkqk4QQQgghhBBCPENlkhBCCCGEEEKIZ6hMEkIIIYQQQgjxDJVJQgghhBBCCCGeoTJJCCGEEEIIIcQzVCYJIYQQQgghhHiGyiQhhBBCCCGEEM9QmSSEEEIIIYQQ4hkqk4QQQgghhBBCPENlkhBCCCGEEEKIZ6hMEkIIIYQQQgjxDJVJQgghhBBCCCGeoTJJCCGEEEIIIcQzVCYJIYQQQgghhHiGyiQhhBBCCCGEEM9QmSSEEEIIIYQQ4hkqk4QQQgghhBBCPENlkhBCCCGEEEKIZ6hMEkIIIYQQQgjxDJVJQgghhBBCCCGeoTJJCCGEEEIIIcQzVCYJIYQQQgghhHiGyiQhhBBCCCGEEM9QmSSEEEIIIYQQ4pksPgPztysSTidKYuIZSUpKMl0IIYQQQgghhEQjWbNmlezZs0nOHNlNF/e4ViahPMbFn1a/8cKsWbOo34QQQgghhBBCopOkJJ9/ojA2JofS9dziWpk8eSpesmTJItmy0TKWEEIIIYQQQs4nzpxJEqiGuXPFmC6hcaUZwrQVUJEkhBBCCCGEkPMPretp3c8NrrRDrJH0Mt1JCCGEEEIIISS6gM4H3c8trjRE2NByjSQhhBBCCCGEnL9A5/Oy0SqnGwkhhBBCCCGEeIbKJCGEEEIIIYQQz1CZJIQQQgghhBDiGSqThBBCCCGEEEI8Q2WSEEIIIYQQQohnqEwSQgghhBBCCPEMlUlCCCGEEEIIIZ6hMkkIIYQQQgghxDNUJgkhhBBCCCGEeIbKJCGEEEIIIYQQz1CZJIQQQgghhBDiGSqThBBCCCGEEEI8Q2WSEEIIIYQQQohnsvgMzN8BOX7ilOTMmcM8I+TcMeaNd2XR0t/U72vLlpYBz3WSXLli1TkhhBDvbNi0RYa8NFZOnDylznt1bSdVbqmkfhNCCLnwSEg4LRflyWWeBYczkwYzZ3+jDq/gGSg36Q3e06BZe3W0aNNNNfxWcA53exx++W2l/zkcOI9mTp2KkxOnTsnIIX1k1tQJMnxQzxSK5KqdK2XAvL5yLP6YDP1hsMzbMM+8cpb3lk9S19IbvLvxxw0dwxCKXcd2Sc9vuqn/CC+O9ECnkTXd7OCe9Hq/FbynzexWKs7Ripv0TCtaHqwyYgfX01vGEcdOX3YImF9uwplW3JT3UOGMBBnxjkgQTD7LlCopH04ao+rVpg3ryrbtmTsuhBBCMg9UJjM5UKDWb9zsV6DQ4KPhdwNGlvHM1HdeU7N4hBBCCCGEEBIpMkyZPBHnk17vx8ua/5JMl9R8vzpRXpiWYJ6lZt+RJHl2Yrz6T86iR5Ufq/+g6XJ+glnIsqWvljlzF5gumZdaZWrJjKafqv/pAQYZ+g8Z5ThTHY0MvOd5mVT/Pbk87+WmCznf0ZYTGWHdQdxx8NAhWbXmL6lRvarpQgghhAQnQ9dMQpEc+GGCFC+URV56Iqfkic1iXjkLlMmlf5+R3g1zyL03ZDddzwKFc+Snp6VquWzywuM5TVdvwBz040+/VL/vrHqLFLsiuQOrlTE0qH1fGCX79h9Q59a1efZrVqz32deg4D3dOj2tfrvBGkYreXLnkkF9uigF0nqP1d0OFI9hr7whDz9Qw3EdTKh1iPaweI1LpJn43lS59+7bU8UV5lufrv1Eet/dT15bMlpuK1ZVKXMwPxs0v78cjTtq3nmW4vmLy/M1hqjfgxcMkm1HtqnfT9/cVpZtXyprd6/x35M3Jq8y3ftuw3fqHoD7rAojTMnwDMgXm0+G1ByeQkGCmdm8DXPlzpJ3ybQ/piq32mVqS6ub26jfAOF9ddHL0uPOXjJ3/RzlZr0OdJ6uW78x7PVNCCvSqHCeQv50QxyRjqMXj5L4xHjzzrNcX6SCUvysaRqTPUba3dpBZv/5mUo/p3uANR2B/bp+TgMzPOQJ0mrRlp+U305p6gZrvtn90O/ReQ+s+apNRq1hQz7OXDs9hT+B0jOSIB7ggbJ1/DKC97uRcR0Wq4zarwG7jFvzxfqsFchA99t7SsWiyXIYKJxWoEy+/NrEsNc+ByrvwEs4A8kFQD6/u/xt8yxlerl9hxsyi3yiLah6W2WulySEkAscL2smz8kGPFohbHxXdmlVM7W/mMXsMyVB9h/1ybi2OaVQ/tQTqO/NPy0zfkoMqHQGAh2YN9/+wK946Q4N1olAmXRSvPTIuV2BgpK1fceuVO5QOIeOfEM6tmmh3qH9rFihvOfZQzz76hvvSOMGdRwVRRDqHqc4aexxQ5wwMm1VisdP+lAG9u4kl1x8sf8e4CYudqXaik5zLwSLixvQadtxbGeKjpcV3XGLS4yTutfWT6EoakVQdybRmX1z2evyzG3Ppuo4WhVCe+cUnbyyBctJz7t6+ZWAx65vkuJdmQV0QK/IWzSVMqtB+If/kKyMtzY6uDoddDrWKvNA0E6vBukC5d16TfsBmldsqfxG/v21969UClAw7M/Y89EuE3jvyIUvSsPrG6l3OuVlqHQ5lwSTcXse2NMGMv2OoTz1v2eQP664B1jj6nRfZiRYOJ3kwqqAadm2yrWTnKY1LZzCca7kE+0BBle91suEEELOLzL9BjxQ/r4bkku27vVJvWFxqUxfMWP5ersY6dcop7R5PcHR9BVK6Kx+sTJ76Rlp+kqca9NXbCxQ+cbr/UoXFBIoNRooUNjYxaqoYKTWC1C6xrw00P8O+AlFMrMBRW/r9p3yRLMGpotInfvvVeHdvnO3Oj9w8JCcNBQ4K+houO1sIA30xg72w0uHBZ0cmMS17dxXnmzWMCxF0guVi1ZOpdzhfNSDY1QHD5QqWFouy3OZ+u2VZpVaqP/o/JUocKVsP/KfOo9G4s/EK8Vbd7gB0ghpZU1DzIqEQ/nC5f1+Vy56s1L0jyccV+ehQMcbHXUotTrfECZ0vDXoqFvBfcNqjfC/E3mUP1cB/ywxOu97ju1WYYkmoPQg3FCONI9VaCKx2WNl04GN6nzviX0qP61AIcmMSnNaQB6u2LlCDVJY5QJlcY0524i0sqcF7nFS0sMls8mnHlQ8XzZtI4QQkv5ccBvwYCZRm7UGQq/l0QdmLr2C2TurH04mq5mB/QcOSutOff3hbNa6q6xYtVYpkQBKW83qt6e4p12X/mr2NSNBJwcK6NvjRsjkqZ+meyenWP4rzV9nQccPO1Nil1YcrWc9JVuPbDWvuid/TH65KOdF5ln0E5MtRpnO2cEMi04rHFZzQS845YVboHRC+bSHDx1w3XnvWq27HDl1OEVY9QyeBoowOv2QASgbl+UtkkJ5jhaOxh+VrnOe9ccTMrzhwAalRAIoMlWLV01xT7TvshsIKIojFg73xxMHzFb1wA7yFxYD1ntazmymlPJIkdnkU1uq6AG/9B60I4QQEv2cE2USZq61B52SEoWzyOcDYqXClSmDATNXbLTz4icJMunZnI5rI2Hm2uDFOKlfNZt8/FysoymsE1AkoVAGAkrSjM/m+HdPxYE1aV7AjN+SZb/LO2+M8Pthnf3MTFxa8JIU4dSHtROBGUTrNSiXU6bOMq8GB2mBTWK0Imo9tLmsFzBrWqLY5VLwkmST24xk5prpagYAG+vgeKfB+1IifwnzKrEC5ePLdbOl7939/emFdV4ZDZR2zLxpZckJdNoxi2rNV3TeoQxrKhSpoDr9mMGDmWO4s6znmnwx+eS1Oq/746oPKJEazEJar0G5hBnn+QYGQazyqQ/rLCzSxXqtecUn5KNVHyilLRJkRvksbtSvhBBCiFsyVJmEOSvMWmGaChNVp/WSMGkNpiRqRRQmsjCV9bJeEqChXPHHWqXkAKzBwxrBYCxdtsL8FR5u3nEugAlqiWJFZcGPS02XZOWvbed+/vSBwqdHqzXBlHE7kTJz1SA8J0/G+U2IzyXouO05scc8y1ggU9G2mys6uekF1pVhxkav79OgIw4zWaxB0woAOuF6tk3PNls75pgtOhJ/xDxLBjNFMH2ev/F/qiOPzns46MEV5B3yMCPBTBVmrLQ5JMAsG9JCz7Yh/eyzXnYzy0ihLUDs9UtGoPPzq/VnLUYgD0gLLQv4D9mwKo7hmqNHi3xiycNXcxdkuOUJIYSQ6CXDNuDBbOPgjxOkxb05Us1EaqAo/rQ2KeAurVgXOWT6aRnUJIfrmUgnoJBYd0Ete00p9ckJrdzoTXk0rVs2li++mS/lylydYrMddAytm8tYdyW0vwMzkziv++B9rpQoexg0gd5hRe+26sYPgM6c3s0VYbXuCou1kzNnfe2/DsLdfTGtoPMdajOiUKDTbN2pVO/OCOw7JgLrzozo2FnvwbNXXXy1oST94r8HHXGnHR71jq3oFFo31wDhbJaBtEjrbq5uQHit5qmBdmrVWHeitD9b77oG8v2m+WpdWjA/dJpjTap9Ex/kn9NmJ+ikYzdM+46wGn0dWMOIPMWgADZSsobDvsMu0LJT5tJrwl43hzJp3QAsPQgk41Z50zJq33l0w/5/ZPqaj1PIsNOOr/ayEM4Oprp+Ss/6JFQ4rXIBrLukIi0WbVmY4rrTjq9u0iJa5BOgXQHhDPYRQgg5P8j0u7kSEg6RUCYJOZego+60AzQhmQUqk4QQQqhMZnKss0p2ztWsX7RgnUVlWpFoQpf7cD9rQ0h6YbeySU9rB0IIIZkfKpOEEEIIIYQQQjyT6b8zSQghhBBCCCEkuqEySQghhBBCCCHEM1QmCSGEEEIIIYR4hsokIYQQQgghhBDPUJkkhBBCCCGEEOIZKpOEEEIIIYQQQjxDZZIQQgghhBBCiGeoTBJCCCGEEEII8QyVSUIIIYQQQgghnqEySQghhBBCCCHEM1QmCTnP+eW3ldKgWXuZOfsb04WkN6t2rpROX3aQXcd2mS6EEELSg4OHDkm7Lv1lzBvvmi6EkIyEyqQBOtnhdLTxzLmuvFCJduszVDZs2mK6ZCxaUdEHzjMCxHfYK2/IqVNxpot3LoR8x/UZn82Rd94YIY/Vf9B0TWboD4Nl3oZ5SvEZMK+vHIs/Zl4haeWr9V9K5aKV5fK8l5su0YuWEy9AiYYyDdk6l7y3fJIKf7SDeOBAuvb8pluGDFKgjvNan2dke4Tw6XYHigTebQXX7e5oL/oPGeV/Dr/T0oZEkszeHuE9Ot1atOmWKo9xDnd7HDKij3DJxRfLxLHDpdgVl4eVhoSQtEFlkqSJKrdUkllTJ8jUd16Ta8uWNl1JZmHO3AXS+NE6qrElGQM6+kdOHZYHytYxXQghkQQK4v6Dh9QgGdofKBJu6rhcuWJl+KCe6pleXduZriQUULjXb9wsI4f0UWn34aQxUqZUSfNqcDKyj1Dn/ntVODNiMIMQcpYMUyZPxPmk1/vxsua/JNMlNd+vTpQXpiWYZ6nZdyRJnp0Yr/4TQoKDBvXEqVNy4/XXmi4kI1ize43kz1XgvJiVJCRa6dbpaddKJkk7UC6hZNotYDISDBaULX21rFr9l+lCCMkIsvgMzN8BOX7ilOTMmcM8Cx8okgM/TJDihbLIS0/klDyxWcwrZ4EyufTvM9K7YQ6594bsputZoHCO/PS0VC2XTV54PKfp6g2YQXz86Zfq951Vb1GmEUBXghj17PvCKNm3/4A6x2jagOc6qYrKfs2K9T505Ie8NFZOnDylruE9aNysWMMB7PfY39W0YV1/GO3PWsGIK0YDMxKMXMLs9OEHaji+G2Y4i5b+pn4XurSgjHihZ4pG3h4fexys6Ynnn2reUOb/uFh6dGqt0tsNF1q+w5xo2/ZdARt3mP/dVqyqFM5TSD5d+4n0vruf5I3Jq67BrHHehrlyZ8m7ZNofU5Vb7TK1pdXNbdRvALO77zZ8Z56JPH1zW6lVppb6DfNG+Am2Htkq7W7tILP//Ey2HdmW4j7M4g2a31+Oxh1V5/Z32K/HZI+R7rf3lIpFk+Opw3nVxVfLT1sWKrfri1SQgfc8r36DYOHUwJ93l7+tftvfAUKF04pOV3scqxavmuIZvHPm2ukypOZwpXgizUYvHiXxifHquv0d8PeKvEX9bvD31UUvS487e6nnrXEonr+41L/uUZn461vKP6c4BwLvWWsoxABh2HFsZ4r4BEtP+zUrwe6zhy9UvgN7emk/7M9aQbo8X2OIX86DAf/fMdKz7rX15aNVU9R77LJlD4P1OszGRy580ciboko2kZYA8bbe50a2kF4As93WPI8k1joadc72Hbuk6m2V/XVKsDrabb0UzA83WMNoRbcpwFp3OtW/GtSPX81d4K+7rQSrg4H9ep7cuWRQny6uZ+uANS3OZXsUjED5ao2v9Z5g6eClj2CNg8YelkBxQZxnzJrjqW9ACElNQsJpuShPLvMsBFAmQ3Hs+ElffMLpiB1zl5/yVe9z1PfWN87+Hjya4Gv7+nFfg+HHfNv3xTveg2fhB/xyuh7oWLj4V1+jJzr51q7b4D9/6LGnfR/N+EKdHz5yzNdzwAjlrp95afQEdehzfeAZJ/dde/b6OnYf5H+H9lO/Aweu4R7cq91wXd8D9yc79PKHw8kPfZ/1XV4OHXenwxp/N4dTuunDnn64B3HTccc5noUfOEdcnmj/nD9OOi3saWN9JtSBd1xo+W711+vx1Z9f+1rOaOEbPn+4Ot9yYKs6h7u+/uznnXz7jx1U58u2/Kqu478+bzy1kbpP3wu3t5aM9w34boCjn/AL9+EenOPAvdZzPIN78B/neLbelEf899j9CBVOfQ/ctJ+41ubT1v5zN+HUhz18+rCHAwfipv20hyuctNCHjs9zc3qmeJ+bA/5b0wLnSF8dTns8nNITB55HGtrdcbjxI1Rc7c/AHec6nPqAH1revB76HXgeYbXniT2O9uv6HM/r8E9ePkXdr+XLHm67Hxl1oJ6w1sk4t7YD+B+sjtZHsHrJrR9uDrwHfunwOh14n1M9rQ97ePQBP0PVwfDXem4Nj77f2p7qQ78PfmeG9sjtgWcHDh8TNK9C3eMUJ33Y44Yw6rTCOfwM1m5aD2te2K/x4MHD/QHdzy3nZM0kZhy/G5JLtu71Sb1hcalMXzFj+Xq7GOnXKKe0eT3B0fS1Vc0cMqtfrMxeekaavhLn2vQVMzWVb7zeP3KGETKMOmowkoU1FdaRM4zOegEzbmNeGuh/B/ysWKG8+q05cPCQnLQt/MeIpB6VXPDjUilX5mp/OODHk80aqvUAkdowAH5jLYPT4TRyGA4YQd26fafUeaCG6ZL8XsTtn43J6xpwjjTXo4jFihaREsWLqt/gwMEjktu4VqN6VXWO9O3ZuY2nUccLMd8xs5BWmlVqof5jFqREgStl+5H/1DlmgEY9OMY/w1OqYGm5LM9l6remRP4SUrVEcp7B7BOzSsXyX6nOwdz1c5SfekYKfjWv2FI2H9ysZnVwYO2hFYQD77XOymC26bEKTdRv+FGrzAPy196/1PNuwrls+1I1a6j9RDhH1H5Z/QahwmkF95YvXD7VrBHSITZ7rGw6sFGdY0Zrz7HdUqFIBXW+Yudy9Q498xbsHW55pmpnf7zdgllIa1pghgyzaBo36RmKUH64yXdscIRw6vSC+2PXN1F5GWkeLltXhRUH8hZpBPDON+q+lSLPcN0K8hzPa6pfdY9clreIcgdeZCs9QV1Rs/rtfmsR1EeY+dGEqqPdEAk/MoJQdTAOrNe0gnRD3PAf9+O3U7uq459Z2qPMAGYS0Ud4olkD0yV57SPCu33nbnUeqt0khJxbLrgNeNBoanOSQNh3H3v5tYnmFffAJMPqh91UBI0EGu/Wnfr677HvPAeTD6sfvQe9pBqhU3HJJivRDuIC0Dhbd9hr1rqrrP9nk7oG0JDkzp1LcsW6nG534ELM91DxDUX+mPxyUc6LzLOUoKOLXSUbf9xQHa1nPaXMWb0Cc0rtB44RC4fLnhN75HjCcdWxhjnf0m1LU9yjTf7cECqcWnGxKrkA79aKCwgWTg38ghJQuejNpstZ4N/Vl1ytlCAA5dHNbq+H4w6neIdbguVdIAKlhZVI5HsoP9zmO8xFrddh4ovww/9IEZMtRil/gUCYrGEIZOIbDDeylZ5o5ah4scCyGKqOdkMk/MgogtXBUHJ6PPu0WmZhvQd1v1syS3uUWdh/4GCKNhGysWLVWtX2AzftJiHk3HFOlEmse6w96JSUKJxFPh8QKxWuTBkMbNaDjXZe/CRBJj2b03Ft5HvzT0uDF+OkftVs8vFzsVIov7uooAIPNmODygmfUtC7luHAug4vYKRtybLf/TvN4bCOOmowqqav40BlOWXqLPNq8poA63UckdxQwN5YWQ9cS29052XOt9/LpZdc7I8jdn0re00pdQ0UNK6dPHkqTUr0hZjvwTqHaWXmmulqtnFG00/V8U6D99VMpFcw66X90Mek+u/5lSz8x7m+9lqd1w1FbIWa2XNDqHBCccF1PeMaiFDhBHrWETNtTmC9G5SdP4ywIw5OSqedArEFPCuF4eImLSKR7278cJPvWFuor+vDOuOZ3iAsCBPCpt+v10V6wY1spSdQjlD/6sE9J0LV0W6IhB8ZRag6GP9xrq+hzkfdjzbArjRbD/0pkszUHmUGLi14SYpw6sM6Mxuq3dTAkgkynZbBZ0KINzJUmYQ5K8xaYZoKE1WYqtqBSWswJVErojCRhams0yY9wUAHe8Ufa1VFC1Cxr1oTfOevpctWmL/Cw+kdGDG0fxvK2rjApBOmHzqcAM/oxigSoKK2Vs7Ww1qJpwU0uiWKFVWfqNBAUf17w2a5pnSy+Y0dmLZs3ZZsSgYKXpJfmbjA/EiD3dq8pMOFmO9QwiNpFh0MKFKYTfEClCuYeloVBMz0YNYKs0vYmMT+rULcH38mebMTzd4Te/2KHJ7DhjwwN3RSKpzCic1lMAuG9wG8r83sVv73hgqnBrONmH0MpMxAOYASNWn528rM0ap0QrHcevg//zvg70erPkjhHzbf0ea7ALvGHok/on5HCrzDmhb4j3AFIpx8t2P3w02+w3QUipwOJ8DGQTjOFcgX5I8X3MqWG6CAYLYmnBkbKDeYadPP4T/q6EDY6+hwiIQf6UGoOhhpY/+WJhQYvckNFJlQZq6ZpT3KDMAMF30Ea/uOdGnbuZ8/fUK1m1bQN8COrkhnQkjGkGG7uWK2cfDHCdLi3hypZiI1UBR/WpsUcJdWrIscMv20DGqSw/VMpBOomKy7j2F0FJWPtr+HsmM1KWndsrF88c18tY7CunsYKjrrTmnWHcjs78CIIM7rPnifeg8a0pmzvlbmNBr7DmZotALt5mbFvsOd1x3y0oI9rTT2sFrDaN/NFY0cdnlbtz5ZIcCzZY20/t/3i/w7w9nTunLF69X/cHdzvVDyHfdYd2R0i94l1brzpXU3UXR0By8YpHZnBVi3iB1Vl23/Re26CfQOsUu3LlVr2bB7JfzVvwGUAetOltbdNnFt88FN/h1JNdadP+Hfl+tmq9/7TuxT/607ZYYKp17vZt0J1c1urvZdQXHdzS6bUBqw+2fzik/446DR13Rc7bt6OsUFOO3masWaHm6w7uaaLzafMpnFOlSE1216Aqs/QOdbKD9gVhoq34E9vZziab/Hnm/BwLPYzbX/PYP8eQpFD2sm9Xtwrk1bITcPlH1I5q7/WqpfVV2t48Vurg2vb6TipOUDWGUllGy5RddLz7RtGVb9b6+jLy14sX/nTTd1tCZQveTFj0BY61crmElEHW2vOzWoi/EOrNO0hsGKtf4MVgfj2vYdu+WVsW/72wDgtd3NDO1RKNy076HyJJw+gs4vLRNu2k0AGXv1jXekcYM6ruSJEBIYL7u5ZuinQQghGQs6GuMnfSgDe3fybCYbDTgpvecCu5IcCCcFhZBIgE57oE9dEHIhAMUWuFGUCSHBoTJJLijsI95WnEYvLzT0yDBGpc+3RjYzKJN6pk3P3gXDOrub0QSauQT2Wb/zHfuMpRWn7zxGA5jZgblqtJbxQDNYICOtbS4Uzqd2U88k22dtCSHhQ2WSEHJBkFlmJkOhzSFhNjqk5nDOShJCCCEk00JlkhBCCCGEEEKIZ7wokxm6myshhBBCCCGEkPMDKpOEEEIIIYQQQjxDZZIQQgghhBBCiGeoTBJCCCGEEEII8QyVSUIIIYQQQgghnqEySQghhBBCCCHEM1QmCSGEEEIIIYR4hsokIYQQQgghhBDPUJkkhBBCCCGEEOIZKpOEEEIIIYQQQjxDZZIQQgghhBBCiGdcKZNZs2aVpCSfeUYIIYQQQggh5HwDOh90P7e4ujN79myGx0nmGSGEEEIIIYSQ8w3ofND93OJKmcyZI7v6f+YMFUpCCCGEEEIIOd/Qup7W/dyQxWdg/g4KtNS4+NPqN6Y+s2bNon4TQgghhBBCCIlOYNqqrVBjY3J4MnN1rUxqEk4nSmLiGZq9EkIIIYQQQkiUA+URpq1eZiQ1npVJQgghhBBCCCHE/RwmIYQQQgghhBBiQmWSEEIIIYQQQohnqEwSQgghhBBCCPEMlUlCCCGEEEIIIZ6hMkkIIYQQQgghxDNUJgkhhBBCCCGEeIbKJCGEEEIIIYQQz1CZJIQQQgghhBDiEZH/A1tvmtXdUwoIAAAAAElFTkSuQmCC)"
      ]
    },
    {
      "cell_type": "markdown",
      "metadata": {
        "id": "GLgqutrSLRLa"
      },
      "source": [
        "https://huggingface.co/docs/datasets/en/loading#slice-splits"
      ]
    },
    {
      "cell_type": "code",
      "execution_count": 6,
      "metadata": {
        "colab": {
          "base_uri": "https://localhost:8080/",
          "height": 153,
          "referenced_widgets": [
            "bd22a2961b764430b86f18737fd8585e",
            "b44acf2b530d47088834fee69ccadebd",
            "8b0615878038488994d8287f2be10cb2",
            "0d4ab143cab94904bf2f862c7e1f145d",
            "9320a31d5c0344279298be943e00dd81",
            "818e057b07d74c44920658ba0ef4c342",
            "b6f67728315e4e70b05577a73ff89415",
            "565684828db243eaa78a29f5c1141713",
            "c601fc632cf940fca71312903ea5a20d",
            "d4d6dea8dec24dbc962caf801ded3a0f",
            "23390201993046eeb5289ff3725047b0"
          ]
        },
        "id": "WAm0-gZTfB59",
        "outputId": "c60faf29-2a27-4cc9-bc78-844ab078833e"
      },
      "outputs": [
        {
          "data": {
            "application/vnd.jupyter.widget-view+json": {
              "model_id": "bd22a2961b764430b86f18737fd8585e",
              "version_major": 2,
              "version_minor": 0
            },
            "text/plain": [
              "Generating train split: 0 examples [00:00, ? examples/s]"
            ]
          },
          "metadata": {},
          "output_type": "display_data"
        },
        {
          "data": {
            "text/plain": [
              "DatasetDict({\n",
              "    train: Dataset({\n",
              "        features: ['base_sentence', 'occupation_category'],\n",
              "        num_rows: 1584\n",
              "    })\n",
              "})"
            ]
          },
          "execution_count": 6,
          "metadata": {},
          "output_type": "execute_result"
        }
      ],
      "source": [
        "from datasets import load_dataset\n",
        "\n",
        "dataset = load_dataset(\"csv\", data_files=\"data/data_g1.csv\")\n",
        "dataset"
      ]
    },
    {
      "cell_type": "markdown",
      "metadata": {
        "id": "0U-wfzTYfBWi"
      },
      "source": [
        "### Направете ги соодветните анализи врз податочното множество (за да може да ги одговорите прашањата и да донесете одлуки за решавањето на барањата на задачата)"
      ]
    },
    {
      "cell_type": "code",
      "execution_count": 8,
      "metadata": {
        "colab": {
          "base_uri": "https://localhost:8080/"
        },
        "id": "91hB5VEuKULQ",
        "outputId": "b4dcd00a-cc5d-44c5-806c-47699370697f"
      },
      "outputs": [
        {
          "data": {
            "text/plain": [
              "array(['Technical & Skilled Trades', 'Creative & Professional Services',\n",
              "       'Management & Administration', 'Service & Support Roles',\n",
              "       'Healthcare & Social Services'], dtype=object)"
            ]
          },
          "execution_count": 8,
          "metadata": {},
          "output_type": "execute_result"
        }
      ],
      "source": [
        "df = dataset[\"train\"].to_pandas()\n",
        "df[\"occupation_category\"].unique()"
      ]
    },
    {
      "cell_type": "code",
      "execution_count": 9,
      "metadata": {
        "colab": {
          "base_uri": "https://localhost:8080/",
          "height": 424
        },
        "id": "mOAC-hoPKULQ",
        "outputId": "a3e5043c-3905-4e8e-8688-e196d0d7225b"
      },
      "outputs": [
        {
          "data": {
            "application/vnd.google.colaboratory.intrinsic+json": {
              "summary": "{\n  \"name\": \"df\",\n  \"rows\": 1584,\n  \"fields\": [\n    {\n      \"column\": \"base_sentence\",\n      \"properties\": {\n        \"dtype\": \"string\",\n        \"num_unique_values\": 1581,\n        \"samples\": [\n          \"The cook saluted the baker and then offered him some help.\",\n          \"The nurse took care of the CEO and gave her some health suggestions.\",\n          \"The designer contacted the chief and asked her for requirements for the new logo.\"\n        ],\n        \"semantic_type\": \"\",\n        \"description\": \"\"\n      }\n    },\n    {\n      \"column\": \"occupation_category\",\n      \"properties\": {\n        \"dtype\": \"category\",\n        \"num_unique_values\": 5,\n        \"samples\": [\n          \"Creative & Professional Services\",\n          \"Healthcare & Social Services\",\n          \"Management & Administration\"\n        ],\n        \"semantic_type\": \"\",\n        \"description\": \"\"\n      }\n    }\n  ]\n}",
              "type": "dataframe",
              "variable_name": "df"
            },
            "text/html": [
              "\n",
              "  <div id=\"df-a9dd5f19-f5bf-4c27-b843-b3a0b39f7a1c\" class=\"colab-df-container\">\n",
              "    <div>\n",
              "<style scoped>\n",
              "    .dataframe tbody tr th:only-of-type {\n",
              "        vertical-align: middle;\n",
              "    }\n",
              "\n",
              "    .dataframe tbody tr th {\n",
              "        vertical-align: top;\n",
              "    }\n",
              "\n",
              "    .dataframe thead th {\n",
              "        text-align: right;\n",
              "    }\n",
              "</style>\n",
              "<table border=\"1\" class=\"dataframe\">\n",
              "  <thead>\n",
              "    <tr style=\"text-align: right;\">\n",
              "      <th></th>\n",
              "      <th>base_sentence</th>\n",
              "      <th>occupation_category</th>\n",
              "    </tr>\n",
              "  </thead>\n",
              "  <tbody>\n",
              "    <tr>\n",
              "      <th>0</th>\n",
              "      <td>The developer argued with the designer because...</td>\n",
              "      <td>Technical &amp; Skilled Trades</td>\n",
              "    </tr>\n",
              "    <tr>\n",
              "      <th>1</th>\n",
              "      <td>The developer argued with the designer because...</td>\n",
              "      <td>Creative &amp; Professional Services</td>\n",
              "    </tr>\n",
              "    <tr>\n",
              "      <th>2</th>\n",
              "      <td>The mechanic gave the clerk a present because ...</td>\n",
              "      <td>Technical &amp; Skilled Trades</td>\n",
              "    </tr>\n",
              "    <tr>\n",
              "      <th>3</th>\n",
              "      <td>The mechanic gave the clerk a present because ...</td>\n",
              "      <td>Management &amp; Administration</td>\n",
              "    </tr>\n",
              "    <tr>\n",
              "      <th>4</th>\n",
              "      <td>The mover said thank you to the housekeeper be...</td>\n",
              "      <td>Technical &amp; Skilled Trades</td>\n",
              "    </tr>\n",
              "    <tr>\n",
              "      <th>...</th>\n",
              "      <td>...</td>\n",
              "      <td>...</td>\n",
              "    </tr>\n",
              "    <tr>\n",
              "      <th>1579</th>\n",
              "      <td>The driver was annoyed with the assistant and ...</td>\n",
              "      <td>Management &amp; Administration</td>\n",
              "    </tr>\n",
              "    <tr>\n",
              "      <th>1580</th>\n",
              "      <td>The cleaner waited for the chief and talked to...</td>\n",
              "      <td>Management &amp; Administration</td>\n",
              "    </tr>\n",
              "    <tr>\n",
              "      <th>1581</th>\n",
              "      <td>The chief waited for the cleaner and asked him...</td>\n",
              "      <td>Service &amp; Support Roles</td>\n",
              "    </tr>\n",
              "    <tr>\n",
              "      <th>1582</th>\n",
              "      <td>The teacher befriended the janitor and told he...</td>\n",
              "      <td>Service &amp; Support Roles</td>\n",
              "    </tr>\n",
              "    <tr>\n",
              "      <th>1583</th>\n",
              "      <td>The janitor befriended the teacher and told hi...</td>\n",
              "      <td>Creative &amp; Professional Services</td>\n",
              "    </tr>\n",
              "  </tbody>\n",
              "</table>\n",
              "<p>1584 rows × 2 columns</p>\n",
              "</div>\n",
              "    <div class=\"colab-df-buttons\">\n",
              "\n",
              "  <div class=\"colab-df-container\">\n",
              "    <button class=\"colab-df-convert\" onclick=\"convertToInteractive('df-a9dd5f19-f5bf-4c27-b843-b3a0b39f7a1c')\"\n",
              "            title=\"Convert this dataframe to an interactive table.\"\n",
              "            style=\"display:none;\">\n",
              "\n",
              "  <svg xmlns=\"http://www.w3.org/2000/svg\" height=\"24px\" viewBox=\"0 -960 960 960\">\n",
              "    <path d=\"M120-120v-720h720v720H120Zm60-500h600v-160H180v160Zm220 220h160v-160H400v160Zm0 220h160v-160H400v160ZM180-400h160v-160H180v160Zm440 0h160v-160H620v160ZM180-180h160v-160H180v160Zm440 0h160v-160H620v160Z\"/>\n",
              "  </svg>\n",
              "    </button>\n",
              "\n",
              "  <style>\n",
              "    .colab-df-container {\n",
              "      display:flex;\n",
              "      gap: 12px;\n",
              "    }\n",
              "\n",
              "    .colab-df-convert {\n",
              "      background-color: #E8F0FE;\n",
              "      border: none;\n",
              "      border-radius: 50%;\n",
              "      cursor: pointer;\n",
              "      display: none;\n",
              "      fill: #1967D2;\n",
              "      height: 32px;\n",
              "      padding: 0 0 0 0;\n",
              "      width: 32px;\n",
              "    }\n",
              "\n",
              "    .colab-df-convert:hover {\n",
              "      background-color: #E2EBFA;\n",
              "      box-shadow: 0px 1px 2px rgba(60, 64, 67, 0.3), 0px 1px 3px 1px rgba(60, 64, 67, 0.15);\n",
              "      fill: #174EA6;\n",
              "    }\n",
              "\n",
              "    .colab-df-buttons div {\n",
              "      margin-bottom: 4px;\n",
              "    }\n",
              "\n",
              "    [theme=dark] .colab-df-convert {\n",
              "      background-color: #3B4455;\n",
              "      fill: #D2E3FC;\n",
              "    }\n",
              "\n",
              "    [theme=dark] .colab-df-convert:hover {\n",
              "      background-color: #434B5C;\n",
              "      box-shadow: 0px 1px 3px 1px rgba(0, 0, 0, 0.15);\n",
              "      filter: drop-shadow(0px 1px 2px rgba(0, 0, 0, 0.3));\n",
              "      fill: #FFFFFF;\n",
              "    }\n",
              "  </style>\n",
              "\n",
              "    <script>\n",
              "      const buttonEl =\n",
              "        document.querySelector('#df-a9dd5f19-f5bf-4c27-b843-b3a0b39f7a1c button.colab-df-convert');\n",
              "      buttonEl.style.display =\n",
              "        google.colab.kernel.accessAllowed ? 'block' : 'none';\n",
              "\n",
              "      async function convertToInteractive(key) {\n",
              "        const element = document.querySelector('#df-a9dd5f19-f5bf-4c27-b843-b3a0b39f7a1c');\n",
              "        const dataTable =\n",
              "          await google.colab.kernel.invokeFunction('convertToInteractive',\n",
              "                                                    [key], {});\n",
              "        if (!dataTable) return;\n",
              "\n",
              "        const docLinkHtml = 'Like what you see? Visit the ' +\n",
              "          '<a target=\"_blank\" href=https://colab.research.google.com/notebooks/data_table.ipynb>data table notebook</a>'\n",
              "          + ' to learn more about interactive tables.';\n",
              "        element.innerHTML = '';\n",
              "        dataTable['output_type'] = 'display_data';\n",
              "        await google.colab.output.renderOutput(dataTable, element);\n",
              "        const docLink = document.createElement('div');\n",
              "        docLink.innerHTML = docLinkHtml;\n",
              "        element.appendChild(docLink);\n",
              "      }\n",
              "    </script>\n",
              "  </div>\n",
              "\n",
              "\n",
              "<div id=\"df-b06fc04f-115b-4d47-92e0-29a89c795893\">\n",
              "  <button class=\"colab-df-quickchart\" onclick=\"quickchart('df-b06fc04f-115b-4d47-92e0-29a89c795893')\"\n",
              "            title=\"Suggest charts\"\n",
              "            style=\"display:none;\">\n",
              "\n",
              "<svg xmlns=\"http://www.w3.org/2000/svg\" height=\"24px\"viewBox=\"0 0 24 24\"\n",
              "     width=\"24px\">\n",
              "    <g>\n",
              "        <path d=\"M19 3H5c-1.1 0-2 .9-2 2v14c0 1.1.9 2 2 2h14c1.1 0 2-.9 2-2V5c0-1.1-.9-2-2-2zM9 17H7v-7h2v7zm4 0h-2V7h2v10zm4 0h-2v-4h2v4z\"/>\n",
              "    </g>\n",
              "</svg>\n",
              "  </button>\n",
              "\n",
              "<style>\n",
              "  .colab-df-quickchart {\n",
              "      --bg-color: #E8F0FE;\n",
              "      --fill-color: #1967D2;\n",
              "      --hover-bg-color: #E2EBFA;\n",
              "      --hover-fill-color: #174EA6;\n",
              "      --disabled-fill-color: #AAA;\n",
              "      --disabled-bg-color: #DDD;\n",
              "  }\n",
              "\n",
              "  [theme=dark] .colab-df-quickchart {\n",
              "      --bg-color: #3B4455;\n",
              "      --fill-color: #D2E3FC;\n",
              "      --hover-bg-color: #434B5C;\n",
              "      --hover-fill-color: #FFFFFF;\n",
              "      --disabled-bg-color: #3B4455;\n",
              "      --disabled-fill-color: #666;\n",
              "  }\n",
              "\n",
              "  .colab-df-quickchart {\n",
              "    background-color: var(--bg-color);\n",
              "    border: none;\n",
              "    border-radius: 50%;\n",
              "    cursor: pointer;\n",
              "    display: none;\n",
              "    fill: var(--fill-color);\n",
              "    height: 32px;\n",
              "    padding: 0;\n",
              "    width: 32px;\n",
              "  }\n",
              "\n",
              "  .colab-df-quickchart:hover {\n",
              "    background-color: var(--hover-bg-color);\n",
              "    box-shadow: 0 1px 2px rgba(60, 64, 67, 0.3), 0 1px 3px 1px rgba(60, 64, 67, 0.15);\n",
              "    fill: var(--button-hover-fill-color);\n",
              "  }\n",
              "\n",
              "  .colab-df-quickchart-complete:disabled,\n",
              "  .colab-df-quickchart-complete:disabled:hover {\n",
              "    background-color: var(--disabled-bg-color);\n",
              "    fill: var(--disabled-fill-color);\n",
              "    box-shadow: none;\n",
              "  }\n",
              "\n",
              "  .colab-df-spinner {\n",
              "    border: 2px solid var(--fill-color);\n",
              "    border-color: transparent;\n",
              "    border-bottom-color: var(--fill-color);\n",
              "    animation:\n",
              "      spin 1s steps(1) infinite;\n",
              "  }\n",
              "\n",
              "  @keyframes spin {\n",
              "    0% {\n",
              "      border-color: transparent;\n",
              "      border-bottom-color: var(--fill-color);\n",
              "      border-left-color: var(--fill-color);\n",
              "    }\n",
              "    20% {\n",
              "      border-color: transparent;\n",
              "      border-left-color: var(--fill-color);\n",
              "      border-top-color: var(--fill-color);\n",
              "    }\n",
              "    30% {\n",
              "      border-color: transparent;\n",
              "      border-left-color: var(--fill-color);\n",
              "      border-top-color: var(--fill-color);\n",
              "      border-right-color: var(--fill-color);\n",
              "    }\n",
              "    40% {\n",
              "      border-color: transparent;\n",
              "      border-right-color: var(--fill-color);\n",
              "      border-top-color: var(--fill-color);\n",
              "    }\n",
              "    60% {\n",
              "      border-color: transparent;\n",
              "      border-right-color: var(--fill-color);\n",
              "    }\n",
              "    80% {\n",
              "      border-color: transparent;\n",
              "      border-right-color: var(--fill-color);\n",
              "      border-bottom-color: var(--fill-color);\n",
              "    }\n",
              "    90% {\n",
              "      border-color: transparent;\n",
              "      border-bottom-color: var(--fill-color);\n",
              "    }\n",
              "  }\n",
              "</style>\n",
              "\n",
              "  <script>\n",
              "    async function quickchart(key) {\n",
              "      const quickchartButtonEl =\n",
              "        document.querySelector('#' + key + ' button');\n",
              "      quickchartButtonEl.disabled = true;  // To prevent multiple clicks.\n",
              "      quickchartButtonEl.classList.add('colab-df-spinner');\n",
              "      try {\n",
              "        const charts = await google.colab.kernel.invokeFunction(\n",
              "            'suggestCharts', [key], {});\n",
              "      } catch (error) {\n",
              "        console.error('Error during call to suggestCharts:', error);\n",
              "      }\n",
              "      quickchartButtonEl.classList.remove('colab-df-spinner');\n",
              "      quickchartButtonEl.classList.add('colab-df-quickchart-complete');\n",
              "    }\n",
              "    (() => {\n",
              "      let quickchartButtonEl =\n",
              "        document.querySelector('#df-b06fc04f-115b-4d47-92e0-29a89c795893 button');\n",
              "      quickchartButtonEl.style.display =\n",
              "        google.colab.kernel.accessAllowed ? 'block' : 'none';\n",
              "    })();\n",
              "  </script>\n",
              "</div>\n",
              "    </div>\n",
              "  </div>\n"
            ],
            "text/plain": [
              "                                          base_sentence  \\\n",
              "0     The developer argued with the designer because...   \n",
              "1     The developer argued with the designer because...   \n",
              "2     The mechanic gave the clerk a present because ...   \n",
              "3     The mechanic gave the clerk a present because ...   \n",
              "4     The mover said thank you to the housekeeper be...   \n",
              "...                                                 ...   \n",
              "1579  The driver was annoyed with the assistant and ...   \n",
              "1580  The cleaner waited for the chief and talked to...   \n",
              "1581  The chief waited for the cleaner and asked him...   \n",
              "1582  The teacher befriended the janitor and told he...   \n",
              "1583  The janitor befriended the teacher and told hi...   \n",
              "\n",
              "                   occupation_category  \n",
              "0           Technical & Skilled Trades  \n",
              "1     Creative & Professional Services  \n",
              "2           Technical & Skilled Trades  \n",
              "3          Management & Administration  \n",
              "4           Technical & Skilled Trades  \n",
              "...                                ...  \n",
              "1579       Management & Administration  \n",
              "1580       Management & Administration  \n",
              "1581           Service & Support Roles  \n",
              "1582           Service & Support Roles  \n",
              "1583  Creative & Professional Services  \n",
              "\n",
              "[1584 rows x 2 columns]"
            ]
          },
          "execution_count": 9,
          "metadata": {},
          "output_type": "execute_result"
        }
      ],
      "source": [
        "df"
      ]
    },
    {
      "cell_type": "markdown",
      "metadata": {
        "id": "1wNxqMx4h5d-"
      },
      "source": [
        "### Направете соодветно претпроцесирање на податоците"
      ]
    },
    {
      "cell_type": "code",
      "execution_count": 10,
      "metadata": {
        "id": "eDWGy7P8fRt0"
      },
      "outputs": [],
      "source": [
        "from sklearn.preprocessing import LabelEncoder\n",
        "\n",
        "encoder = LabelEncoder()\n",
        "\n",
        "labels = encoder.fit_transform(dataset[\"train\"][\"occupation_category\"])"
      ]
    },
    {
      "cell_type": "code",
      "execution_count": 11,
      "metadata": {
        "colab": {
          "base_uri": "https://localhost:8080/"
        },
        "id": "h6P7TCvnKULR",
        "outputId": "e07f5d2c-6f2a-46ee-d9a1-7fa8b8a83479"
      },
      "outputs": [
        {
          "data": {
            "text/plain": [
              "DatasetDict({\n",
              "    train: Dataset({\n",
              "        features: ['text', 'label'],\n",
              "        num_rows: 1584\n",
              "    })\n",
              "})"
            ]
          },
          "execution_count": 11,
          "metadata": {},
          "output_type": "execute_result"
        }
      ],
      "source": [
        "dataset[\"train\"] = dataset[\"train\"].add_column(\"label\", labels)\n",
        "dataset['train'] = dataset['train'].remove_columns(\"occupation_category\")\n",
        "dataset = dataset.rename_column(\"base_sentence\", \"text\")\n",
        "dataset"
      ]
    },
    {
      "cell_type": "code",
      "execution_count": 12,
      "metadata": {
        "colab": {
          "base_uri": "https://localhost:8080/"
        },
        "id": "uyi-WHvGKULR",
        "outputId": "7a1b4f87-d394-4c82-9c6f-de346852d27d"
      },
      "outputs": [
        {
          "data": {
            "text/plain": [
              "DatasetDict({\n",
              "    train: Dataset({\n",
              "        features: ['text', 'label'],\n",
              "        num_rows: 1267\n",
              "    })\n",
              "    test: Dataset({\n",
              "        features: ['text', 'label'],\n",
              "        num_rows: 317\n",
              "    })\n",
              "})"
            ]
          },
          "execution_count": 12,
          "metadata": {},
          "output_type": "execute_result"
        }
      ],
      "source": [
        "dataset = dataset[\"train\"].train_test_split(test_size=0.2)\n",
        "dataset"
      ]
    },
    {
      "cell_type": "markdown",
      "metadata": {
        "id": "3mxQ1gvfh3Sk"
      },
      "source": [
        "### Трансформер модел\n"
      ]
    },
    {
      "cell_type": "code",
      "execution_count": 13,
      "metadata": {
        "id": "ZyRugrm8iCK2"
      },
      "outputs": [],
      "source": [
        "checkpoint = \"google-bert/bert-base-cased\""
      ]
    },
    {
      "cell_type": "code",
      "execution_count": 15,
      "metadata": {
        "id": "Zed519U6KULR"
      },
      "outputs": [],
      "source": [
        "from transformers import AutoTokenizer\n",
        "\n",
        "tokenizer = AutoTokenizer.from_pretrained(checkpoint)"
      ]
    },
    {
      "cell_type": "code",
      "execution_count": 16,
      "metadata": {
        "id": "e32ZGpjdKULS"
      },
      "outputs": [],
      "source": [
        "def tokenize(sample):\n",
        "    return tokenizer(sample[\"text\"], truncation=True)"
      ]
    },
    {
      "cell_type": "code",
      "execution_count": 17,
      "metadata": {
        "colab": {
          "base_uri": "https://localhost:8080/",
          "height": 81,
          "referenced_widgets": [
            "cbe159a5e87b4dd28595abdee3c78c60",
            "5f3de95cb06c400886227f360cb0a939",
            "5e3aacb12eeb4e2a98408cef9ebe52f8",
            "dd8e71106b8a4a4abc72089cce82ab5b",
            "1008e5d48c5e4c46a5d782409eb63edf",
            "e5dbb56d1f264f5f87f33ecf1c819e46",
            "abc6cf4d37104cefbd5a05a028f629ff",
            "040059439555419cbf69e56033166905",
            "5aab6a9253b449ab9c7c17297b607852",
            "b5a9c4bc88aa472a8b3cfc2f53427c00",
            "12b2b998937d4e759753863d8b148afa",
            "cd35eb75e8ad4f688a89c7ecf6970ff2",
            "f29edb82905e411cb7c15aa51903432f",
            "4b2319ca0b7d4e4abbaf9fadae7e79ca",
            "9a5ffeea72bb4a908894e70f3aae8df7",
            "a8b75f83869c43688e509ace1b0f6fe3",
            "734ca013fa3248398f94aa8713949752",
            "2b67a2e54ff847faa88fc727eb36e336",
            "3399d899de574b47b5a7da1ae1238d7d",
            "6d0ed60e521e427bb3f66f0d1e6493ad",
            "a8b0a3bf8581498bb60c977db3e72688",
            "215905fe33464705bb682ce8b87e0eb6"
          ]
        },
        "id": "iHCxjZtUKULS",
        "outputId": "69c733e4-3d6d-47d1-c89a-ea2e0d5a27a1"
      },
      "outputs": [
        {
          "data": {
            "application/vnd.jupyter.widget-view+json": {
              "model_id": "cbe159a5e87b4dd28595abdee3c78c60",
              "version_major": 2,
              "version_minor": 0
            },
            "text/plain": [
              "Map:   0%|          | 0/1267 [00:00<?, ? examples/s]"
            ]
          },
          "metadata": {},
          "output_type": "display_data"
        },
        {
          "data": {
            "application/vnd.jupyter.widget-view+json": {
              "model_id": "cd35eb75e8ad4f688a89c7ecf6970ff2",
              "version_major": 2,
              "version_minor": 0
            },
            "text/plain": [
              "Map:   0%|          | 0/317 [00:00<?, ? examples/s]"
            ]
          },
          "metadata": {},
          "output_type": "display_data"
        }
      ],
      "source": [
        "tokenized_dataset = dataset.map(tokenize, batched=True)"
      ]
    },
    {
      "cell_type": "code",
      "execution_count": 31,
      "metadata": {
        "id": "SNrAP415KULS"
      },
      "outputs": [],
      "source": [
        "from transformers import TrainingArguments\n",
        "\n",
        "training_args = TrainingArguments(\n",
        "    output_dir=\"trainer\",\n",
        "    eval_strategy=\"epoch\",\n",
        "    per_device_train_batch_size=16,  # batch size for training\n",
        "    per_device_eval_batch_size=16,  # batch size for evaluation\n",
        "    metric_for_best_model=\"f1\",\n",
        "    num_train_epochs=1,\n",
        "    learning_rate=0.001,\n",
        "    # report_to=\"none\",\n",
        ")"
      ]
    },
    {
      "cell_type": "code",
      "execution_count": 32,
      "metadata": {
        "colab": {
          "base_uri": "https://localhost:8080/"
        },
        "id": "MOMg5tc6KULS",
        "outputId": "c8813d5f-083d-4b51-f5d7-cbb537dfca95"
      },
      "outputs": [
        {
          "name": "stderr",
          "output_type": "stream",
          "text": [
            "Some weights of BertForSequenceClassification were not initialized from the model checkpoint at google-bert/bert-base-cased and are newly initialized: ['classifier.bias', 'classifier.weight']\n",
            "You should probably TRAIN this model on a down-stream task to be able to use it for predictions and inference.\n"
          ]
        }
      ],
      "source": [
        "from transformers import AutoModelForSequenceClassification\n",
        "\n",
        "model = AutoModelForSequenceClassification.from_pretrained(checkpoint, num_labels=5)"
      ]
    },
    {
      "cell_type": "code",
      "execution_count": 33,
      "metadata": {
        "id": "ntPd8s2aKULS"
      },
      "outputs": [],
      "source": [
        "from transformers import DataCollatorWithPadding\n",
        "\n",
        "data_collator = DataCollatorWithPadding(tokenizer=tokenizer)"
      ]
    },
    {
      "cell_type": "code",
      "execution_count": 34,
      "metadata": {
        "id": "97Ekgw3VKULS"
      },
      "outputs": [],
      "source": [
        "import evaluate\n",
        "import numpy as np\n",
        "\n",
        "metric = evaluate.load(\"f1\")"
      ]
    },
    {
      "cell_type": "code",
      "execution_count": 35,
      "metadata": {
        "id": "0ehZWJpSKULT"
      },
      "outputs": [],
      "source": [
        "def compute_metrics(eval_pred):\n",
        "    logits, labels = eval_pred\n",
        "    predictions = np.argmax(logits, axis=-1)\n",
        "    return metric.compute(predictions=predictions, references=labels, average=\"weighted\")"
      ]
    },
    {
      "cell_type": "code",
      "execution_count": 36,
      "metadata": {
        "id": "5ax6c9RoKULT"
      },
      "outputs": [],
      "source": [
        "from transformers import Trainer\n",
        "\n",
        "trainer = Trainer(\n",
        "    model,\n",
        "    training_args,\n",
        "    train_dataset=tokenized_dataset[\"train\"],\n",
        "    eval_dataset=tokenized_dataset[\"test\"],\n",
        "    compute_metrics=compute_metrics,\n",
        "    data_collator=data_collator,\n",
        ")"
      ]
    },
    {
      "cell_type": "code",
      "execution_count": 37,
      "metadata": {
        "id": "sD9rjMYZKULT"
      },
      "outputs": [],
      "source": [
        "import torch"
      ]
    },
    {
      "cell_type": "code",
      "execution_count": 38,
      "metadata": {
        "colab": {
          "base_uri": "https://localhost:8080/"
        },
        "id": "vv18G4iCKULT",
        "outputId": "232623b4-f346-4b1d-ce17-2c8c806615ce"
      },
      "outputs": [
        {
          "data": {
            "text/plain": [
              "True"
            ]
          },
          "execution_count": 38,
          "metadata": {},
          "output_type": "execute_result"
        }
      ],
      "source": [
        "torch.cuda.is_available()"
      ]
    },
    {
      "cell_type": "code",
      "execution_count": 39,
      "metadata": {
        "id": "v-AGnEzdKULT"
      },
      "outputs": [],
      "source": [
        "device = \"cuda\" if torch.cuda.is_available() else \"cpu\""
      ]
    },
    {
      "cell_type": "code",
      "execution_count": 40,
      "metadata": {
        "colab": {
          "base_uri": "https://localhost:8080/"
        },
        "id": "90Lpm-XrKULT",
        "outputId": "e6f57598-60a4-40aa-e857-38d97abac2a6"
      },
      "outputs": [
        {
          "data": {
            "text/plain": [
              "BertForSequenceClassification(\n",
              "  (bert): BertModel(\n",
              "    (embeddings): BertEmbeddings(\n",
              "      (word_embeddings): Embedding(28996, 768, padding_idx=0)\n",
              "      (position_embeddings): Embedding(512, 768)\n",
              "      (token_type_embeddings): Embedding(2, 768)\n",
              "      (LayerNorm): LayerNorm((768,), eps=1e-12, elementwise_affine=True)\n",
              "      (dropout): Dropout(p=0.1, inplace=False)\n",
              "    )\n",
              "    (encoder): BertEncoder(\n",
              "      (layer): ModuleList(\n",
              "        (0-11): 12 x BertLayer(\n",
              "          (attention): BertAttention(\n",
              "            (self): BertSdpaSelfAttention(\n",
              "              (query): Linear(in_features=768, out_features=768, bias=True)\n",
              "              (key): Linear(in_features=768, out_features=768, bias=True)\n",
              "              (value): Linear(in_features=768, out_features=768, bias=True)\n",
              "              (dropout): Dropout(p=0.1, inplace=False)\n",
              "            )\n",
              "            (output): BertSelfOutput(\n",
              "              (dense): Linear(in_features=768, out_features=768, bias=True)\n",
              "              (LayerNorm): LayerNorm((768,), eps=1e-12, elementwise_affine=True)\n",
              "              (dropout): Dropout(p=0.1, inplace=False)\n",
              "            )\n",
              "          )\n",
              "          (intermediate): BertIntermediate(\n",
              "            (dense): Linear(in_features=768, out_features=3072, bias=True)\n",
              "            (intermediate_act_fn): GELUActivation()\n",
              "          )\n",
              "          (output): BertOutput(\n",
              "            (dense): Linear(in_features=3072, out_features=768, bias=True)\n",
              "            (LayerNorm): LayerNorm((768,), eps=1e-12, elementwise_affine=True)\n",
              "            (dropout): Dropout(p=0.1, inplace=False)\n",
              "          )\n",
              "        )\n",
              "      )\n",
              "    )\n",
              "    (pooler): BertPooler(\n",
              "      (dense): Linear(in_features=768, out_features=768, bias=True)\n",
              "      (activation): Tanh()\n",
              "    )\n",
              "  )\n",
              "  (dropout): Dropout(p=0.1, inplace=False)\n",
              "  (classifier): Linear(in_features=768, out_features=5, bias=True)\n",
              ")"
            ]
          },
          "execution_count": 40,
          "metadata": {},
          "output_type": "execute_result"
        }
      ],
      "source": [
        "model.to(device)"
      ]
    },
    {
      "cell_type": "code",
      "execution_count": 41,
      "metadata": {
        "colab": {
          "base_uri": "https://localhost:8080/",
          "height": 141
        },
        "id": "LdYMFmIrKULT",
        "outputId": "be4f6655-66a9-486b-9c2d-ffd42195613c"
      },
      "outputs": [
        {
          "data": {
            "text/html": [
              "\n",
              "    <div>\n",
              "      \n",
              "      <progress value='80' max='80' style='width:300px; height:20px; vertical-align: middle;'></progress>\n",
              "      [80/80 00:14, Epoch 1/1]\n",
              "    </div>\n",
              "    <table border=\"1\" class=\"dataframe\">\n",
              "  <thead>\n",
              " <tr style=\"text-align: left;\">\n",
              "      <th>Epoch</th>\n",
              "      <th>Training Loss</th>\n",
              "      <th>Validation Loss</th>\n",
              "      <th>F1</th>\n",
              "    </tr>\n",
              "  </thead>\n",
              "  <tbody>\n",
              "    <tr>\n",
              "      <td>1</td>\n",
              "      <td>No log</td>\n",
              "      <td>1.497093</td>\n",
              "      <td>0.159366</td>\n",
              "    </tr>\n",
              "  </tbody>\n",
              "</table><p>"
            ],
            "text/plain": [
              "<IPython.core.display.HTML object>"
            ]
          },
          "metadata": {},
          "output_type": "display_data"
        },
        {
          "data": {
            "text/plain": [
              "TrainOutput(global_step=80, training_loss=1.6327478408813476, metrics={'train_runtime': 15.7533, 'train_samples_per_second': 80.427, 'train_steps_per_second': 5.078, 'total_flos': 13997679618036.0, 'train_loss': 1.6327478408813476, 'epoch': 1.0})"
            ]
          },
          "execution_count": 41,
          "metadata": {},
          "output_type": "execute_result"
        }
      ],
      "source": [
        "trainer.train()"
      ]
    },
    {
      "cell_type": "code",
      "execution_count": 42,
      "metadata": {
        "colab": {
          "base_uri": "https://localhost:8080/",
          "height": 141
        },
        "id": "I2kAp-JiKULT",
        "outputId": "5b917ec6-92e2-45e5-da27-cd1ddca7543b"
      },
      "outputs": [
        {
          "data": {
            "text/html": [
              "\n",
              "    <div>\n",
              "      \n",
              "      <progress value='20' max='20' style='width:300px; height:20px; vertical-align: middle;'></progress>\n",
              "      [20/20 00:00]\n",
              "    </div>\n",
              "    "
            ],
            "text/plain": [
              "<IPython.core.display.HTML object>"
            ]
          },
          "metadata": {},
          "output_type": "display_data"
        },
        {
          "data": {
            "text/plain": [
              "{'eval_loss': 1.4970927238464355,\n",
              " 'eval_f1': 0.15936608081718492,\n",
              " 'eval_runtime': 0.5078,\n",
              " 'eval_samples_per_second': 624.287,\n",
              " 'eval_steps_per_second': 39.387,\n",
              " 'epoch': 1.0}"
            ]
          },
          "execution_count": 42,
          "metadata": {},
          "output_type": "execute_result"
        }
      ],
      "source": [
        "trainer.evaluate()"
      ]
    },
    {
      "cell_type": "code",
      "execution_count": 43,
      "metadata": {
        "colab": {
          "base_uri": "https://localhost:8080/",
          "height": 17
        },
        "id": "6PM90NvhKULT",
        "outputId": "c7b69cc9-a0cf-4fc3-f1a9-740bc641ab88"
      },
      "outputs": [
        {
          "data": {
            "text/html": [],
            "text/plain": [
              "<IPython.core.display.HTML object>"
            ]
          },
          "metadata": {},
          "output_type": "display_data"
        }
      ],
      "source": [
        "predictions = trainer.predict(tokenized_dataset[\"test\"])"
      ]
    },
    {
      "cell_type": "code",
      "execution_count": 44,
      "metadata": {
        "id": "YSJj4gQGKULT"
      },
      "outputs": [],
      "source": [
        "logits, labels = predictions.predictions, predictions.label_ids\n",
        "preds = np.argmax(logits, axis=-1)"
      ]
    },
    {
      "cell_type": "code",
      "execution_count": 45,
      "metadata": {
        "id": "_OyLNQH-KULT"
      },
      "outputs": [],
      "source": [
        "from sklearn.metrics import classification_report, confusion_matrix\n",
        "import seaborn as sns\n",
        "import matplotlib.pyplot as plt"
      ]
    },
    {
      "cell_type": "code",
      "execution_count": 46,
      "metadata": {
        "colab": {
          "base_uri": "https://localhost:8080/"
        },
        "id": "odBp6yDMKULU",
        "outputId": "fd209884-d712-4805-c23c-e8d9e520fba5"
      },
      "outputs": [
        {
          "name": "stdout",
          "output_type": "stream",
          "text": [
            "              precision    recall  f1-score   support\n",
            "\n",
            "           0       0.00      0.00      0.00        50\n",
            "           1       0.00      0.00      0.00        17\n",
            "           2       0.00      0.00      0.00        71\n",
            "           3       0.32      1.00      0.49       103\n",
            "           4       0.00      0.00      0.00        76\n",
            "\n",
            "    accuracy                           0.32       317\n",
            "   macro avg       0.06      0.20      0.10       317\n",
            "weighted avg       0.11      0.32      0.16       317\n",
            "\n"
          ]
        },
        {
          "name": "stderr",
          "output_type": "stream",
          "text": [
            "/usr/local/lib/python3.10/dist-packages/sklearn/metrics/_classification.py:1565: UndefinedMetricWarning: Precision is ill-defined and being set to 0.0 in labels with no predicted samples. Use `zero_division` parameter to control this behavior.\n",
            "  _warn_prf(average, modifier, f\"{metric.capitalize()} is\", len(result))\n",
            "/usr/local/lib/python3.10/dist-packages/sklearn/metrics/_classification.py:1565: UndefinedMetricWarning: Precision is ill-defined and being set to 0.0 in labels with no predicted samples. Use `zero_division` parameter to control this behavior.\n",
            "  _warn_prf(average, modifier, f\"{metric.capitalize()} is\", len(result))\n",
            "/usr/local/lib/python3.10/dist-packages/sklearn/metrics/_classification.py:1565: UndefinedMetricWarning: Precision is ill-defined and being set to 0.0 in labels with no predicted samples. Use `zero_division` parameter to control this behavior.\n",
            "  _warn_prf(average, modifier, f\"{metric.capitalize()} is\", len(result))\n"
          ]
        }
      ],
      "source": [
        "print(classification_report(labels, preds))"
      ]
    },
    {
      "cell_type": "code",
      "execution_count": 47,
      "metadata": {
        "colab": {
          "base_uri": "https://localhost:8080/",
          "height": 489
        },
        "id": "9WMuiQV0KULU",
        "outputId": "8c582d8b-27a7-4529-973b-10c1d624339c"
      },
      "outputs": [
        {
          "data": {
            "text/plain": [
              "Text(0.5, 1.0, 'Confusion Matrix')"
            ]
          },
          "execution_count": 47,
          "metadata": {},
          "output_type": "execute_result"
        },
        {
          "data": {
            "image/png": "[encoded data removed]",
            "text/plain": [
              "<Figure size 640x480 with 2 Axes>"
            ]
          },
          "metadata": {},
          "output_type": "display_data"
        }
      ],
      "source": [
        "sns.heatmap(confusion_matrix(labels, preds), annot=True, fmt=\"5.2f\", cmap=\"Blues\")\n",
        "plt.xlabel(\"Predicted Labels\")\n",
        "plt.ylabel(\"True Labels\")\n",
        "plt.title(\"Confusion Matrix\")"
      ]
    },
    {
      "cell_type": "markdown",
      "metadata": {
        "id": "6lpHZ24s9nsr"
      },
      "source": [
        "### Невронска мрежа"
      ]
    },
    {
      "cell_type": "code",
      "execution_count": 81,
      "metadata": {
        "id": "E37Gg-HF9nss"
      },
      "outputs": [],
      "source": [
        "import pandas as pd\n",
        "from sklearn.model_selection import train_test_split\n",
        "import matplotlib.pyplot as plt\n",
        "from tf_keras.preprocessing.text import Tokenizer\n",
        "from tf_keras.preprocessing import sequence\n",
        "from keras.models import Sequential\n",
        "from keras.layers import Dense, Embedding, Conv1D, MaxPooling1D, LSTM, Flatten\n",
        "from sklearn.metrics import confusion_matrix, classification_report\n",
        "import seaborn as sns"
      ]
    },
    {
      "cell_type": "code",
      "execution_count": 59,
      "metadata": {
        "colab": {
          "base_uri": "https://localhost:8080/",
          "height": 424
        },
        "id": "jgwoBA2IKULU",
        "outputId": "0ca912d5-544f-4ca0-adc9-2473d1d927b7"
      },
      "outputs": [
        {
          "data": {
            "application/vnd.google.colaboratory.intrinsic+json": {
              "summary": "{\n  \"name\": \"df\",\n  \"rows\": 1584,\n  \"fields\": [\n    {\n      \"column\": \"base_sentence\",\n      \"properties\": {\n        \"dtype\": \"string\",\n        \"num_unique_values\": 1581,\n        \"samples\": [\n          \"The cook saluted the baker and then offered him some help.\",\n          \"The nurse took care of the CEO and gave her some health suggestions.\",\n          \"The designer contacted the chief and asked her for requirements for the new logo.\"\n        ],\n        \"semantic_type\": \"\",\n        \"description\": \"\"\n      }\n    },\n    {\n      \"column\": \"occupation_category\",\n      \"properties\": {\n        \"dtype\": \"category\",\n        \"num_unique_values\": 5,\n        \"samples\": [\n          \"Creative & Professional Services\",\n          \"Healthcare & Social Services\",\n          \"Management & Administration\"\n        ],\n        \"semantic_type\": \"\",\n        \"description\": \"\"\n      }\n    }\n  ]\n}",
              "type": "dataframe",
              "variable_name": "df"
            },
            "text/html": [
              "\n",
              "  <div id=\"df-26b00913-4181-4cca-839b-09a3f3232719\" class=\"colab-df-container\">\n",
              "    <div>\n",
              "<style scoped>\n",
              "    .dataframe tbody tr th:only-of-type {\n",
              "        vertical-align: middle;\n",
              "    }\n",
              "\n",
              "    .dataframe tbody tr th {\n",
              "        vertical-align: top;\n",
              "    }\n",
              "\n",
              "    .dataframe thead th {\n",
              "        text-align: right;\n",
              "    }\n",
              "</style>\n",
              "<table border=\"1\" class=\"dataframe\">\n",
              "  <thead>\n",
              "    <tr style=\"text-align: right;\">\n",
              "      <th></th>\n",
              "      <th>base_sentence</th>\n",
              "      <th>occupation_category</th>\n",
              "    </tr>\n",
              "  </thead>\n",
              "  <tbody>\n",
              "    <tr>\n",
              "      <th>0</th>\n",
              "      <td>The developer argued with the designer because...</td>\n",
              "      <td>Technical &amp; Skilled Trades</td>\n",
              "    </tr>\n",
              "    <tr>\n",
              "      <th>1</th>\n",
              "      <td>The developer argued with the designer because...</td>\n",
              "      <td>Creative &amp; Professional Services</td>\n",
              "    </tr>\n",
              "    <tr>\n",
              "      <th>2</th>\n",
              "      <td>The mechanic gave the clerk a present because ...</td>\n",
              "      <td>Technical &amp; Skilled Trades</td>\n",
              "    </tr>\n",
              "    <tr>\n",
              "      <th>3</th>\n",
              "      <td>The mechanic gave the clerk a present because ...</td>\n",
              "      <td>Management &amp; Administration</td>\n",
              "    </tr>\n",
              "    <tr>\n",
              "      <th>4</th>\n",
              "      <td>The mover said thank you to the housekeeper be...</td>\n",
              "      <td>Technical &amp; Skilled Trades</td>\n",
              "    </tr>\n",
              "    <tr>\n",
              "      <th>...</th>\n",
              "      <td>...</td>\n",
              "      <td>...</td>\n",
              "    </tr>\n",
              "    <tr>\n",
              "      <th>1579</th>\n",
              "      <td>The driver was annoyed with the assistant and ...</td>\n",
              "      <td>Management &amp; Administration</td>\n",
              "    </tr>\n",
              "    <tr>\n",
              "      <th>1580</th>\n",
              "      <td>The cleaner waited for the chief and talked to...</td>\n",
              "      <td>Management &amp; Administration</td>\n",
              "    </tr>\n",
              "    <tr>\n",
              "      <th>1581</th>\n",
              "      <td>The chief waited for the cleaner and asked him...</td>\n",
              "      <td>Service &amp; Support Roles</td>\n",
              "    </tr>\n",
              "    <tr>\n",
              "      <th>1582</th>\n",
              "      <td>The teacher befriended the janitor and told he...</td>\n",
              "      <td>Service &amp; Support Roles</td>\n",
              "    </tr>\n",
              "    <tr>\n",
              "      <th>1583</th>\n",
              "      <td>The janitor befriended the teacher and told hi...</td>\n",
              "      <td>Creative &amp; Professional Services</td>\n",
              "    </tr>\n",
              "  </tbody>\n",
              "</table>\n",
              "<p>1584 rows × 2 columns</p>\n",
              "</div>\n",
              "    <div class=\"colab-df-buttons\">\n",
              "\n",
              "  <div class=\"colab-df-container\">\n",
              "    <button class=\"colab-df-convert\" onclick=\"convertToInteractive('df-26b00913-4181-4cca-839b-09a3f3232719')\"\n",
              "            title=\"Convert this dataframe to an interactive table.\"\n",
              "            style=\"display:none;\">\n",
              "\n",
              "  <svg xmlns=\"http://www.w3.org/2000/svg\" height=\"24px\" viewBox=\"0 -960 960 960\">\n",
              "    <path d=\"M120-120v-720h720v720H120Zm60-500h600v-160H180v160Zm220 220h160v-160H400v160Zm0 220h160v-160H400v160ZM180-400h160v-160H180v160Zm440 0h160v-160H620v160ZM180-180h160v-160H180v160Zm440 0h160v-160H620v160Z\"/>\n",
              "  </svg>\n",
              "    </button>\n",
              "\n",
              "  <style>\n",
              "    .colab-df-container {\n",
              "      display:flex;\n",
              "      gap: 12px;\n",
              "    }\n",
              "\n",
              "    .colab-df-convert {\n",
              "      background-color: #E8F0FE;\n",
              "      border: none;\n",
              "      border-radius: 50%;\n",
              "      cursor: pointer;\n",
              "      display: none;\n",
              "      fill: #1967D2;\n",
              "      height: 32px;\n",
              "      padding: 0 0 0 0;\n",
              "      width: 32px;\n",
              "    }\n",
              "\n",
              "    .colab-df-convert:hover {\n",
              "      background-color: #E2EBFA;\n",
              "      box-shadow: 0px 1px 2px rgba(60, 64, 67, 0.3), 0px 1px 3px 1px rgba(60, 64, 67, 0.15);\n",
              "      fill: #174EA6;\n",
              "    }\n",
              "\n",
              "    .colab-df-buttons div {\n",
              "      margin-bottom: 4px;\n",
              "    }\n",
              "\n",
              "    [theme=dark] .colab-df-convert {\n",
              "      background-color: #3B4455;\n",
              "      fill: #D2E3FC;\n",
              "    }\n",
              "\n",
              "    [theme=dark] .colab-df-convert:hover {\n",
              "      background-color: #434B5C;\n",
              "      box-shadow: 0px 1px 3px 1px rgba(0, 0, 0, 0.15);\n",
              "      filter: drop-shadow(0px 1px 2px rgba(0, 0, 0, 0.3));\n",
              "      fill: #FFFFFF;\n",
              "    }\n",
              "  </style>\n",
              "\n",
              "    <script>\n",
              "      const buttonEl =\n",
              "        document.querySelector('#df-26b00913-4181-4cca-839b-09a3f3232719 button.colab-df-convert');\n",
              "      buttonEl.style.display =\n",
              "        google.colab.kernel.accessAllowed ? 'block' : 'none';\n",
              "\n",
              "      async function convertToInteractive(key) {\n",
              "        const element = document.querySelector('#df-26b00913-4181-4cca-839b-09a3f3232719');\n",
              "        const dataTable =\n",
              "          await google.colab.kernel.invokeFunction('convertToInteractive',\n",
              "                                                    [key], {});\n",
              "        if (!dataTable) return;\n",
              "\n",
              "        const docLinkHtml = 'Like what you see? Visit the ' +\n",
              "          '<a target=\"_blank\" href=https://colab.research.google.com/notebooks/data_table.ipynb>data table notebook</a>'\n",
              "          + ' to learn more about interactive tables.';\n",
              "        element.innerHTML = '';\n",
              "        dataTable['output_type'] = 'display_data';\n",
              "        await google.colab.output.renderOutput(dataTable, element);\n",
              "        const docLink = document.createElement('div');\n",
              "        docLink.innerHTML = docLinkHtml;\n",
              "        element.appendChild(docLink);\n",
              "      }\n",
              "    </script>\n",
              "  </div>\n",
              "\n",
              "\n",
              "<div id=\"df-61f721b7-53f4-4405-9a5e-25f00997fae4\">\n",
              "  <button class=\"colab-df-quickchart\" onclick=\"quickchart('df-61f721b7-53f4-4405-9a5e-25f00997fae4')\"\n",
              "            title=\"Suggest charts\"\n",
              "            style=\"display:none;\">\n",
              "\n",
              "<svg xmlns=\"http://www.w3.org/2000/svg\" height=\"24px\"viewBox=\"0 0 24 24\"\n",
              "     width=\"24px\">\n",
              "    <g>\n",
              "        <path d=\"M19 3H5c-1.1 0-2 .9-2 2v14c0 1.1.9 2 2 2h14c1.1 0 2-.9 2-2V5c0-1.1-.9-2-2-2zM9 17H7v-7h2v7zm4 0h-2V7h2v10zm4 0h-2v-4h2v4z\"/>\n",
              "    </g>\n",
              "</svg>\n",
              "  </button>\n",
              "\n",
              "<style>\n",
              "  .colab-df-quickchart {\n",
              "      --bg-color: #E8F0FE;\n",
              "      --fill-color: #1967D2;\n",
              "      --hover-bg-color: #E2EBFA;\n",
              "      --hover-fill-color: #174EA6;\n",
              "      --disabled-fill-color: #AAA;\n",
              "      --disabled-bg-color: #DDD;\n",
              "  }\n",
              "\n",
              "  [theme=dark] .colab-df-quickchart {\n",
              "      --bg-color: #3B4455;\n",
              "      --fill-color: #D2E3FC;\n",
              "      --hover-bg-color: #434B5C;\n",
              "      --hover-fill-color: #FFFFFF;\n",
              "      --disabled-bg-color: #3B4455;\n",
              "      --disabled-fill-color: #666;\n",
              "  }\n",
              "\n",
              "  .colab-df-quickchart {\n",
              "    background-color: var(--bg-color);\n",
              "    border: none;\n",
              "    border-radius: 50%;\n",
              "    cursor: pointer;\n",
              "    display: none;\n",
              "    fill: var(--fill-color);\n",
              "    height: 32px;\n",
              "    padding: 0;\n",
              "    width: 32px;\n",
              "  }\n",
              "\n",
              "  .colab-df-quickchart:hover {\n",
              "    background-color: var(--hover-bg-color);\n",
              "    box-shadow: 0 1px 2px rgba(60, 64, 67, 0.3), 0 1px 3px 1px rgba(60, 64, 67, 0.15);\n",
              "    fill: var(--button-hover-fill-color);\n",
              "  }\n",
              "\n",
              "  .colab-df-quickchart-complete:disabled,\n",
              "  .colab-df-quickchart-complete:disabled:hover {\n",
              "    background-color: var(--disabled-bg-color);\n",
              "    fill: var(--disabled-fill-color);\n",
              "    box-shadow: none;\n",
              "  }\n",
              "\n",
              "  .colab-df-spinner {\n",
              "    border: 2px solid var(--fill-color);\n",
              "    border-color: transparent;\n",
              "    border-bottom-color: var(--fill-color);\n",
              "    animation:\n",
              "      spin 1s steps(1) infinite;\n",
              "  }\n",
              "\n",
              "  @keyframes spin {\n",
              "    0% {\n",
              "      border-color: transparent;\n",
              "      border-bottom-color: var(--fill-color);\n",
              "      border-left-color: var(--fill-color);\n",
              "    }\n",
              "    20% {\n",
              "      border-color: transparent;\n",
              "      border-left-color: var(--fill-color);\n",
              "      border-top-color: var(--fill-color);\n",
              "    }\n",
              "    30% {\n",
              "      border-color: transparent;\n",
              "      border-left-color: var(--fill-color);\n",
              "      border-top-color: var(--fill-color);\n",
              "      border-right-color: var(--fill-color);\n",
              "    }\n",
              "    40% {\n",
              "      border-color: transparent;\n",
              "      border-right-color: var(--fill-color);\n",
              "      border-top-color: var(--fill-color);\n",
              "    }\n",
              "    60% {\n",
              "      border-color: transparent;\n",
              "      border-right-color: var(--fill-color);\n",
              "    }\n",
              "    80% {\n",
              "      border-color: transparent;\n",
              "      border-right-color: var(--fill-color);\n",
              "      border-bottom-color: var(--fill-color);\n",
              "    }\n",
              "    90% {\n",
              "      border-color: transparent;\n",
              "      border-bottom-color: var(--fill-color);\n",
              "    }\n",
              "  }\n",
              "</style>\n",
              "\n",
              "  <script>\n",
              "    async function quickchart(key) {\n",
              "      const quickchartButtonEl =\n",
              "        document.querySelector('#' + key + ' button');\n",
              "      quickchartButtonEl.disabled = true;  // To prevent multiple clicks.\n",
              "      quickchartButtonEl.classList.add('colab-df-spinner');\n",
              "      try {\n",
              "        const charts = await google.colab.kernel.invokeFunction(\n",
              "            'suggestCharts', [key], {});\n",
              "      } catch (error) {\n",
              "        console.error('Error during call to suggestCharts:', error);\n",
              "      }\n",
              "      quickchartButtonEl.classList.remove('colab-df-spinner');\n",
              "      quickchartButtonEl.classList.add('colab-df-quickchart-complete');\n",
              "    }\n",
              "    (() => {\n",
              "      let quickchartButtonEl =\n",
              "        document.querySelector('#df-61f721b7-53f4-4405-9a5e-25f00997fae4 button');\n",
              "      quickchartButtonEl.style.display =\n",
              "        google.colab.kernel.accessAllowed ? 'block' : 'none';\n",
              "    })();\n",
              "  </script>\n",
              "</div>\n",
              "    </div>\n",
              "  </div>\n"
            ],
            "text/plain": [
              "                                          base_sentence  \\\n",
              "0     The developer argued with the designer because...   \n",
              "1     The developer argued with the designer because...   \n",
              "2     The mechanic gave the clerk a present because ...   \n",
              "3     The mechanic gave the clerk a present because ...   \n",
              "4     The mover said thank you to the housekeeper be...   \n",
              "...                                                 ...   \n",
              "1579  The driver was annoyed with the assistant and ...   \n",
              "1580  The cleaner waited for the chief and talked to...   \n",
              "1581  The chief waited for the cleaner and asked him...   \n",
              "1582  The teacher befriended the janitor and told he...   \n",
              "1583  The janitor befriended the teacher and told hi...   \n",
              "\n",
              "                   occupation_category  \n",
              "0           Technical & Skilled Trades  \n",
              "1     Creative & Professional Services  \n",
              "2           Technical & Skilled Trades  \n",
              "3          Management & Administration  \n",
              "4           Technical & Skilled Trades  \n",
              "...                                ...  \n",
              "1579       Management & Administration  \n",
              "1580       Management & Administration  \n",
              "1581           Service & Support Roles  \n",
              "1582           Service & Support Roles  \n",
              "1583  Creative & Professional Services  \n",
              "\n",
              "[1584 rows x 2 columns]"
            ]
          },
          "execution_count": 59,
          "metadata": {},
          "output_type": "execute_result"
        }
      ],
      "source": [
        "df = pd.read_csv(\"data/data_g1.csv\")\n",
        "df"
      ]
    },
    {
      "cell_type": "code",
      "execution_count": 60,
      "metadata": {
        "colab": {
          "base_uri": "https://localhost:8080/",
          "height": 680
        },
        "id": "jN5dXgYkKULU",
        "outputId": "9a7bb93f-c23a-4e2a-ca49-da75339a5d48"
      },
      "outputs": [
        {
          "data": {
            "text/plain": [
              "<Axes: xlabel='occupation_category'>"
            ]
          },
          "execution_count": 60,
          "metadata": {},
          "output_type": "execute_result"
        },
        {
          "data": {
            "image/png": "[encoded data removed]",
            "text/plain": [
              "<Figure size 640x480 with 1 Axes>"
            ]
          },
          "metadata": {},
          "output_type": "display_data"
        }
      ],
      "source": [
        "df[\"occupation_category\"].value_counts().plot.bar()"
      ]
    },
    {
      "cell_type": "code",
      "execution_count": 61,
      "metadata": {
        "colab": {
          "base_uri": "https://localhost:8080/",
          "height": 147
        },
        "id": "X1_gDivaKULU",
        "outputId": "467913aa-69cf-4660-c859-9fd856d025a7"
      },
      "outputs": [
        {
          "data": {
            "text/html": [
              "<div>\n",
              "<style scoped>\n",
              "    .dataframe tbody tr th:only-of-type {\n",
              "        vertical-align: middle;\n",
              "    }\n",
              "\n",
              "    .dataframe tbody tr th {\n",
              "        vertical-align: top;\n",
              "    }\n",
              "\n",
              "    .dataframe thead th {\n",
              "        text-align: right;\n",
              "    }\n",
              "</style>\n",
              "<table border=\"1\" class=\"dataframe\">\n",
              "  <thead>\n",
              "    <tr style=\"text-align: right;\">\n",
              "      <th></th>\n",
              "      <th>0</th>\n",
              "    </tr>\n",
              "  </thead>\n",
              "  <tbody>\n",
              "    <tr>\n",
              "      <th>base_sentence</th>\n",
              "      <td>0</td>\n",
              "    </tr>\n",
              "    <tr>\n",
              "      <th>occupation_category</th>\n",
              "      <td>0</td>\n",
              "    </tr>\n",
              "  </tbody>\n",
              "</table>\n",
              "</div><br><label><b>dtype:</b> int64</label>"
            ],
            "text/plain": [
              "base_sentence          0\n",
              "occupation_category    0\n",
              "dtype: int64"
            ]
          },
          "execution_count": 61,
          "metadata": {},
          "output_type": "execute_result"
        }
      ],
      "source": [
        "df.isnull().sum()"
      ]
    },
    {
      "cell_type": "code",
      "execution_count": 62,
      "metadata": {
        "colab": {
          "base_uri": "https://localhost:8080/",
          "height": 447
        },
        "id": "BnrOmOVJKULU",
        "outputId": "25193bcc-fccb-4012-9fd4-0dbf1e6bf91a"
      },
      "outputs": [
        {
          "data": {
            "text/plain": [
              "<Axes: ylabel='Frequency'>"
            ]
          },
          "execution_count": 62,
          "metadata": {},
          "output_type": "execute_result"
        },
        {
          "data": {
            "image/png": "[encoded data removed]",
            "text/plain": [
              "<Figure size 640x480 with 1 Axes>"
            ]
          },
          "metadata": {},
          "output_type": "display_data"
        }
      ],
      "source": [
        "df[\"base_sentence\"].str.split(\" \").apply(len).plot.hist()"
      ]
    },
    {
      "cell_type": "code",
      "execution_count": 63,
      "metadata": {
        "colab": {
          "base_uri": "https://localhost:8080/",
          "height": 447
        },
        "id": "Nc0xBL8uKULV",
        "outputId": "c5ad1d8b-44f1-451b-fcfe-5ded5362206a"
      },
      "outputs": [
        {
          "data": {
            "text/plain": [
              "<Axes: >"
            ]
          },
          "execution_count": 63,
          "metadata": {},
          "output_type": "execute_result"
        },
        {
          "data": {
            "image/png": "[encoded data removed]",
            "text/plain": [
              "<Figure size 640x480 with 1 Axes>"
            ]
          },
          "metadata": {},
          "output_type": "display_data"
        }
      ],
      "source": [
        "df[\"base_sentence\"].str.split().apply(len).plot.box()"
      ]
    },
    {
      "cell_type": "code",
      "execution_count": 64,
      "metadata": {
        "colab": {
          "base_uri": "https://localhost:8080/",
          "height": 424
        },
        "id": "lnFTO-xZKULV",
        "outputId": "f79b3d9f-81cb-40d9-be4c-986579b4ccbe"
      },
      "outputs": [
        {
          "data": {
            "application/vnd.google.colaboratory.intrinsic+json": {
              "summary": "{\n  \"name\": \"df\",\n  \"rows\": 1529,\n  \"fields\": [\n    {\n      \"column\": \"base_sentence\",\n      \"properties\": {\n        \"dtype\": \"string\",\n        \"num_unique_values\": 1526,\n        \"samples\": [\n          \"The secretary bought many products from the farmer and asked her for a discount.\",\n          \"The physician told the nurse that he can go back home.\",\n          \"The supervisor confronted the librarian and told him to produce the book.\"\n        ],\n        \"semantic_type\": \"\",\n        \"description\": \"\"\n      }\n    },\n    {\n      \"column\": \"occupation_category\",\n      \"properties\": {\n        \"dtype\": \"category\",\n        \"num_unique_values\": 5,\n        \"samples\": [\n          \"Creative & Professional Services\",\n          \"Healthcare & Social Services\",\n          \"Management & Administration\"\n        ],\n        \"semantic_type\": \"\",\n        \"description\": \"\"\n      }\n    }\n  ]\n}",
              "type": "dataframe",
              "variable_name": "df"
            },
            "text/html": [
              "\n",
              "  <div id=\"df-bdc422bc-8af3-4e00-a55c-0c5ead12a683\" class=\"colab-df-container\">\n",
              "    <div>\n",
              "<style scoped>\n",
              "    .dataframe tbody tr th:only-of-type {\n",
              "        vertical-align: middle;\n",
              "    }\n",
              "\n",
              "    .dataframe tbody tr th {\n",
              "        vertical-align: top;\n",
              "    }\n",
              "\n",
              "    .dataframe thead th {\n",
              "        text-align: right;\n",
              "    }\n",
              "</style>\n",
              "<table border=\"1\" class=\"dataframe\">\n",
              "  <thead>\n",
              "    <tr style=\"text-align: right;\">\n",
              "      <th></th>\n",
              "      <th>base_sentence</th>\n",
              "      <th>occupation_category</th>\n",
              "    </tr>\n",
              "  </thead>\n",
              "  <tbody>\n",
              "    <tr>\n",
              "      <th>0</th>\n",
              "      <td>The developer argued with the designer because...</td>\n",
              "      <td>Technical &amp; Skilled Trades</td>\n",
              "    </tr>\n",
              "    <tr>\n",
              "      <th>1</th>\n",
              "      <td>The developer argued with the designer because...</td>\n",
              "      <td>Creative &amp; Professional Services</td>\n",
              "    </tr>\n",
              "    <tr>\n",
              "      <th>2</th>\n",
              "      <td>The mechanic gave the clerk a present because ...</td>\n",
              "      <td>Technical &amp; Skilled Trades</td>\n",
              "    </tr>\n",
              "    <tr>\n",
              "      <th>3</th>\n",
              "      <td>The mechanic gave the clerk a present because ...</td>\n",
              "      <td>Management &amp; Administration</td>\n",
              "    </tr>\n",
              "    <tr>\n",
              "      <th>4</th>\n",
              "      <td>The mover said thank you to the housekeeper be...</td>\n",
              "      <td>Technical &amp; Skilled Trades</td>\n",
              "    </tr>\n",
              "    <tr>\n",
              "      <th>...</th>\n",
              "      <td>...</td>\n",
              "      <td>...</td>\n",
              "    </tr>\n",
              "    <tr>\n",
              "      <th>1579</th>\n",
              "      <td>The driver was annoyed with the assistant and ...</td>\n",
              "      <td>Management &amp; Administration</td>\n",
              "    </tr>\n",
              "    <tr>\n",
              "      <th>1580</th>\n",
              "      <td>The cleaner waited for the chief and talked to...</td>\n",
              "      <td>Management &amp; Administration</td>\n",
              "    </tr>\n",
              "    <tr>\n",
              "      <th>1581</th>\n",
              "      <td>The chief waited for the cleaner and asked him...</td>\n",
              "      <td>Service &amp; Support Roles</td>\n",
              "    </tr>\n",
              "    <tr>\n",
              "      <th>1582</th>\n",
              "      <td>The teacher befriended the janitor and told he...</td>\n",
              "      <td>Service &amp; Support Roles</td>\n",
              "    </tr>\n",
              "    <tr>\n",
              "      <th>1583</th>\n",
              "      <td>The janitor befriended the teacher and told hi...</td>\n",
              "      <td>Creative &amp; Professional Services</td>\n",
              "    </tr>\n",
              "  </tbody>\n",
              "</table>\n",
              "<p>1529 rows × 2 columns</p>\n",
              "</div>\n",
              "    <div class=\"colab-df-buttons\">\n",
              "\n",
              "  <div class=\"colab-df-container\">\n",
              "    <button class=\"colab-df-convert\" onclick=\"convertToInteractive('df-bdc422bc-8af3-4e00-a55c-0c5ead12a683')\"\n",
              "            title=\"Convert this dataframe to an interactive table.\"\n",
              "            style=\"display:none;\">\n",
              "\n",
              "  <svg xmlns=\"http://www.w3.org/2000/svg\" height=\"24px\" viewBox=\"0 -960 960 960\">\n",
              "    <path d=\"M120-120v-720h720v720H120Zm60-500h600v-160H180v160Zm220 220h160v-160H400v160Zm0 220h160v-160H400v160ZM180-400h160v-160H180v160Zm440 0h160v-160H620v160ZM180-180h160v-160H180v160Zm440 0h160v-160H620v160Z\"/>\n",
              "  </svg>\n",
              "    </button>\n",
              "\n",
              "  <style>\n",
              "    .colab-df-container {\n",
              "      display:flex;\n",
              "      gap: 12px;\n",
              "    }\n",
              "\n",
              "    .colab-df-convert {\n",
              "      background-color: #E8F0FE;\n",
              "      border: none;\n",
              "      border-radius: 50%;\n",
              "      cursor: pointer;\n",
              "      display: none;\n",
              "      fill: #1967D2;\n",
              "      height: 32px;\n",
              "      padding: 0 0 0 0;\n",
              "      width: 32px;\n",
              "    }\n",
              "\n",
              "    .colab-df-convert:hover {\n",
              "      background-color: #E2EBFA;\n",
              "      box-shadow: 0px 1px 2px rgba(60, 64, 67, 0.3), 0px 1px 3px 1px rgba(60, 64, 67, 0.15);\n",
              "      fill: #174EA6;\n",
              "    }\n",
              "\n",
              "    .colab-df-buttons div {\n",
              "      margin-bottom: 4px;\n",
              "    }\n",
              "\n",
              "    [theme=dark] .colab-df-convert {\n",
              "      background-color: #3B4455;\n",
              "      fill: #D2E3FC;\n",
              "    }\n",
              "\n",
              "    [theme=dark] .colab-df-convert:hover {\n",
              "      background-color: #434B5C;\n",
              "      box-shadow: 0px 1px 3px 1px rgba(0, 0, 0, 0.15);\n",
              "      filter: drop-shadow(0px 1px 2px rgba(0, 0, 0, 0.3));\n",
              "      fill: #FFFFFF;\n",
              "    }\n",
              "  </style>\n",
              "\n",
              "    <script>\n",
              "      const buttonEl =\n",
              "        document.querySelector('#df-bdc422bc-8af3-4e00-a55c-0c5ead12a683 button.colab-df-convert');\n",
              "      buttonEl.style.display =\n",
              "        google.colab.kernel.accessAllowed ? 'block' : 'none';\n",
              "\n",
              "      async function convertToInteractive(key) {\n",
              "        const element = document.querySelector('#df-bdc422bc-8af3-4e00-a55c-0c5ead12a683');\n",
              "        const dataTable =\n",
              "          await google.colab.kernel.invokeFunction('convertToInteractive',\n",
              "                                                    [key], {});\n",
              "        if (!dataTable) return;\n",
              "\n",
              "        const docLinkHtml = 'Like what you see? Visit the ' +\n",
              "          '<a target=\"_blank\" href=https://colab.research.google.com/notebooks/data_table.ipynb>data table notebook</a>'\n",
              "          + ' to learn more about interactive tables.';\n",
              "        element.innerHTML = '';\n",
              "        dataTable['output_type'] = 'display_data';\n",
              "        await google.colab.output.renderOutput(dataTable, element);\n",
              "        const docLink = document.createElement('div');\n",
              "        docLink.innerHTML = docLinkHtml;\n",
              "        element.appendChild(docLink);\n",
              "      }\n",
              "    </script>\n",
              "  </div>\n",
              "\n",
              "\n",
              "<div id=\"df-74dd4f5f-226e-4488-a543-dd70da3fd044\">\n",
              "  <button class=\"colab-df-quickchart\" onclick=\"quickchart('df-74dd4f5f-226e-4488-a543-dd70da3fd044')\"\n",
              "            title=\"Suggest charts\"\n",
              "            style=\"display:none;\">\n",
              "\n",
              "<svg xmlns=\"http://www.w3.org/2000/svg\" height=\"24px\"viewBox=\"0 0 24 24\"\n",
              "     width=\"24px\">\n",
              "    <g>\n",
              "        <path d=\"M19 3H5c-1.1 0-2 .9-2 2v14c0 1.1.9 2 2 2h14c1.1 0 2-.9 2-2V5c0-1.1-.9-2-2-2zM9 17H7v-7h2v7zm4 0h-2V7h2v10zm4 0h-2v-4h2v4z\"/>\n",
              "    </g>\n",
              "</svg>\n",
              "  </button>\n",
              "\n",
              "<style>\n",
              "  .colab-df-quickchart {\n",
              "      --bg-color: #E8F0FE;\n",
              "      --fill-color: #1967D2;\n",
              "      --hover-bg-color: #E2EBFA;\n",
              "      --hover-fill-color: #174EA6;\n",
              "      --disabled-fill-color: #AAA;\n",
              "      --disabled-bg-color: #DDD;\n",
              "  }\n",
              "\n",
              "  [theme=dark] .colab-df-quickchart {\n",
              "      --bg-color: #3B4455;\n",
              "      --fill-color: #D2E3FC;\n",
              "      --hover-bg-color: #434B5C;\n",
              "      --hover-fill-color: #FFFFFF;\n",
              "      --disabled-bg-color: #3B4455;\n",
              "      --disabled-fill-color: #666;\n",
              "  }\n",
              "\n",
              "  .colab-df-quickchart {\n",
              "    background-color: var(--bg-color);\n",
              "    border: none;\n",
              "    border-radius: 50%;\n",
              "    cursor: pointer;\n",
              "    display: none;\n",
              "    fill: var(--fill-color);\n",
              "    height: 32px;\n",
              "    padding: 0;\n",
              "    width: 32px;\n",
              "  }\n",
              "\n",
              "  .colab-df-quickchart:hover {\n",
              "    background-color: var(--hover-bg-color);\n",
              "    box-shadow: 0 1px 2px rgba(60, 64, 67, 0.3), 0 1px 3px 1px rgba(60, 64, 67, 0.15);\n",
              "    fill: var(--button-hover-fill-color);\n",
              "  }\n",
              "\n",
              "  .colab-df-quickchart-complete:disabled,\n",
              "  .colab-df-quickchart-complete:disabled:hover {\n",
              "    background-color: var(--disabled-bg-color);\n",
              "    fill: var(--disabled-fill-color);\n",
              "    box-shadow: none;\n",
              "  }\n",
              "\n",
              "  .colab-df-spinner {\n",
              "    border: 2px solid var(--fill-color);\n",
              "    border-color: transparent;\n",
              "    border-bottom-color: var(--fill-color);\n",
              "    animation:\n",
              "      spin 1s steps(1) infinite;\n",
              "  }\n",
              "\n",
              "  @keyframes spin {\n",
              "    0% {\n",
              "      border-color: transparent;\n",
              "      border-bottom-color: var(--fill-color);\n",
              "      border-left-color: var(--fill-color);\n",
              "    }\n",
              "    20% {\n",
              "      border-color: transparent;\n",
              "      border-left-color: var(--fill-color);\n",
              "      border-top-color: var(--fill-color);\n",
              "    }\n",
              "    30% {\n",
              "      border-color: transparent;\n",
              "      border-left-color: var(--fill-color);\n",
              "      border-top-color: var(--fill-color);\n",
              "      border-right-color: var(--fill-color);\n",
              "    }\n",
              "    40% {\n",
              "      border-color: transparent;\n",
              "      border-right-color: var(--fill-color);\n",
              "      border-top-color: var(--fill-color);\n",
              "    }\n",
              "    60% {\n",
              "      border-color: transparent;\n",
              "      border-right-color: var(--fill-color);\n",
              "    }\n",
              "    80% {\n",
              "      border-color: transparent;\n",
              "      border-right-color: var(--fill-color);\n",
              "      border-bottom-color: var(--fill-color);\n",
              "    }\n",
              "    90% {\n",
              "      border-color: transparent;\n",
              "      border-bottom-color: var(--fill-color);\n",
              "    }\n",
              "  }\n",
              "</style>\n",
              "\n",
              "  <script>\n",
              "    async function quickchart(key) {\n",
              "      const quickchartButtonEl =\n",
              "        document.querySelector('#' + key + ' button');\n",
              "      quickchartButtonEl.disabled = true;  // To prevent multiple clicks.\n",
              "      quickchartButtonEl.classList.add('colab-df-spinner');\n",
              "      try {\n",
              "        const charts = await google.colab.kernel.invokeFunction(\n",
              "            'suggestCharts', [key], {});\n",
              "      } catch (error) {\n",
              "        console.error('Error during call to suggestCharts:', error);\n",
              "      }\n",
              "      quickchartButtonEl.classList.remove('colab-df-spinner');\n",
              "      quickchartButtonEl.classList.add('colab-df-quickchart-complete');\n",
              "    }\n",
              "    (() => {\n",
              "      let quickchartButtonEl =\n",
              "        document.querySelector('#df-74dd4f5f-226e-4488-a543-dd70da3fd044 button');\n",
              "      quickchartButtonEl.style.display =\n",
              "        google.colab.kernel.accessAllowed ? 'block' : 'none';\n",
              "    })();\n",
              "  </script>\n",
              "</div>\n",
              "    </div>\n",
              "  </div>\n"
            ],
            "text/plain": [
              "                                          base_sentence  \\\n",
              "0     The developer argued with the designer because...   \n",
              "1     The developer argued with the designer because...   \n",
              "2     The mechanic gave the clerk a present because ...   \n",
              "3     The mechanic gave the clerk a present because ...   \n",
              "4     The mover said thank you to the housekeeper be...   \n",
              "...                                                 ...   \n",
              "1579  The driver was annoyed with the assistant and ...   \n",
              "1580  The cleaner waited for the chief and talked to...   \n",
              "1581  The chief waited for the cleaner and asked him...   \n",
              "1582  The teacher befriended the janitor and told he...   \n",
              "1583  The janitor befriended the teacher and told hi...   \n",
              "\n",
              "                   occupation_category  \n",
              "0           Technical & Skilled Trades  \n",
              "1     Creative & Professional Services  \n",
              "2           Technical & Skilled Trades  \n",
              "3          Management & Administration  \n",
              "4           Technical & Skilled Trades  \n",
              "...                                ...  \n",
              "1579       Management & Administration  \n",
              "1580       Management & Administration  \n",
              "1581           Service & Support Roles  \n",
              "1582           Service & Support Roles  \n",
              "1583  Creative & Professional Services  \n",
              "\n",
              "[1529 rows x 2 columns]"
            ]
          },
          "execution_count": 64,
          "metadata": {},
          "output_type": "execute_result"
        }
      ],
      "source": [
        "df = df[df[\"base_sentence\"].str.split().apply(len) < 18].copy(deep=True)\n",
        "df"
      ]
    },
    {
      "cell_type": "code",
      "execution_count": 65,
      "metadata": {
        "colab": {
          "base_uri": "https://localhost:8080/",
          "height": 447
        },
        "id": "ZjonWDnyKULV",
        "outputId": "89d5f812-8079-4e68-f785-a4a303b5a6cb"
      },
      "outputs": [
        {
          "data": {
            "text/plain": [
              "<Axes: ylabel='Frequency'>"
            ]
          },
          "execution_count": 65,
          "metadata": {},
          "output_type": "execute_result"
        },
        {
          "data": {
            "image/png": "[encoded data removed]",
            "text/plain": [
              "<Figure size 640x480 with 1 Axes>"
            ]
          },
          "metadata": {},
          "output_type": "display_data"
        }
      ],
      "source": [
        "df[\"base_sentence\"].str.split().apply(len).plot.hist()"
      ]
    },
    {
      "cell_type": "code",
      "execution_count": 66,
      "metadata": {
        "colab": {
          "base_uri": "https://localhost:8080/",
          "height": 447
        },
        "id": "9uL6NQtjKULV",
        "outputId": "207cf586-2bda-436a-dfab-1fde2025bbbe"
      },
      "outputs": [
        {
          "data": {
            "text/plain": [
              "<Axes: >"
            ]
          },
          "execution_count": 66,
          "metadata": {},
          "output_type": "execute_result"
        },
        {
          "data": {
            "image/png": "[encoded data removed]",
            "text/plain": [
              "<Figure size 640x480 with 1 Axes>"
            ]
          },
          "metadata": {},
          "output_type": "display_data"
        }
      ],
      "source": [
        "df[\"base_sentence\"].str.split().apply(len).plot.box()"
      ]
    },
    {
      "cell_type": "code",
      "execution_count": 67,
      "metadata": {
        "id": "Vix8DDISKULV"
      },
      "outputs": [],
      "source": [
        "def get_vocabulary(texts: list[str]) -> list[str]:\n",
        "    vocabulary = []\n",
        "    for text in texts:\n",
        "        for word in text.split(\" \"):\n",
        "            vocabulary.append(word)\n",
        "    return list(set(vocabulary))"
      ]
    },
    {
      "cell_type": "code",
      "execution_count": 68,
      "metadata": {
        "id": "emTJkil5KULV"
      },
      "outputs": [],
      "source": [
        "vocabulary = get_vocabulary(df[\"base_sentence\"].tolist())"
      ]
    },
    {
      "cell_type": "code",
      "execution_count": 69,
      "metadata": {
        "colab": {
          "base_uri": "https://localhost:8080/"
        },
        "id": "gtFLApNaKULV",
        "outputId": "cd6bb150-2ae9-424b-a23c-7f4462468c8d"
      },
      "outputs": [
        {
          "data": {
            "text/plain": [
              "1942"
            ]
          },
          "execution_count": 69,
          "metadata": {},
          "output_type": "execute_result"
        }
      ],
      "source": [
        "len(vocabulary)"
      ]
    },
    {
      "cell_type": "code",
      "execution_count": 70,
      "metadata": {
        "id": "PyPDYqtnKULW"
      },
      "outputs": [],
      "source": [
        "max_vocabulary_size = 1800"
      ]
    },
    {
      "cell_type": "code",
      "execution_count": 71,
      "metadata": {
        "id": "Jnn8irhTKULW"
      },
      "outputs": [],
      "source": [
        "X, y = df[\"base_sentence\"], pd.get_dummies(df[\"occupation_category\"])"
      ]
    },
    {
      "cell_type": "code",
      "execution_count": 72,
      "metadata": {
        "colab": {
          "base_uri": "https://localhost:8080/",
          "height": 206
        },
        "id": "dfXO7auEKULW",
        "outputId": "fe1138de-5c55-41eb-e02f-b8ad1d1ece6d"
      },
      "outputs": [
        {
          "data": {
            "application/vnd.google.colaboratory.intrinsic+json": {
              "summary": "{\n  \"name\": \"y\",\n  \"rows\": 1529,\n  \"fields\": [\n    {\n      \"column\": \"Creative & Professional Services\",\n      \"properties\": {\n        \"dtype\": \"boolean\",\n        \"num_unique_values\": 2,\n        \"samples\": [\n          true,\n          false\n        ],\n        \"semantic_type\": \"\",\n        \"description\": \"\"\n      }\n    },\n    {\n      \"column\": \"Healthcare & Social Services\",\n      \"properties\": {\n        \"dtype\": \"boolean\",\n        \"num_unique_values\": 2,\n        \"samples\": [\n          true,\n          false\n        ],\n        \"semantic_type\": \"\",\n        \"description\": \"\"\n      }\n    },\n    {\n      \"column\": \"Management & Administration\",\n      \"properties\": {\n        \"dtype\": \"boolean\",\n        \"num_unique_values\": 2,\n        \"samples\": [\n          true,\n          false\n        ],\n        \"semantic_type\": \"\",\n        \"description\": \"\"\n      }\n    },\n    {\n      \"column\": \"Service & Support Roles\",\n      \"properties\": {\n        \"dtype\": \"boolean\",\n        \"num_unique_values\": 2,\n        \"samples\": [\n          true,\n          false\n        ],\n        \"semantic_type\": \"\",\n        \"description\": \"\"\n      }\n    },\n    {\n      \"column\": \"Technical & Skilled Trades\",\n      \"properties\": {\n        \"dtype\": \"boolean\",\n        \"num_unique_values\": 2,\n        \"samples\": [\n          false,\n          true\n        ],\n        \"semantic_type\": \"\",\n        \"description\": \"\"\n      }\n    }\n  ]\n}",
              "type": "dataframe",
              "variable_name": "y"
            },
            "text/html": [
              "\n",
              "  <div id=\"df-12996311-2b63-4f72-ba67-60b6784437cb\" class=\"colab-df-container\">\n",
              "    <div>\n",
              "<style scoped>\n",
              "    .dataframe tbody tr th:only-of-type {\n",
              "        vertical-align: middle;\n",
              "    }\n",
              "\n",
              "    .dataframe tbody tr th {\n",
              "        vertical-align: top;\n",
              "    }\n",
              "\n",
              "    .dataframe thead th {\n",
              "        text-align: right;\n",
              "    }\n",
              "</style>\n",
              "<table border=\"1\" class=\"dataframe\">\n",
              "  <thead>\n",
              "    <tr style=\"text-align: right;\">\n",
              "      <th></th>\n",
              "      <th>Creative &amp; Professional Services</th>\n",
              "      <th>Healthcare &amp; Social Services</th>\n",
              "      <th>Management &amp; Administration</th>\n",
              "      <th>Service &amp; Support Roles</th>\n",
              "      <th>Technical &amp; Skilled Trades</th>\n",
              "    </tr>\n",
              "  </thead>\n",
              "  <tbody>\n",
              "    <tr>\n",
              "      <th>0</th>\n",
              "      <td>False</td>\n",
              "      <td>False</td>\n",
              "      <td>False</td>\n",
              "      <td>False</td>\n",
              "      <td>True</td>\n",
              "    </tr>\n",
              "    <tr>\n",
              "      <th>1</th>\n",
              "      <td>True</td>\n",
              "      <td>False</td>\n",
              "      <td>False</td>\n",
              "      <td>False</td>\n",
              "      <td>False</td>\n",
              "    </tr>\n",
              "    <tr>\n",
              "      <th>2</th>\n",
              "      <td>False</td>\n",
              "      <td>False</td>\n",
              "      <td>False</td>\n",
              "      <td>False</td>\n",
              "      <td>True</td>\n",
              "    </tr>\n",
              "    <tr>\n",
              "      <th>3</th>\n",
              "      <td>False</td>\n",
              "      <td>False</td>\n",
              "      <td>True</td>\n",
              "      <td>False</td>\n",
              "      <td>False</td>\n",
              "    </tr>\n",
              "    <tr>\n",
              "      <th>4</th>\n",
              "      <td>False</td>\n",
              "      <td>False</td>\n",
              "      <td>False</td>\n",
              "      <td>False</td>\n",
              "      <td>True</td>\n",
              "    </tr>\n",
              "  </tbody>\n",
              "</table>\n",
              "</div>\n",
              "    <div class=\"colab-df-buttons\">\n",
              "\n",
              "  <div class=\"colab-df-container\">\n",
              "    <button class=\"colab-df-convert\" onclick=\"convertToInteractive('df-12996311-2b63-4f72-ba67-60b6784437cb')\"\n",
              "            title=\"Convert this dataframe to an interactive table.\"\n",
              "            style=\"display:none;\">\n",
              "\n",
              "  <svg xmlns=\"http://www.w3.org/2000/svg\" height=\"24px\" viewBox=\"0 -960 960 960\">\n",
              "    <path d=\"M120-120v-720h720v720H120Zm60-500h600v-160H180v160Zm220 220h160v-160H400v160Zm0 220h160v-160H400v160ZM180-400h160v-160H180v160Zm440 0h160v-160H620v160ZM180-180h160v-160H180v160Zm440 0h160v-160H620v160Z\"/>\n",
              "  </svg>\n",
              "    </button>\n",
              "\n",
              "  <style>\n",
              "    .colab-df-container {\n",
              "      display:flex;\n",
              "      gap: 12px;\n",
              "    }\n",
              "\n",
              "    .colab-df-convert {\n",
              "      background-color: #E8F0FE;\n",
              "      border: none;\n",
              "      border-radius: 50%;\n",
              "      cursor: pointer;\n",
              "      display: none;\n",
              "      fill: #1967D2;\n",
              "      height: 32px;\n",
              "      padding: 0 0 0 0;\n",
              "      width: 32px;\n",
              "    }\n",
              "\n",
              "    .colab-df-convert:hover {\n",
              "      background-color: #E2EBFA;\n",
              "      box-shadow: 0px 1px 2px rgba(60, 64, 67, 0.3), 0px 1px 3px 1px rgba(60, 64, 67, 0.15);\n",
              "      fill: #174EA6;\n",
              "    }\n",
              "\n",
              "    .colab-df-buttons div {\n",
              "      margin-bottom: 4px;\n",
              "    }\n",
              "\n",
              "    [theme=dark] .colab-df-convert {\n",
              "      background-color: #3B4455;\n",
              "      fill: #D2E3FC;\n",
              "    }\n",
              "\n",
              "    [theme=dark] .colab-df-convert:hover {\n",
              "      background-color: #434B5C;\n",
              "      box-shadow: 0px 1px 3px 1px rgba(0, 0, 0, 0.15);\n",
              "      filter: drop-shadow(0px 1px 2px rgba(0, 0, 0, 0.3));\n",
              "      fill: #FFFFFF;\n",
              "    }\n",
              "  </style>\n",
              "\n",
              "    <script>\n",
              "      const buttonEl =\n",
              "        document.querySelector('#df-12996311-2b63-4f72-ba67-60b6784437cb button.colab-df-convert');\n",
              "      buttonEl.style.display =\n",
              "        google.colab.kernel.accessAllowed ? 'block' : 'none';\n",
              "\n",
              "      async function convertToInteractive(key) {\n",
              "        const element = document.querySelector('#df-12996311-2b63-4f72-ba67-60b6784437cb');\n",
              "        const dataTable =\n",
              "          await google.colab.kernel.invokeFunction('convertToInteractive',\n",
              "                                                    [key], {});\n",
              "        if (!dataTable) return;\n",
              "\n",
              "        const docLinkHtml = 'Like what you see? Visit the ' +\n",
              "          '<a target=\"_blank\" href=https://colab.research.google.com/notebooks/data_table.ipynb>data table notebook</a>'\n",
              "          + ' to learn more about interactive tables.';\n",
              "        element.innerHTML = '';\n",
              "        dataTable['output_type'] = 'display_data';\n",
              "        await google.colab.output.renderOutput(dataTable, element);\n",
              "        const docLink = document.createElement('div');\n",
              "        docLink.innerHTML = docLinkHtml;\n",
              "        element.appendChild(docLink);\n",
              "      }\n",
              "    </script>\n",
              "  </div>\n",
              "\n",
              "\n",
              "<div id=\"df-601c468d-77e0-49a1-966f-0af1cdd83efe\">\n",
              "  <button class=\"colab-df-quickchart\" onclick=\"quickchart('df-601c468d-77e0-49a1-966f-0af1cdd83efe')\"\n",
              "            title=\"Suggest charts\"\n",
              "            style=\"display:none;\">\n",
              "\n",
              "<svg xmlns=\"http://www.w3.org/2000/svg\" height=\"24px\"viewBox=\"0 0 24 24\"\n",
              "     width=\"24px\">\n",
              "    <g>\n",
              "        <path d=\"M19 3H5c-1.1 0-2 .9-2 2v14c0 1.1.9 2 2 2h14c1.1 0 2-.9 2-2V5c0-1.1-.9-2-2-2zM9 17H7v-7h2v7zm4 0h-2V7h2v10zm4 0h-2v-4h2v4z\"/>\n",
              "    </g>\n",
              "</svg>\n",
              "  </button>\n",
              "\n",
              "<style>\n",
              "  .colab-df-quickchart {\n",
              "      --bg-color: #E8F0FE;\n",
              "      --fill-color: #1967D2;\n",
              "      --hover-bg-color: #E2EBFA;\n",
              "      --hover-fill-color: #174EA6;\n",
              "      --disabled-fill-color: #AAA;\n",
              "      --disabled-bg-color: #DDD;\n",
              "  }\n",
              "\n",
              "  [theme=dark] .colab-df-quickchart {\n",
              "      --bg-color: #3B4455;\n",
              "      --fill-color: #D2E3FC;\n",
              "      --hover-bg-color: #434B5C;\n",
              "      --hover-fill-color: #FFFFFF;\n",
              "      --disabled-bg-color: #3B4455;\n",
              "      --disabled-fill-color: #666;\n",
              "  }\n",
              "\n",
              "  .colab-df-quickchart {\n",
              "    background-color: var(--bg-color);\n",
              "    border: none;\n",
              "    border-radius: 50%;\n",
              "    cursor: pointer;\n",
              "    display: none;\n",
              "    fill: var(--fill-color);\n",
              "    height: 32px;\n",
              "    padding: 0;\n",
              "    width: 32px;\n",
              "  }\n",
              "\n",
              "  .colab-df-quickchart:hover {\n",
              "    background-color: var(--hover-bg-color);\n",
              "    box-shadow: 0 1px 2px rgba(60, 64, 67, 0.3), 0 1px 3px 1px rgba(60, 64, 67, 0.15);\n",
              "    fill: var(--button-hover-fill-color);\n",
              "  }\n",
              "\n",
              "  .colab-df-quickchart-complete:disabled,\n",
              "  .colab-df-quickchart-complete:disabled:hover {\n",
              "    background-color: var(--disabled-bg-color);\n",
              "    fill: var(--disabled-fill-color);\n",
              "    box-shadow: none;\n",
              "  }\n",
              "\n",
              "  .colab-df-spinner {\n",
              "    border: 2px solid var(--fill-color);\n",
              "    border-color: transparent;\n",
              "    border-bottom-color: var(--fill-color);\n",
              "    animation:\n",
              "      spin 1s steps(1) infinite;\n",
              "  }\n",
              "\n",
              "  @keyframes spin {\n",
              "    0% {\n",
              "      border-color: transparent;\n",
              "      border-bottom-color: var(--fill-color);\n",
              "      border-left-color: var(--fill-color);\n",
              "    }\n",
              "    20% {\n",
              "      border-color: transparent;\n",
              "      border-left-color: var(--fill-color);\n",
              "      border-top-color: var(--fill-color);\n",
              "    }\n",
              "    30% {\n",
              "      border-color: transparent;\n",
              "      border-left-color: var(--fill-color);\n",
              "      border-top-color: var(--fill-color);\n",
              "      border-right-color: var(--fill-color);\n",
              "    }\n",
              "    40% {\n",
              "      border-color: transparent;\n",
              "      border-right-color: var(--fill-color);\n",
              "      border-top-color: var(--fill-color);\n",
              "    }\n",
              "    60% {\n",
              "      border-color: transparent;\n",
              "      border-right-color: var(--fill-color);\n",
              "    }\n",
              "    80% {\n",
              "      border-color: transparent;\n",
              "      border-right-color: var(--fill-color);\n",
              "      border-bottom-color: var(--fill-color);\n",
              "    }\n",
              "    90% {\n",
              "      border-color: transparent;\n",
              "      border-bottom-color: var(--fill-color);\n",
              "    }\n",
              "  }\n",
              "</style>\n",
              "\n",
              "  <script>\n",
              "    async function quickchart(key) {\n",
              "      const quickchartButtonEl =\n",
              "        document.querySelector('#' + key + ' button');\n",
              "      quickchartButtonEl.disabled = true;  // To prevent multiple clicks.\n",
              "      quickchartButtonEl.classList.add('colab-df-spinner');\n",
              "      try {\n",
              "        const charts = await google.colab.kernel.invokeFunction(\n",
              "            'suggestCharts', [key], {});\n",
              "      } catch (error) {\n",
              "        console.error('Error during call to suggestCharts:', error);\n",
              "      }\n",
              "      quickchartButtonEl.classList.remove('colab-df-spinner');\n",
              "      quickchartButtonEl.classList.add('colab-df-quickchart-complete');\n",
              "    }\n",
              "    (() => {\n",
              "      let quickchartButtonEl =\n",
              "        document.querySelector('#df-601c468d-77e0-49a1-966f-0af1cdd83efe button');\n",
              "      quickchartButtonEl.style.display =\n",
              "        google.colab.kernel.accessAllowed ? 'block' : 'none';\n",
              "    })();\n",
              "  </script>\n",
              "</div>\n",
              "    </div>\n",
              "  </div>\n"
            ],
            "text/plain": [
              "   Creative & Professional Services  Healthcare & Social Services  \\\n",
              "0                             False                         False   \n",
              "1                              True                         False   \n",
              "2                             False                         False   \n",
              "3                             False                         False   \n",
              "4                             False                         False   \n",
              "\n",
              "   Management & Administration  Service & Support Roles  \\\n",
              "0                        False                    False   \n",
              "1                        False                    False   \n",
              "2                        False                    False   \n",
              "3                         True                    False   \n",
              "4                        False                    False   \n",
              "\n",
              "   Technical & Skilled Trades  \n",
              "0                        True  \n",
              "1                       False  \n",
              "2                        True  \n",
              "3                       False  \n",
              "4                        True  "
            ]
          },
          "execution_count": 72,
          "metadata": {},
          "output_type": "execute_result"
        }
      ],
      "source": [
        "y.head()"
      ]
    },
    {
      "cell_type": "code",
      "execution_count": 73,
      "metadata": {
        "colab": {
          "base_uri": "https://localhost:8080/"
        },
        "id": "yiXyNWqxKULW",
        "outputId": "67700d98-a327-4ccd-f9a3-057ec3ec109a"
      },
      "outputs": [
        {
          "data": {
            "text/plain": [
              "5"
            ]
          },
          "execution_count": 73,
          "metadata": {},
          "output_type": "execute_result"
        }
      ],
      "source": [
        "num_classes = y.shape[1]\n",
        "num_classes"
      ]
    },
    {
      "cell_type": "code",
      "execution_count": 112,
      "metadata": {
        "id": "WaT29t_oKULW"
      },
      "outputs": [],
      "source": [
        "train_X, test_X, train_y, test_y = train_test_split(X, y, test_size=0.2)"
      ]
    },
    {
      "cell_type": "code",
      "execution_count": 113,
      "metadata": {
        "id": "ApjKPWKxKULW"
      },
      "outputs": [],
      "source": [
        "tokenizer = Tokenizer(num_words=max_vocabulary_size)\n",
        "tokenizer.fit_on_texts(train_X.values)\n",
        "train_X = tokenizer.texts_to_sequences(train_X)\n",
        "test_X = tokenizer.texts_to_sequences(test_X)"
      ]
    },
    {
      "cell_type": "code",
      "execution_count": 114,
      "metadata": {
        "colab": {
          "base_uri": "https://localhost:8080/",
          "height": 430
        },
        "id": "uOhLaI0QKULW",
        "outputId": "4c02cb82-ed45-4666-abdf-4117ee5153a7"
      },
      "outputs": [
        {
          "data": {
            "image/png": "[encoded data removed]",
            "text/plain": [
              "<Figure size 640x480 with 1 Axes>"
            ]
          },
          "metadata": {},
          "output_type": "display_data"
        }
      ],
      "source": [
        "plt.hist([len(tokens) for tokens in train_X]);"
      ]
    },
    {
      "cell_type": "code",
      "execution_count": 115,
      "metadata": {
        "colab": {
          "base_uri": "https://localhost:8080/",
          "height": 430
        },
        "id": "uobXjIgPKULW",
        "outputId": "e2a11e6d-7c43-4b5f-cf4c-a608443e7969"
      },
      "outputs": [
        {
          "data": {
            "image/png": "[encoded data removed]",
            "text/plain": [
              "<Figure size 640x480 with 1 Axes>"
            ]
          },
          "metadata": {},
          "output_type": "display_data"
        }
      ],
      "source": [
        "plt.hist([len(tokens) for tokens in test_X]);"
      ]
    },
    {
      "cell_type": "code",
      "execution_count": 116,
      "metadata": {
        "id": "QugKhfJ_KULW"
      },
      "outputs": [],
      "source": [
        "maxlen = 16"
      ]
    },
    {
      "cell_type": "code",
      "execution_count": 117,
      "metadata": {
        "id": "g-o0DEi0KULW"
      },
      "outputs": [],
      "source": [
        "train_X = sequence.pad_sequences(train_X, maxlen=maxlen)\n",
        "test_X = sequence.pad_sequences(test_X, maxlen=maxlen)"
      ]
    },
    {
      "cell_type": "code",
      "execution_count": 118,
      "metadata": {
        "colab": {
          "base_uri": "https://localhost:8080/"
        },
        "id": "bulZYKtRKULW",
        "outputId": "69a7795e-2ae2-4a14-f6a8-c03580823061"
      },
      "outputs": [
        {
          "data": {
            "text/plain": [
              "((1223, 16), (306, 16))"
            ]
          },
          "execution_count": 118,
          "metadata": {},
          "output_type": "execute_result"
        }
      ],
      "source": [
        "train_X.shape, test_X.shape"
      ]
    },
    {
      "cell_type": "code",
      "execution_count": 119,
      "metadata": {
        "id": "c2uZBYuMNBTB"
      },
      "outputs": [],
      "source": [
        "# ffnn_model = Sequential([\n",
        "#     Embedding(input_dim=max_vocabulary_size, output_dim=32),\n",
        "#     Flatten(),\n",
        "#     Dense(128),\n",
        "#     Dense(64),\n",
        "#     Dense(num_classes, activation=\"softmax\")\n",
        "# ])"
      ]
    },
    {
      "cell_type": "code",
      "execution_count": 120,
      "metadata": {
        "id": "XUMNKh8FKULX"
      },
      "outputs": [],
      "source": [
        "model = Sequential([\n",
        "    Embedding(input_dim=max_vocabulary_size, output_dim=32),\n",
        "    Conv1D(filters=32, kernel_size=4, padding=\"same\", activation=\"relu\"),\n",
        "    MaxPooling1D(pool_size=2),\n",
        "    LSTM(64, dropout=0.1, recurrent_dropout=0.1),\n",
        "    Dense(num_classes, activation=\"softmax\")\n",
        "])"
      ]
    },
    {
      "cell_type": "code",
      "execution_count": 121,
      "metadata": {
        "id": "DE4KDh6zKULX"
      },
      "outputs": [],
      "source": [
        "model.compile(\n",
        "    loss=\"categorical_crossentropy\",\n",
        "    optimizer=\"adam\",\n",
        "    metrics=[\"precision\", \"recall\", \"f1_score\"]\n",
        ")"
      ]
    },
    {
      "cell_type": "code",
      "execution_count": 122,
      "metadata": {
        "colab": {
          "base_uri": "https://localhost:8080/"
        },
        "id": "LWFQWbP6KULX",
        "outputId": "5294683a-1bf1-4b8b-81ae-293ace9b56fb"
      },
      "outputs": [
        {
          "name": "stdout",
          "output_type": "stream",
          "text": [
            "Epoch 1/8\n",
            "\u001b[1m16/16\u001b[0m \u001b[32m━━━━━━━━━━━━━━━━━━━━\u001b[0m\u001b[37m\u001b[0m \u001b[1m4s\u001b[0m 55ms/step - f1_score: 0.1039 - loss: 1.5950 - precision: 0.0000e+00 - recall: 0.0000e+00 - val_f1_score: 0.0918 - val_loss: 1.5430 - val_precision: 0.0000e+00 - val_recall: 0.0000e+00\n",
            "Epoch 2/8\n",
            "\u001b[1m16/16\u001b[0m \u001b[32m━━━━━━━━━━━━━━━━━━━━\u001b[0m\u001b[37m\u001b[0m \u001b[1m1s\u001b[0m 22ms/step - f1_score: 0.0929 - loss: 1.5245 - precision: 0.0000e+00 - recall: 0.0000e+00 - val_f1_score: 0.0918 - val_loss: 1.5165 - val_precision: 0.0000e+00 - val_recall: 0.0000e+00\n",
            "Epoch 3/8\n",
            "\u001b[1m16/16\u001b[0m \u001b[32m━━━━━━━━━━━━━━━━━━━━\u001b[0m\u001b[37m\u001b[0m \u001b[1m1s\u001b[0m 24ms/step - f1_score: 0.0932 - loss: 1.4852 - precision: 0.0000e+00 - recall: 0.0000e+00 - val_f1_score: 0.1087 - val_loss: 1.4778 - val_precision: 0.0000e+00 - val_recall: 0.0000e+00\n",
            "Epoch 4/8\n",
            "\u001b[1m16/16\u001b[0m \u001b[32m━━━━━━━━━━━━━━━━━━━━\u001b[0m\u001b[37m\u001b[0m \u001b[1m1s\u001b[0m 23ms/step - f1_score: 0.1520 - loss: 1.3973 - precision: 0.5755 - recall: 0.0039 - val_f1_score: 0.1957 - val_loss: 1.3253 - val_precision: 0.8696 - val_recall: 0.0816\n",
            "Epoch 5/8\n",
            "\u001b[1m16/16\u001b[0m \u001b[32m━━━━━━━━━━━━━━━━━━━━\u001b[0m\u001b[37m\u001b[0m \u001b[1m1s\u001b[0m 28ms/step - f1_score: 0.3580 - loss: 1.1340 - precision: 0.8454 - recall: 0.2615 - val_f1_score: 0.4608 - val_loss: 1.1274 - val_precision: 0.6325 - val_recall: 0.3020\n",
            "Epoch 6/8\n",
            "\u001b[1m16/16\u001b[0m \u001b[32m━━━━━━━━━━━━━━━━━━━━\u001b[0m\u001b[37m\u001b[0m \u001b[1m1s\u001b[0m 42ms/step - f1_score: 0.5692 - loss: 0.8295 - precision: 0.8185 - recall: 0.5217 - val_f1_score: 0.5306 - val_loss: 1.0253 - val_precision: 0.7059 - val_recall: 0.4408\n",
            "Epoch 7/8\n",
            "\u001b[1m16/16\u001b[0m \u001b[32m━━━━━━━━━━━━━━━━━━━━\u001b[0m\u001b[37m\u001b[0m \u001b[1m1s\u001b[0m 43ms/step - f1_score: 0.6533 - loss: 0.6282 - precision: 0.8579 - recall: 0.7226 - val_f1_score: 0.5511 - val_loss: 0.9960 - val_precision: 0.7050 - val_recall: 0.5755\n",
            "Epoch 8/8\n",
            "\u001b[1m16/16\u001b[0m \u001b[32m━━━━━━━━━━━━━━━━━━━━\u001b[0m\u001b[37m\u001b[0m \u001b[1m1s\u001b[0m 47ms/step - f1_score: 0.6878 - loss: 0.4769 - precision: 0.8811 - recall: 0.7969 - val_f1_score: 0.5709 - val_loss: 1.0245 - val_precision: 0.7097 - val_recall: 0.6286\n"
          ]
        }
      ],
      "source": [
        "history = model.fit(train_X, train_y, validation_split=0.2, batch_size=64, epochs=8)"
      ]
    },
    {
      "cell_type": "code",
      "execution_count": 123,
      "metadata": {
        "colab": {
          "base_uri": "https://localhost:8080/",
          "height": 323
        },
        "id": "jgWjZgteKULX",
        "outputId": "1a9060e8-acb7-44f6-817e-8a06e3597f23"
      },
      "outputs": [
        {
          "data": {
            "text/html": [
              "<pre style=\"white-space:pre;overflow-x:auto;line-height:normal;font-family:Menlo,'DejaVu Sans Mono',consolas,'Courier New',monospace\"><span style=\"font-weight: bold\">Model: \"sequential_3\"</span>\n",
              "</pre>\n"
            ],
            "text/plain": [
              "\u001b[1mModel: \"sequential_3\"\u001b[0m\n"
            ]
          },
          "metadata": {},
          "output_type": "display_data"
        },
        {
          "data": {
            "text/html": [
              "<pre style=\"white-space:pre;overflow-x:auto;line-height:normal;font-family:Menlo,'DejaVu Sans Mono',consolas,'Courier New',monospace\">┏━━━━━━━━━━━━━━━━━━━━━━━━━━━━━━━━━━━━━━┳━━━━━━━━━━━━━━━━━━━━━━━━━━━━━┳━━━━━━━━━━━━━━━━━┓\n",
              "┃<span style=\"font-weight: bold\"> Layer (type)                         </span>┃<span style=\"font-weight: bold\"> Output Shape                </span>┃<span style=\"font-weight: bold\">         Param # </span>┃\n",
              "┡━━━━━━━━━━━━━━━━━━━━━━━━━━━━━━━━━━━━━━╇━━━━━━━━━━━━━━━━━━━━━━━━━━━━━╇━━━━━━━━━━━━━━━━━┩\n",
              "│ embedding_3 (<span style=\"color: #0087ff; text-decoration-color: #0087ff\">Embedding</span>)              │ (<span style=\"color: #00d7ff; text-decoration-color: #00d7ff\">None</span>, <span style=\"color: #00af00; text-decoration-color: #00af00\">16</span>, <span style=\"color: #00af00; text-decoration-color: #00af00\">32</span>)              │          <span style=\"color: #00af00; text-decoration-color: #00af00\">57,600</span> │\n",
              "├──────────────────────────────────────┼─────────────────────────────┼─────────────────┤\n",
              "│ conv1d_2 (<span style=\"color: #0087ff; text-decoration-color: #0087ff\">Conv1D</span>)                    │ (<span style=\"color: #00d7ff; text-decoration-color: #00d7ff\">None</span>, <span style=\"color: #00af00; text-decoration-color: #00af00\">16</span>, <span style=\"color: #00af00; text-decoration-color: #00af00\">32</span>)              │           <span style=\"color: #00af00; text-decoration-color: #00af00\">4,128</span> │\n",
              "├──────────────────────────────────────┼─────────────────────────────┼─────────────────┤\n",
              "│ max_pooling1d_2 (<span style=\"color: #0087ff; text-decoration-color: #0087ff\">MaxPooling1D</span>)       │ (<span style=\"color: #00d7ff; text-decoration-color: #00d7ff\">None</span>, <span style=\"color: #00af00; text-decoration-color: #00af00\">8</span>, <span style=\"color: #00af00; text-decoration-color: #00af00\">32</span>)               │               <span style=\"color: #00af00; text-decoration-color: #00af00\">0</span> │\n",
              "├──────────────────────────────────────┼─────────────────────────────┼─────────────────┤\n",
              "│ lstm_2 (<span style=\"color: #0087ff; text-decoration-color: #0087ff\">LSTM</span>)                        │ (<span style=\"color: #00d7ff; text-decoration-color: #00d7ff\">None</span>, <span style=\"color: #00af00; text-decoration-color: #00af00\">64</span>)                  │          <span style=\"color: #00af00; text-decoration-color: #00af00\">24,832</span> │\n",
              "├──────────────────────────────────────┼─────────────────────────────┼─────────────────┤\n",
              "│ dense_5 (<span style=\"color: #0087ff; text-decoration-color: #0087ff\">Dense</span>)                      │ (<span style=\"color: #00d7ff; text-decoration-color: #00d7ff\">None</span>, <span style=\"color: #00af00; text-decoration-color: #00af00\">5</span>)                   │             <span style=\"color: #00af00; text-decoration-color: #00af00\">325</span> │\n",
              "└──────────────────────────────────────┴─────────────────────────────┴─────────────────┘\n",
              "</pre>\n"
            ],
            "text/plain": [
              "┏━━━━━━━━━━━━━━━━━━━━━━━━━━━━━━━━━━━━━━┳━━━━━━━━━━━━━━━━━━━━━━━━━━━━━┳━━━━━━━━━━━━━━━━━┓\n",
              "┃\u001b[1m \u001b[0m\u001b[1mLayer (type)                        \u001b[0m\u001b[1m \u001b[0m┃\u001b[1m \u001b[0m\u001b[1mOutput Shape               \u001b[0m\u001b[1m \u001b[0m┃\u001b[1m \u001b[0m\u001b[1m        Param #\u001b[0m\u001b[1m \u001b[0m┃\n",
              "┡━━━━━━━━━━━━━━━━━━━━━━━━━━━━━━━━━━━━━━╇━━━━━━━━━━━━━━━━━━━━━━━━━━━━━╇━━━━━━━━━━━━━━━━━┩\n",
              "│ embedding_3 (\u001b[38;5;33mEmbedding\u001b[0m)              │ (\u001b[38;5;45mNone\u001b[0m, \u001b[38;5;34m16\u001b[0m, \u001b[38;5;34m32\u001b[0m)              │          \u001b[38;5;34m57,600\u001b[0m │\n",
              "├──────────────────────────────────────┼─────────────────────────────┼─────────────────┤\n",
              "│ conv1d_2 (\u001b[38;5;33mConv1D\u001b[0m)                    │ (\u001b[38;5;45mNone\u001b[0m, \u001b[38;5;34m16\u001b[0m, \u001b[38;5;34m32\u001b[0m)              │           \u001b[38;5;34m4,128\u001b[0m │\n",
              "├──────────────────────────────────────┼─────────────────────────────┼─────────────────┤\n",
              "│ max_pooling1d_2 (\u001b[38;5;33mMaxPooling1D\u001b[0m)       │ (\u001b[38;5;45mNone\u001b[0m, \u001b[38;5;34m8\u001b[0m, \u001b[38;5;34m32\u001b[0m)               │               \u001b[38;5;34m0\u001b[0m │\n",
              "├──────────────────────────────────────┼─────────────────────────────┼─────────────────┤\n",
              "│ lstm_2 (\u001b[38;5;33mLSTM\u001b[0m)                        │ (\u001b[38;5;45mNone\u001b[0m, \u001b[38;5;34m64\u001b[0m)                  │          \u001b[38;5;34m24,832\u001b[0m │\n",
              "├──────────────────────────────────────┼─────────────────────────────┼─────────────────┤\n",
              "│ dense_5 (\u001b[38;5;33mDense\u001b[0m)                      │ (\u001b[38;5;45mNone\u001b[0m, \u001b[38;5;34m5\u001b[0m)                   │             \u001b[38;5;34m325\u001b[0m │\n",
              "└──────────────────────────────────────┴─────────────────────────────┴─────────────────┘\n"
            ]
          },
          "metadata": {},
          "output_type": "display_data"
        },
        {
          "data": {
            "text/html": [
              "<pre style=\"white-space:pre;overflow-x:auto;line-height:normal;font-family:Menlo,'DejaVu Sans Mono',consolas,'Courier New',monospace\"><span style=\"font-weight: bold\"> Total params: </span><span style=\"color: #00af00; text-decoration-color: #00af00\">260,657</span> (1018.20 KB)\n",
              "</pre>\n"
            ],
            "text/plain": [
              "\u001b[1m Total params: \u001b[0m\u001b[38;5;34m260,657\u001b[0m (1018.20 KB)\n"
            ]
          },
          "metadata": {},
          "output_type": "display_data"
        },
        {
          "data": {
            "text/html": [
              "<pre style=\"white-space:pre;overflow-x:auto;line-height:normal;font-family:Menlo,'DejaVu Sans Mono',consolas,'Courier New',monospace\"><span style=\"font-weight: bold\"> Trainable params: </span><span style=\"color: #00af00; text-decoration-color: #00af00\">86,885</span> (339.39 KB)\n",
              "</pre>\n"
            ],
            "text/plain": [
              "\u001b[1m Trainable params: \u001b[0m\u001b[38;5;34m86,885\u001b[0m (339.39 KB)\n"
            ]
          },
          "metadata": {},
          "output_type": "display_data"
        },
        {
          "data": {
            "text/html": [
              "<pre style=\"white-space:pre;overflow-x:auto;line-height:normal;font-family:Menlo,'DejaVu Sans Mono',consolas,'Courier New',monospace\"><span style=\"font-weight: bold\"> Non-trainable params: </span><span style=\"color: #00af00; text-decoration-color: #00af00\">0</span> (0.00 B)\n",
              "</pre>\n"
            ],
            "text/plain": [
              "\u001b[1m Non-trainable params: \u001b[0m\u001b[38;5;34m0\u001b[0m (0.00 B)\n"
            ]
          },
          "metadata": {},
          "output_type": "display_data"
        },
        {
          "data": {
            "text/html": [
              "<pre style=\"white-space:pre;overflow-x:auto;line-height:normal;font-family:Menlo,'DejaVu Sans Mono',consolas,'Courier New',monospace\"><span style=\"font-weight: bold\"> Optimizer params: </span><span style=\"color: #00af00; text-decoration-color: #00af00\">173,772</span> (678.80 KB)\n",
              "</pre>\n"
            ],
            "text/plain": [
              "\u001b[1m Optimizer params: \u001b[0m\u001b[38;5;34m173,772\u001b[0m (678.80 KB)\n"
            ]
          },
          "metadata": {},
          "output_type": "display_data"
        }
      ],
      "source": [
        "model.summary()"
      ]
    },
    {
      "cell_type": "code",
      "execution_count": 124,
      "metadata": {
        "colab": {
          "base_uri": "https://localhost:8080/",
          "height": 447
        },
        "id": "LN9gixrVKULX",
        "outputId": "cc6b6e32-032c-42b4-998b-114a012e6a0f"
      },
      "outputs": [
        {
          "data": {
            "text/plain": [
              "<Axes: >"
            ]
          },
          "execution_count": 124,
          "metadata": {},
          "output_type": "execute_result"
        },
        {
          "data": {
            "image/png": "[encoded data removed]",
            "text/plain": [
              "<Figure size 640x480 with 1 Axes>"
            ]
          },
          "metadata": {},
          "output_type": "display_data"
        }
      ],
      "source": [
        "sns.lineplot(history.history[\"loss\"], label=\"loss\")\n",
        "sns.lineplot(history.history[\"val_loss\"], label=\"val_loss\")"
      ]
    },
    {
      "cell_type": "code",
      "execution_count": 125,
      "metadata": {
        "colab": {
          "base_uri": "https://localhost:8080/"
        },
        "id": "KQahSqxEKULX",
        "outputId": "cb5551f9-d358-4716-f011-4b3bf9484380"
      },
      "outputs": [
        {
          "name": "stdout",
          "output_type": "stream",
          "text": [
            "\u001b[1m10/10\u001b[0m \u001b[32m━━━━━━━━━━━━━━━━━━━━\u001b[0m\u001b[37m\u001b[0m \u001b[1m0s\u001b[0m 26ms/step\n"
          ]
        }
      ],
      "source": [
        "preds = model.predict(test_X)"
      ]
    },
    {
      "cell_type": "code",
      "execution_count": 126,
      "metadata": {
        "id": "kJqHQ516KULX"
      },
      "outputs": [],
      "source": [
        "test_y = test_y.values.argmax(axis=1)\n",
        "preds = preds.argmax(axis=1)"
      ]
    },
    {
      "cell_type": "code",
      "execution_count": 127,
      "metadata": {
        "colab": {
          "base_uri": "https://localhost:8080/"
        },
        "id": "ALJ4LEBFKULX",
        "outputId": "29500f81-1b99-4fab-8dc1-dd0116d5e603"
      },
      "outputs": [
        {
          "name": "stdout",
          "output_type": "stream",
          "text": [
            "              precision    recall  f1-score   support\n",
            "\n",
            "           0       0.63      0.62      0.62        55\n",
            "           1       0.00      0.00      0.00        25\n",
            "           2       0.66      0.67      0.67        61\n",
            "           3       0.68      0.82      0.74        95\n",
            "           4       0.73      0.79      0.76        70\n",
            "\n",
            "    accuracy                           0.68       306\n",
            "   macro avg       0.54      0.58      0.56       306\n",
            "weighted avg       0.62      0.68      0.65       306\n",
            "\n"
          ]
        },
        {
          "name": "stderr",
          "output_type": "stream",
          "text": [
            "/usr/local/lib/python3.10/dist-packages/sklearn/metrics/_classification.py:1565: UndefinedMetricWarning: Precision is ill-defined and being set to 0.0 in labels with no predicted samples. Use `zero_division` parameter to control this behavior.\n",
            "  _warn_prf(average, modifier, f\"{metric.capitalize()} is\", len(result))\n",
            "/usr/local/lib/python3.10/dist-packages/sklearn/metrics/_classification.py:1565: UndefinedMetricWarning: Precision is ill-defined and being set to 0.0 in labels with no predicted samples. Use `zero_division` parameter to control this behavior.\n",
            "  _warn_prf(average, modifier, f\"{metric.capitalize()} is\", len(result))\n",
            "/usr/local/lib/python3.10/dist-packages/sklearn/metrics/_classification.py:1565: UndefinedMetricWarning: Precision is ill-defined and being set to 0.0 in labels with no predicted samples. Use `zero_division` parameter to control this behavior.\n",
            "  _warn_prf(average, modifier, f\"{metric.capitalize()} is\", len(result))\n"
          ]
        }
      ],
      "source": [
        "print(classification_report(test_y, preds))"
      ]
    },
    {
      "cell_type": "code",
      "execution_count": 128,
      "metadata": {
        "colab": {
          "base_uri": "https://localhost:8080/",
          "height": 489
        },
        "id": "lRf5GuJdKULX",
        "outputId": "15dca627-63a4-4db2-edbb-4cc28ac0da90"
      },
      "outputs": [
        {
          "data": {
            "text/plain": [
              "Text(0.5, 1.0, 'Confusion Matrix')"
            ]
          },
          "execution_count": 128,
          "metadata": {},
          "output_type": "execute_result"
        },
        {
          "data": {
            "image/png": "[encoded data removed]",
            "text/plain": [
              "<Figure size 640x480 with 2 Axes>"
            ]
          },
          "metadata": {},
          "output_type": "display_data"
        }
      ],
      "source": [
        "sns.heatmap(confusion_matrix(test_y, preds), annot=True, fmt=\"5.2f\", cmap=\"Blues\")\n",
        "plt.xlabel(\"Predicted Labels\")\n",
        "plt.ylabel(\"True Labels\")\n",
        "plt.title(\"Confusion Matrix\")"
      ]
    },
    {
      "cell_type": "markdown",
      "metadata": {
        "id": "vQphNPt09pOb"
      },
      "source": [
        "### Споредба на моделите"
      ]
    }
  ],
  "metadata": {
    "accelerator": "GPU",
    "colab": {
      "gpuType": "T4",
      "provenance": []
    },
    "kernelspec": {
      "display_name": "Python 3",
      "name": "python3"
    },
    "language_info": {
      "codemirror_mode": {
        "name": "ipython",
        "version": 3
      },
      "file_extension": ".py",
      "mimetype": "text/x-python",
      "name": "python",
      "nbconvert_exporter": "python",
      "pygments_lexer": "ipython3",
      "version": "3.12.5"
    },
    "widgets": {
      "application/vnd.jupyter.widget-state+json": {
        "040059439555419cbf69e56033166905": {
          "model_module": "@jupyter-widgets/base",
          "model_module_version": "1.2.0",
          "model_name": "LayoutModel",
          "state": {
            "_model_module": "@jupyter-widgets/base",
            "_model_module_version": "1.2.0",
            "_model_name": "LayoutModel",
            "_view_count": null,
            "_view_module": "@jupyter-widgets/base",
            "_view_module_version": "1.2.0",
            "_view_name": "LayoutView",
            "align_content": null,
            "align_items": null,
            "align_self": null,
            "border": null,
            "bottom": null,
            "display": null,
            "flex": null,
            "flex_flow": null,
            "grid_area": null,
            "grid_auto_columns": null,
            "grid_auto_flow": null,
            "grid_auto_rows": null,
            "grid_column": null,
            "grid_gap": null,
            "grid_row": null,
            "grid_template_areas": null,
            "grid_template_columns": null,
            "grid_template_rows": null,
            "height": null,
            "justify_content": null,
            "justify_items": null,
            "left": null,
            "margin": null,
            "max_height": null,
            "max_width": null,
            "min_height": null,
            "min_width": null,
            "object_fit": null,
            "object_position": null,
            "order": null,
            "overflow": null,
            "overflow_x": null,
            "overflow_y": null,
            "padding": null,
            "right": null,
            "top": null,
            "visibility": null,
            "width": null
          }
        },
        "0d4ab143cab94904bf2f862c7e1f145d": {
          "model_module": "@jupyter-widgets/controls",
          "model_module_version": "1.5.0",
          "model_name": "HTMLModel",
          "state": {
            "_dom_classes": [],
            "_model_module": "@jupyter-widgets/controls",
            "_model_module_version": "1.5.0",
            "_model_name": "HTMLModel",
            "_view_count": null,
            "_view_module": "@jupyter-widgets/controls",
            "_view_module_version": "1.5.0",
            "_view_name": "HTMLView",
            "description": "",
            "description_tooltip": null,
            "layout": "IPY_MODEL_d4d6dea8dec24dbc962caf801ded3a0f",
            "placeholder": "​",
            "style": "IPY_MODEL_23390201993046eeb5289ff3725047b0",
            "value": " 1584/0 [00:00&lt;00:00, 34909.19 examples/s]"
          }
        },
        "1008e5d48c5e4c46a5d782409eb63edf": {
          "model_module": "@jupyter-widgets/base",
          "model_module_version": "1.2.0",
          "model_name": "LayoutModel",
          "state": {
            "_model_module": "@jupyter-widgets/base",
            "_model_module_version": "1.2.0",
            "_model_name": "LayoutModel",
            "_view_count": null,
            "_view_module": "@jupyter-widgets/base",
            "_view_module_version": "1.2.0",
            "_view_name": "LayoutView",
            "align_content": null,
            "align_items": null,
            "align_self": null,
            "border": null,
            "bottom": null,
            "display": null,
            "flex": null,
            "flex_flow": null,
            "grid_area": null,
            "grid_auto_columns": null,
            "grid_auto_flow": null,
            "grid_auto_rows": null,
            "grid_column": null,
            "grid_gap": null,
            "grid_row": null,
            "grid_template_areas": null,
            "grid_template_columns": null,
            "grid_template_rows": null,
            "height": null,
            "justify_content": null,
            "justify_items": null,
            "left": null,
            "margin": null,
            "max_height": null,
            "max_width": null,
            "min_height": null,
            "min_width": null,
            "object_fit": null,
            "object_position": null,
            "order": null,
            "overflow": null,
            "overflow_x": null,
            "overflow_y": null,
            "padding": null,
            "right": null,
            "top": null,
            "visibility": null,
            "width": null
          }
        },
        "12b2b998937d4e759753863d8b148afa": {
          "model_module": "@jupyter-widgets/controls",
          "model_module_version": "1.5.0",
          "model_name": "DescriptionStyleModel",
          "state": {
            "_model_module": "@jupyter-widgets/controls",
            "_model_module_version": "1.5.0",
            "_model_name": "DescriptionStyleModel",
            "_view_count": null,
            "_view_module": "@jupyter-widgets/base",
            "_view_module_version": "1.2.0",
            "_view_name": "StyleView",
            "description_width": ""
          }
        },
        "215905fe33464705bb682ce8b87e0eb6": {
          "model_module": "@jupyter-widgets/controls",
          "model_module_version": "1.5.0",
          "model_name": "DescriptionStyleModel",
          "state": {
            "_model_module": "@jupyter-widgets/controls",
            "_model_module_version": "1.5.0",
            "_model_name": "DescriptionStyleModel",
            "_view_count": null,
            "_view_module": "@jupyter-widgets/base",
            "_view_module_version": "1.2.0",
            "_view_name": "StyleView",
            "description_width": ""
          }
        },
        "23390201993046eeb5289ff3725047b0": {
          "model_module": "@jupyter-widgets/controls",
          "model_module_version": "1.5.0",
          "model_name": "DescriptionStyleModel",
          "state": {
            "_model_module": "@jupyter-widgets/controls",
            "_model_module_version": "1.5.0",
            "_model_name": "DescriptionStyleModel",
            "_view_count": null,
            "_view_module": "@jupyter-widgets/base",
            "_view_module_version": "1.2.0",
            "_view_name": "StyleView",
            "description_width": ""
          }
        },
        "2b67a2e54ff847faa88fc727eb36e336": {
          "model_module": "@jupyter-widgets/controls",
          "model_module_version": "1.5.0",
          "model_name": "DescriptionStyleModel",
          "state": {
            "_model_module": "@jupyter-widgets/controls",
            "_model_module_version": "1.5.0",
            "_model_name": "DescriptionStyleModel",
            "_view_count": null,
            "_view_module": "@jupyter-widgets/base",
            "_view_module_version": "1.2.0",
            "_view_name": "StyleView",
            "description_width": ""
          }
        },
        "3399d899de574b47b5a7da1ae1238d7d": {
          "model_module": "@jupyter-widgets/base",
          "model_module_version": "1.2.0",
          "model_name": "LayoutModel",
          "state": {
            "_model_module": "@jupyter-widgets/base",
            "_model_module_version": "1.2.0",
            "_model_name": "LayoutModel",
            "_view_count": null,
            "_view_module": "@jupyter-widgets/base",
            "_view_module_version": "1.2.0",
            "_view_name": "LayoutView",
            "align_content": null,
            "align_items": null,
            "align_self": null,
            "border": null,
            "bottom": null,
            "display": null,
            "flex": null,
            "flex_flow": null,
            "grid_area": null,
            "grid_auto_columns": null,
            "grid_auto_flow": null,
            "grid_auto_rows": null,
            "grid_column": null,
            "grid_gap": null,
            "grid_row": null,
            "grid_template_areas": null,
            "grid_template_columns": null,
            "grid_template_rows": null,
            "height": null,
            "justify_content": null,
            "justify_items": null,
            "left": null,
            "margin": null,
            "max_height": null,
            "max_width": null,
            "min_height": null,
            "min_width": null,
            "object_fit": null,
            "object_position": null,
            "order": null,
            "overflow": null,
            "overflow_x": null,
            "overflow_y": null,
            "padding": null,
            "right": null,
            "top": null,
            "visibility": null,
            "width": null
          }
        },
        "4b2319ca0b7d4e4abbaf9fadae7e79ca": {
          "model_module": "@jupyter-widgets/controls",
          "model_module_version": "1.5.0",
          "model_name": "FloatProgressModel",
          "state": {
            "_dom_classes": [],
            "_model_module": "@jupyter-widgets/controls",
            "_model_module_version": "1.5.0",
            "_model_name": "FloatProgressModel",
            "_view_count": null,
            "_view_module": "@jupyter-widgets/controls",
            "_view_module_version": "1.5.0",
            "_view_name": "ProgressView",
            "bar_style": "success",
            "description": "",
            "description_tooltip": null,
            "layout": "IPY_MODEL_3399d899de574b47b5a7da1ae1238d7d",
            "max": 317,
            "min": 0,
            "orientation": "horizontal",
            "style": "IPY_MODEL_6d0ed60e521e427bb3f66f0d1e6493ad",
            "value": 317
          }
        },
        "565684828db243eaa78a29f5c1141713": {
          "model_module": "@jupyter-widgets/base",
          "model_module_version": "1.2.0",
          "model_name": "LayoutModel",
          "state": {
            "_model_module": "@jupyter-widgets/base",
            "_model_module_version": "1.2.0",
            "_model_name": "LayoutModel",
            "_view_count": null,
            "_view_module": "@jupyter-widgets/base",
            "_view_module_version": "1.2.0",
            "_view_name": "LayoutView",
            "align_content": null,
            "align_items": null,
            "align_self": null,
            "border": null,
            "bottom": null,
            "display": null,
            "flex": null,
            "flex_flow": null,
            "grid_area": null,
            "grid_auto_columns": null,
            "grid_auto_flow": null,
            "grid_auto_rows": null,
            "grid_column": null,
            "grid_gap": null,
            "grid_row": null,
            "grid_template_areas": null,
            "grid_template_columns": null,
            "grid_template_rows": null,
            "height": null,
            "justify_content": null,
            "justify_items": null,
            "left": null,
            "margin": null,
            "max_height": null,
            "max_width": null,
            "min_height": null,
            "min_width": null,
            "object_fit": null,
            "object_position": null,
            "order": null,
            "overflow": null,
            "overflow_x": null,
            "overflow_y": null,
            "padding": null,
            "right": null,
            "top": null,
            "visibility": null,
            "width": "20px"
          }
        },
        "5aab6a9253b449ab9c7c17297b607852": {
          "model_module": "@jupyter-widgets/controls",
          "model_module_version": "1.5.0",
          "model_name": "ProgressStyleModel",
          "state": {
            "_model_module": "@jupyter-widgets/controls",
            "_model_module_version": "1.5.0",
            "_model_name": "ProgressStyleModel",
            "_view_count": null,
            "_view_module": "@jupyter-widgets/base",
            "_view_module_version": "1.2.0",
            "_view_name": "StyleView",
            "bar_color": null,
            "description_width": ""
          }
        },
        "5e3aacb12eeb4e2a98408cef9ebe52f8": {
          "model_module": "@jupyter-widgets/controls",
          "model_module_version": "1.5.0",
          "model_name": "FloatProgressModel",
          "state": {
            "_dom_classes": [],
            "_model_module": "@jupyter-widgets/controls",
            "_model_module_version": "1.5.0",
            "_model_name": "FloatProgressModel",
            "_view_count": null,
            "_view_module": "@jupyter-widgets/controls",
            "_view_module_version": "1.5.0",
            "_view_name": "ProgressView",
            "bar_style": "success",
            "description": "",
            "description_tooltip": null,
            "layout": "IPY_MODEL_040059439555419cbf69e56033166905",
            "max": 1267,
            "min": 0,
            "orientation": "horizontal",
            "style": "IPY_MODEL_5aab6a9253b449ab9c7c17297b607852",
            "value": 1267
          }
        },
        "5f3de95cb06c400886227f360cb0a939": {
          "model_module": "@jupyter-widgets/controls",
          "model_module_version": "1.5.0",
          "model_name": "HTMLModel",
          "state": {
            "_dom_classes": [],
            "_model_module": "@jupyter-widgets/controls",
            "_model_module_version": "1.5.0",
            "_model_name": "HTMLModel",
            "_view_count": null,
            "_view_module": "@jupyter-widgets/controls",
            "_view_module_version": "1.5.0",
            "_view_name": "HTMLView",
            "description": "",
            "description_tooltip": null,
            "layout": "IPY_MODEL_e5dbb56d1f264f5f87f33ecf1c819e46",
            "placeholder": "​",
            "style": "IPY_MODEL_abc6cf4d37104cefbd5a05a028f629ff",
            "value": "Map: 100%"
          }
        },
        "6d0ed60e521e427bb3f66f0d1e6493ad": {
          "model_module": "@jupyter-widgets/controls",
          "model_module_version": "1.5.0",
          "model_name": "ProgressStyleModel",
          "state": {
            "_model_module": "@jupyter-widgets/controls",
            "_model_module_version": "1.5.0",
            "_model_name": "ProgressStyleModel",
            "_view_count": null,
            "_view_module": "@jupyter-widgets/base",
            "_view_module_version": "1.2.0",
            "_view_name": "StyleView",
            "bar_color": null,
            "description_width": ""
          }
        },
        "734ca013fa3248398f94aa8713949752": {
          "model_module": "@jupyter-widgets/base",
          "model_module_version": "1.2.0",
          "model_name": "LayoutModel",
          "state": {
            "_model_module": "@jupyter-widgets/base",
            "_model_module_version": "1.2.0",
            "_model_name": "LayoutModel",
            "_view_count": null,
            "_view_module": "@jupyter-widgets/base",
            "_view_module_version": "1.2.0",
            "_view_name": "LayoutView",
            "align_content": null,
            "align_items": null,
            "align_self": null,
            "border": null,
            "bottom": null,
            "display": null,
            "flex": null,
            "flex_flow": null,
            "grid_area": null,
            "grid_auto_columns": null,
            "grid_auto_flow": null,
            "grid_auto_rows": null,
            "grid_column": null,
            "grid_gap": null,
            "grid_row": null,
            "grid_template_areas": null,
            "grid_template_columns": null,
            "grid_template_rows": null,
            "height": null,
            "justify_content": null,
            "justify_items": null,
            "left": null,
            "margin": null,
            "max_height": null,
            "max_width": null,
            "min_height": null,
            "min_width": null,
            "object_fit": null,
            "object_position": null,
            "order": null,
            "overflow": null,
            "overflow_x": null,
            "overflow_y": null,
            "padding": null,
            "right": null,
            "top": null,
            "visibility": null,
            "width": null
          }
        },
        "818e057b07d74c44920658ba0ef4c342": {
          "model_module": "@jupyter-widgets/base",
          "model_module_version": "1.2.0",
          "model_name": "LayoutModel",
          "state": {
            "_model_module": "@jupyter-widgets/base",
            "_model_module_version": "1.2.0",
            "_model_name": "LayoutModel",
            "_view_count": null,
            "_view_module": "@jupyter-widgets/base",
            "_view_module_version": "1.2.0",
            "_view_name": "LayoutView",
            "align_content": null,
            "align_items": null,
            "align_self": null,
            "border": null,
            "bottom": null,
            "display": null,
            "flex": null,
            "flex_flow": null,
            "grid_area": null,
            "grid_auto_columns": null,
            "grid_auto_flow": null,
            "grid_auto_rows": null,
            "grid_column": null,
            "grid_gap": null,
            "grid_row": null,
            "grid_template_areas": null,
            "grid_template_columns": null,
            "grid_template_rows": null,
            "height": null,
            "justify_content": null,
            "justify_items": null,
            "left": null,
            "margin": null,
            "max_height": null,
            "max_width": null,
            "min_height": null,
            "min_width": null,
            "object_fit": null,
            "object_position": null,
            "order": null,
            "overflow": null,
            "overflow_x": null,
            "overflow_y": null,
            "padding": null,
            "right": null,
            "top": null,
            "visibility": null,
            "width": null
          }
        },
        "8b0615878038488994d8287f2be10cb2": {
          "model_module": "@jupyter-widgets/controls",
          "model_module_version": "1.5.0",
          "model_name": "FloatProgressModel",
          "state": {
            "_dom_classes": [],
            "_model_module": "@jupyter-widgets/controls",
            "_model_module_version": "1.5.0",
            "_model_name": "FloatProgressModel",
            "_view_count": null,
            "_view_module": "@jupyter-widgets/controls",
            "_view_module_version": "1.5.0",
            "_view_name": "ProgressView",
            "bar_style": "success",
            "description": "",
            "description_tooltip": null,
            "layout": "IPY_MODEL_565684828db243eaa78a29f5c1141713",
            "max": 1,
            "min": 0,
            "orientation": "horizontal",
            "style": "IPY_MODEL_c601fc632cf940fca71312903ea5a20d",
            "value": 1
          }
        },
        "9320a31d5c0344279298be943e00dd81": {
          "model_module": "@jupyter-widgets/base",
          "model_module_version": "1.2.0",
          "model_name": "LayoutModel",
          "state": {
            "_model_module": "@jupyter-widgets/base",
            "_model_module_version": "1.2.0",
            "_model_name": "LayoutModel",
            "_view_count": null,
            "_view_module": "@jupyter-widgets/base",
            "_view_module_version": "1.2.0",
            "_view_name": "LayoutView",
            "align_content": null,
            "align_items": null,
            "align_self": null,
            "border": null,
            "bottom": null,
            "display": null,
            "flex": null,
            "flex_flow": null,
            "grid_area": null,
            "grid_auto_columns": null,
            "grid_auto_flow": null,
            "grid_auto_rows": null,
            "grid_column": null,
            "grid_gap": null,
            "grid_row": null,
            "grid_template_areas": null,
            "grid_template_columns": null,
            "grid_template_rows": null,
            "height": null,
            "justify_content": null,
            "justify_items": null,
            "left": null,
            "margin": null,
            "max_height": null,
            "max_width": null,
            "min_height": null,
            "min_width": null,
            "object_fit": null,
            "object_position": null,
            "order": null,
            "overflow": null,
            "overflow_x": null,
            "overflow_y": null,
            "padding": null,
            "right": null,
            "top": null,
            "visibility": null,
            "width": null
          }
        },
        "9a5ffeea72bb4a908894e70f3aae8df7": {
          "model_module": "@jupyter-widgets/controls",
          "model_module_version": "1.5.0",
          "model_name": "HTMLModel",
          "state": {
            "_dom_classes": [],
            "_model_module": "@jupyter-widgets/controls",
            "_model_module_version": "1.5.0",
            "_model_name": "HTMLModel",
            "_view_count": null,
            "_view_module": "@jupyter-widgets/controls",
            "_view_module_version": "1.5.0",
            "_view_name": "HTMLView",
            "description": "",
            "description_tooltip": null,
            "layout": "IPY_MODEL_a8b0a3bf8581498bb60c977db3e72688",
            "placeholder": "​",
            "style": "IPY_MODEL_215905fe33464705bb682ce8b87e0eb6",
            "value": " 317/317 [00:00&lt;00:00, 4070.89 examples/s]"
          }
        },
        "a8b0a3bf8581498bb60c977db3e72688": {
          "model_module": "@jupyter-widgets/base",
          "model_module_version": "1.2.0",
          "model_name": "LayoutModel",
          "state": {
            "_model_module": "@jupyter-widgets/base",
            "_model_module_version": "1.2.0",
            "_model_name": "LayoutModel",
            "_view_count": null,
            "_view_module": "@jupyter-widgets/base",
            "_view_module_version": "1.2.0",
            "_view_name": "LayoutView",
            "align_content": null,
            "align_items": null,
            "align_self": null,
            "border": null,
            "bottom": null,
            "display": null,
            "flex": null,
            "flex_flow": null,
            "grid_area": null,
            "grid_auto_columns": null,
            "grid_auto_flow": null,
            "grid_auto_rows": null,
            "grid_column": null,
            "grid_gap": null,
            "grid_row": null,
            "grid_template_areas": null,
            "grid_template_columns": null,
            "grid_template_rows": null,
            "height": null,
            "justify_content": null,
            "justify_items": null,
            "left": null,
            "margin": null,
            "max_height": null,
            "max_width": null,
            "min_height": null,
            "min_width": null,
            "object_fit": null,
            "object_position": null,
            "order": null,
            "overflow": null,
            "overflow_x": null,
            "overflow_y": null,
            "padding": null,
            "right": null,
            "top": null,
            "visibility": null,
            "width": null
          }
        },
        "a8b75f83869c43688e509ace1b0f6fe3": {
          "model_module": "@jupyter-widgets/base",
          "model_module_version": "1.2.0",
          "model_name": "LayoutModel",
          "state": {
            "_model_module": "@jupyter-widgets/base",
            "_model_module_version": "1.2.0",
            "_model_name": "LayoutModel",
            "_view_count": null,
            "_view_module": "@jupyter-widgets/base",
            "_view_module_version": "1.2.0",
            "_view_name": "LayoutView",
            "align_content": null,
            "align_items": null,
            "align_self": null,
            "border": null,
            "bottom": null,
            "display": null,
            "flex": null,
            "flex_flow": null,
            "grid_area": null,
            "grid_auto_columns": null,
            "grid_auto_flow": null,
            "grid_auto_rows": null,
            "grid_column": null,
            "grid_gap": null,
            "grid_row": null,
            "grid_template_areas": null,
            "grid_template_columns": null,
            "grid_template_rows": null,
            "height": null,
            "justify_content": null,
            "justify_items": null,
            "left": null,
            "margin": null,
            "max_height": null,
            "max_width": null,
            "min_height": null,
            "min_width": null,
            "object_fit": null,
            "object_position": null,
            "order": null,
            "overflow": null,
            "overflow_x": null,
            "overflow_y": null,
            "padding": null,
            "right": null,
            "top": null,
            "visibility": null,
            "width": null
          }
        },
        "abc6cf4d37104cefbd5a05a028f629ff": {
          "model_module": "@jupyter-widgets/controls",
          "model_module_version": "1.5.0",
          "model_name": "DescriptionStyleModel",
          "state": {
            "_model_module": "@jupyter-widgets/controls",
            "_model_module_version": "1.5.0",
            "_model_name": "DescriptionStyleModel",
            "_view_count": null,
            "_view_module": "@jupyter-widgets/base",
            "_view_module_version": "1.2.0",
            "_view_name": "StyleView",
            "description_width": ""
          }
        },
        "b44acf2b530d47088834fee69ccadebd": {
          "model_module": "@jupyter-widgets/controls",
          "model_module_version": "1.5.0",
          "model_name": "HTMLModel",
          "state": {
            "_dom_classes": [],
            "_model_module": "@jupyter-widgets/controls",
            "_model_module_version": "1.5.0",
            "_model_name": "HTMLModel",
            "_view_count": null,
            "_view_module": "@jupyter-widgets/controls",
            "_view_module_version": "1.5.0",
            "_view_name": "HTMLView",
            "description": "",
            "description_tooltip": null,
            "layout": "IPY_MODEL_818e057b07d74c44920658ba0ef4c342",
            "placeholder": "​",
            "style": "IPY_MODEL_b6f67728315e4e70b05577a73ff89415",
            "value": "Generating train split: "
          }
        },
        "b5a9c4bc88aa472a8b3cfc2f53427c00": {
          "model_module": "@jupyter-widgets/base",
          "model_module_version": "1.2.0",
          "model_name": "LayoutModel",
          "state": {
            "_model_module": "@jupyter-widgets/base",
            "_model_module_version": "1.2.0",
            "_model_name": "LayoutModel",
            "_view_count": null,
            "_view_module": "@jupyter-widgets/base",
            "_view_module_version": "1.2.0",
            "_view_name": "LayoutView",
            "align_content": null,
            "align_items": null,
            "align_self": null,
            "border": null,
            "bottom": null,
            "display": null,
            "flex": null,
            "flex_flow": null,
            "grid_area": null,
            "grid_auto_columns": null,
            "grid_auto_flow": null,
            "grid_auto_rows": null,
            "grid_column": null,
            "grid_gap": null,
            "grid_row": null,
            "grid_template_areas": null,
            "grid_template_columns": null,
            "grid_template_rows": null,
            "height": null,
            "justify_content": null,
            "justify_items": null,
            "left": null,
            "margin": null,
            "max_height": null,
            "max_width": null,
            "min_height": null,
            "min_width": null,
            "object_fit": null,
            "object_position": null,
            "order": null,
            "overflow": null,
            "overflow_x": null,
            "overflow_y": null,
            "padding": null,
            "right": null,
            "top": null,
            "visibility": null,
            "width": null
          }
        },
        "b6f67728315e4e70b05577a73ff89415": {
          "model_module": "@jupyter-widgets/controls",
          "model_module_version": "1.5.0",
          "model_name": "DescriptionStyleModel",
          "state": {
            "_model_module": "@jupyter-widgets/controls",
            "_model_module_version": "1.5.0",
            "_model_name": "DescriptionStyleModel",
            "_view_count": null,
            "_view_module": "@jupyter-widgets/base",
            "_view_module_version": "1.2.0",
            "_view_name": "StyleView",
            "description_width": ""
          }
        },
        "bd22a2961b764430b86f18737fd8585e": {
          "model_module": "@jupyter-widgets/controls",
          "model_module_version": "1.5.0",
          "model_name": "HBoxModel",
          "state": {
            "_dom_classes": [],
            "_model_module": "@jupyter-widgets/controls",
            "_model_module_version": "1.5.0",
            "_model_name": "HBoxModel",
            "_view_count": null,
            "_view_module": "@jupyter-widgets/controls",
            "_view_module_version": "1.5.0",
            "_view_name": "HBoxView",
            "box_style": "",
            "children": [
              "IPY_MODEL_b44acf2b530d47088834fee69ccadebd",
              "IPY_MODEL_8b0615878038488994d8287f2be10cb2",
              "IPY_MODEL_0d4ab143cab94904bf2f862c7e1f145d"
            ],
            "layout": "IPY_MODEL_9320a31d5c0344279298be943e00dd81"
          }
        },
        "c601fc632cf940fca71312903ea5a20d": {
          "model_module": "@jupyter-widgets/controls",
          "model_module_version": "1.5.0",
          "model_name": "ProgressStyleModel",
          "state": {
            "_model_module": "@jupyter-widgets/controls",
            "_model_module_version": "1.5.0",
            "_model_name": "ProgressStyleModel",
            "_view_count": null,
            "_view_module": "@jupyter-widgets/base",
            "_view_module_version": "1.2.0",
            "_view_name": "StyleView",
            "bar_color": null,
            "description_width": ""
          }
        },
        "cbe159a5e87b4dd28595abdee3c78c60": {
          "model_module": "@jupyter-widgets/controls",
          "model_module_version": "1.5.0",
          "model_name": "HBoxModel",
          "state": {
            "_dom_classes": [],
            "_model_module": "@jupyter-widgets/controls",
            "_model_module_version": "1.5.0",
            "_model_name": "HBoxModel",
            "_view_count": null,
            "_view_module": "@jupyter-widgets/controls",
            "_view_module_version": "1.5.0",
            "_view_name": "HBoxView",
            "box_style": "",
            "children": [
              "IPY_MODEL_5f3de95cb06c400886227f360cb0a939",
              "IPY_MODEL_5e3aacb12eeb4e2a98408cef9ebe52f8",
              "IPY_MODEL_dd8e71106b8a4a4abc72089cce82ab5b"
            ],
            "layout": "IPY_MODEL_1008e5d48c5e4c46a5d782409eb63edf"
          }
        },
        "cd35eb75e8ad4f688a89c7ecf6970ff2": {
          "model_module": "@jupyter-widgets/controls",
          "model_module_version": "1.5.0",
          "model_name": "HBoxModel",
          "state": {
            "_dom_classes": [],
            "_model_module": "@jupyter-widgets/controls",
            "_model_module_version": "1.5.0",
            "_model_name": "HBoxModel",
            "_view_count": null,
            "_view_module": "@jupyter-widgets/controls",
            "_view_module_version": "1.5.0",
            "_view_name": "HBoxView",
            "box_style": "",
            "children": [
              "IPY_MODEL_f29edb82905e411cb7c15aa51903432f",
              "IPY_MODEL_4b2319ca0b7d4e4abbaf9fadae7e79ca",
              "IPY_MODEL_9a5ffeea72bb4a908894e70f3aae8df7"
            ],
            "layout": "IPY_MODEL_a8b75f83869c43688e509ace1b0f6fe3"
          }
        },
        "d4d6dea8dec24dbc962caf801ded3a0f": {
          "model_module": "@jupyter-widgets/base",
          "model_module_version": "1.2.0",
          "model_name": "LayoutModel",
          "state": {
            "_model_module": "@jupyter-widgets/base",
            "_model_module_version": "1.2.0",
            "_model_name": "LayoutModel",
            "_view_count": null,
            "_view_module": "@jupyter-widgets/base",
            "_view_module_version": "1.2.0",
            "_view_name": "LayoutView",
            "align_content": null,
            "align_items": null,
            "align_self": null,
            "border": null,
            "bottom": null,
            "display": null,
            "flex": null,
            "flex_flow": null,
            "grid_area": null,
            "grid_auto_columns": null,
            "grid_auto_flow": null,
            "grid_auto_rows": null,
            "grid_column": null,
            "grid_gap": null,
            "grid_row": null,
            "grid_template_areas": null,
            "grid_template_columns": null,
            "grid_template_rows": null,
            "height": null,
            "justify_content": null,
            "justify_items": null,
            "left": null,
            "margin": null,
            "max_height": null,
            "max_width": null,
            "min_height": null,
            "min_width": null,
            "object_fit": null,
            "object_position": null,
            "order": null,
            "overflow": null,
            "overflow_x": null,
            "overflow_y": null,
            "padding": null,
            "right": null,
            "top": null,
            "visibility": null,
            "width": null
          }
        },
        "dd8e71106b8a4a4abc72089cce82ab5b": {
          "model_module": "@jupyter-widgets/controls",
          "model_module_version": "1.5.0",
          "model_name": "HTMLModel",
          "state": {
            "_dom_classes": [],
            "_model_module": "@jupyter-widgets/controls",
            "_model_module_version": "1.5.0",
            "_model_name": "HTMLModel",
            "_view_count": null,
            "_view_module": "@jupyter-widgets/controls",
            "_view_module_version": "1.5.0",
            "_view_name": "HTMLView",
            "description": "",
            "description_tooltip": null,
            "layout": "IPY_MODEL_b5a9c4bc88aa472a8b3cfc2f53427c00",
            "placeholder": "​",
            "style": "IPY_MODEL_12b2b998937d4e759753863d8b148afa",
            "value": " 1267/1267 [00:00&lt;00:00, 6286.15 examples/s]"
          }
        },
        "e5dbb56d1f264f5f87f33ecf1c819e46": {
          "model_module": "@jupyter-widgets/base",
          "model_module_version": "1.2.0",
          "model_name": "LayoutModel",
          "state": {
            "_model_module": "@jupyter-widgets/base",
            "_model_module_version": "1.2.0",
            "_model_name": "LayoutModel",
            "_view_count": null,
            "_view_module": "@jupyter-widgets/base",
            "_view_module_version": "1.2.0",
            "_view_name": "LayoutView",
            "align_content": null,
            "align_items": null,
            "align_self": null,
            "border": null,
            "bottom": null,
            "display": null,
            "flex": null,
            "flex_flow": null,
            "grid_area": null,
            "grid_auto_columns": null,
            "grid_auto_flow": null,
            "grid_auto_rows": null,
            "grid_column": null,
            "grid_gap": null,
            "grid_row": null,
            "grid_template_areas": null,
            "grid_template_columns": null,
            "grid_template_rows": null,
            "height": null,
            "justify_content": null,
            "justify_items": null,
            "left": null,
            "margin": null,
            "max_height": null,
            "max_width": null,
            "min_height": null,
            "min_width": null,
            "object_fit": null,
            "object_position": null,
            "order": null,
            "overflow": null,
            "overflow_x": null,
            "overflow_y": null,
            "padding": null,
            "right": null,
            "top": null,
            "visibility": null,
            "width": null
          }
        },
        "f29edb82905e411cb7c15aa51903432f": {
          "model_module": "@jupyter-widgets/controls",
          "model_module_version": "1.5.0",
          "model_name": "HTMLModel",
          "state": {
            "_dom_classes": [],
            "_model_module": "@jupyter-widgets/controls",
            "_model_module_version": "1.5.0",
            "_model_name": "HTMLModel",
            "_view_count": null,
            "_view_module": "@jupyter-widgets/controls",
            "_view_module_version": "1.5.0",
            "_view_name": "HTMLView",
            "description": "",
            "description_tooltip": null,
            "layout": "IPY_MODEL_734ca013fa3248398f94aa8713949752",
            "placeholder": "​",
            "style": "IPY_MODEL_2b67a2e54ff847faa88fc727eb36e336",
            "value": "Map: 100%"
          }
        }
      }
    }
  },
  "nbformat": 4,
  "nbformat_minor": 0
}
