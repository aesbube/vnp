{
 "cells": [
  {
   "cell_type": "code",
   "execution_count": 127,
   "metadata": {},
   "outputs": [
    {
     "data": {
      "text/plain": [
       "DatasetDict({\n",
       "    train: Dataset({\n",
       "        features: ['base_sentence', 'occupation_category'],\n",
       "        num_rows: 1584\n",
       "    })\n",
       "})"
      ]
     },
     "execution_count": 127,
     "metadata": {},
     "output_type": "execute_result"
    }
   ],
   "source": [
    "from datasets import load_dataset\n",
    "\n",
    "dataset = load_dataset(\"csv\", data_files=\"data_g1.csv\")\n",
    "dataset"
   ]
  },
  {
   "cell_type": "code",
   "execution_count": 128,
   "metadata": {},
   "outputs": [
    {
     "data": {
      "text/plain": [
       "array(['Technical & Skilled Trades', 'Creative & Professional Services',\n",
       "       'Management & Administration', 'Service & Support Roles',\n",
       "       'Healthcare & Social Services'], dtype=object)"
      ]
     },
     "execution_count": 128,
     "metadata": {},
     "output_type": "execute_result"
    }
   ],
   "source": [
    "df = dataset[\"train\"].to_pandas()\n",
    "df[\"occupation_category\"].unique()"
   ]
  },
  {
   "cell_type": "code",
   "execution_count": 129,
   "metadata": {},
   "outputs": [
    {
     "data": {
      "text/html": [
       "<div>\n",
       "<style scoped>\n",
       "    .dataframe tbody tr th:only-of-type {\n",
       "        vertical-align: middle;\n",
       "    }\n",
       "\n",
       "    .dataframe tbody tr th {\n",
       "        vertical-align: top;\n",
       "    }\n",
       "\n",
       "    .dataframe thead th {\n",
       "        text-align: right;\n",
       "    }\n",
       "</style>\n",
       "<table border=\"1\" class=\"dataframe\">\n",
       "  <thead>\n",
       "    <tr style=\"text-align: right;\">\n",
       "      <th></th>\n",
       "      <th>base_sentence</th>\n",
       "      <th>occupation_category</th>\n",
       "    </tr>\n",
       "  </thead>\n",
       "  <tbody>\n",
       "    <tr>\n",
       "      <th>0</th>\n",
       "      <td>The developer argued with the designer because...</td>\n",
       "      <td>Technical &amp; Skilled Trades</td>\n",
       "    </tr>\n",
       "    <tr>\n",
       "      <th>1</th>\n",
       "      <td>The developer argued with the designer because...</td>\n",
       "      <td>Creative &amp; Professional Services</td>\n",
       "    </tr>\n",
       "    <tr>\n",
       "      <th>2</th>\n",
       "      <td>The mechanic gave the clerk a present because ...</td>\n",
       "      <td>Technical &amp; Skilled Trades</td>\n",
       "    </tr>\n",
       "    <tr>\n",
       "      <th>3</th>\n",
       "      <td>The mechanic gave the clerk a present because ...</td>\n",
       "      <td>Management &amp; Administration</td>\n",
       "    </tr>\n",
       "    <tr>\n",
       "      <th>4</th>\n",
       "      <td>The mover said thank you to the housekeeper be...</td>\n",
       "      <td>Technical &amp; Skilled Trades</td>\n",
       "    </tr>\n",
       "    <tr>\n",
       "      <th>...</th>\n",
       "      <td>...</td>\n",
       "      <td>...</td>\n",
       "    </tr>\n",
       "    <tr>\n",
       "      <th>1579</th>\n",
       "      <td>The driver was annoyed with the assistant and ...</td>\n",
       "      <td>Management &amp; Administration</td>\n",
       "    </tr>\n",
       "    <tr>\n",
       "      <th>1580</th>\n",
       "      <td>The cleaner waited for the chief and talked to...</td>\n",
       "      <td>Management &amp; Administration</td>\n",
       "    </tr>\n",
       "    <tr>\n",
       "      <th>1581</th>\n",
       "      <td>The chief waited for the cleaner and asked him...</td>\n",
       "      <td>Service &amp; Support Roles</td>\n",
       "    </tr>\n",
       "    <tr>\n",
       "      <th>1582</th>\n",
       "      <td>The teacher befriended the janitor and told he...</td>\n",
       "      <td>Service &amp; Support Roles</td>\n",
       "    </tr>\n",
       "    <tr>\n",
       "      <th>1583</th>\n",
       "      <td>The janitor befriended the teacher and told hi...</td>\n",
       "      <td>Creative &amp; Professional Services</td>\n",
       "    </tr>\n",
       "  </tbody>\n",
       "</table>\n",
       "<p>1584 rows × 2 columns</p>\n",
       "</div>"
      ],
      "text/plain": [
       "                                          base_sentence  \\\n",
       "0     The developer argued with the designer because...   \n",
       "1     The developer argued with the designer because...   \n",
       "2     The mechanic gave the clerk a present because ...   \n",
       "3     The mechanic gave the clerk a present because ...   \n",
       "4     The mover said thank you to the housekeeper be...   \n",
       "...                                                 ...   \n",
       "1579  The driver was annoyed with the assistant and ...   \n",
       "1580  The cleaner waited for the chief and talked to...   \n",
       "1581  The chief waited for the cleaner and asked him...   \n",
       "1582  The teacher befriended the janitor and told he...   \n",
       "1583  The janitor befriended the teacher and told hi...   \n",
       "\n",
       "                   occupation_category  \n",
       "0           Technical & Skilled Trades  \n",
       "1     Creative & Professional Services  \n",
       "2           Technical & Skilled Trades  \n",
       "3          Management & Administration  \n",
       "4           Technical & Skilled Trades  \n",
       "...                                ...  \n",
       "1579       Management & Administration  \n",
       "1580       Management & Administration  \n",
       "1581           Service & Support Roles  \n",
       "1582           Service & Support Roles  \n",
       "1583  Creative & Professional Services  \n",
       "\n",
       "[1584 rows x 2 columns]"
      ]
     },
     "execution_count": 129,
     "metadata": {},
     "output_type": "execute_result"
    }
   ],
   "source": [
    "df"
   ]
  },
  {
   "cell_type": "code",
   "execution_count": 130,
   "metadata": {},
   "outputs": [],
   "source": [
    "from sklearn.preprocessing import LabelEncoder\n",
    "\n",
    "encoder = LabelEncoder()"
   ]
  },
  {
   "cell_type": "code",
   "execution_count": 131,
   "metadata": {},
   "outputs": [
    {
     "data": {
      "text/plain": [
       "array([4, 0, 4, ..., 3, 3, 0], dtype=int64)"
      ]
     },
     "execution_count": 131,
     "metadata": {},
     "output_type": "execute_result"
    }
   ],
   "source": [
    "labels = encoder.fit_transform(dataset['train']['occupation_category'])\n",
    "labels"
   ]
  },
  {
   "cell_type": "code",
   "execution_count": 132,
   "metadata": {},
   "outputs": [
    {
     "data": {
      "text/plain": [
       "DatasetDict({\n",
       "    train: Dataset({\n",
       "        features: ['text', 'label'],\n",
       "        num_rows: 1584\n",
       "    })\n",
       "})"
      ]
     },
     "execution_count": 132,
     "metadata": {},
     "output_type": "execute_result"
    }
   ],
   "source": [
    "dataset[\"train\"] = dataset[\"train\"].add_column(\"label\", labels)\n",
    "dataset['train'] = dataset['train'].remove_columns(\"occupation_category\")\n",
    "dataset = dataset.rename_column(\"base_sentence\", \"text\")\n",
    "dataset"
   ]
  },
  {
   "cell_type": "code",
   "execution_count": 133,
   "metadata": {},
   "outputs": [
    {
     "data": {
      "text/plain": [
       "DatasetDict({\n",
       "    train: Dataset({\n",
       "        features: ['text', 'label'],\n",
       "        num_rows: 1267\n",
       "    })\n",
       "    test: Dataset({\n",
       "        features: ['text', 'label'],\n",
       "        num_rows: 317\n",
       "    })\n",
       "})"
      ]
     },
     "execution_count": 133,
     "metadata": {},
     "output_type": "execute_result"
    }
   ],
   "source": [
    "dataset = dataset[\"train\"].train_test_split(test_size=0.2)\n",
    "dataset"
   ]
  },
  {
   "cell_type": "code",
   "execution_count": 134,
   "metadata": {},
   "outputs": [
    {
     "data": {
      "text/plain": [
       "{'text': Value(dtype='string', id=None),\n",
       " 'label': Value(dtype='int64', id=None)}"
      ]
     },
     "execution_count": 134,
     "metadata": {},
     "output_type": "execute_result"
    }
   ],
   "source": [
    "dataset[\"train\"].features"
   ]
  },
  {
   "cell_type": "code",
   "execution_count": 135,
   "metadata": {},
   "outputs": [
    {
     "data": {
      "text/plain": [
       "{0, 1, 2, 3, 4}"
      ]
     },
     "execution_count": 135,
     "metadata": {},
     "output_type": "execute_result"
    }
   ],
   "source": [
    "set(dataset[\"train\"]['label'])"
   ]
  },
  {
   "cell_type": "code",
   "execution_count": 136,
   "metadata": {},
   "outputs": [],
   "source": [
    "from transformers import AutoTokenizer, DataCollatorWithPadding\n",
    "\n",
    "checkpoint = \"bert-base-cased\"\n",
    "tokenizer = AutoTokenizer.from_pretrained(checkpoint)\n",
    "tokenized_texts = tokenizer(dataset[\"train\"][\"text\"])"
   ]
  },
  {
   "cell_type": "code",
   "execution_count": 137,
   "metadata": {},
   "outputs": [],
   "source": [
    "def tokenize(sample):\n",
    "    return tokenizer(sample[\"text\"], truncation=True)"
   ]
  },
  {
   "cell_type": "code",
   "execution_count": 138,
   "metadata": {},
   "outputs": [
    {
     "data": {
      "application/vnd.jupyter.widget-view+json": {
       "model_id": "db8bcf4047de451dab2bd1835f96c7a3",
       "version_major": 2,
       "version_minor": 0
      },
      "text/plain": [
       "Map:   0%|          | 0/1267 [00:00<?, ? examples/s]"
      ]
     },
     "metadata": {},
     "output_type": "display_data"
    },
    {
     "data": {
      "application/vnd.jupyter.widget-view+json": {
       "model_id": "120c877fca2d412b8cd34990d0feead1",
       "version_major": 2,
       "version_minor": 0
      },
      "text/plain": [
       "Map:   0%|          | 0/317 [00:00<?, ? examples/s]"
      ]
     },
     "metadata": {},
     "output_type": "display_data"
    }
   ],
   "source": [
    "tokenized_dataset = dataset.map(tokenize, batched=True)"
   ]
  },
  {
   "cell_type": "code",
   "execution_count": 139,
   "metadata": {},
   "outputs": [],
   "source": [
    "data_collator = DataCollatorWithPadding(tokenizer=tokenizer)"
   ]
  },
  {
   "cell_type": "code",
   "execution_count": 140,
   "metadata": {},
   "outputs": [
    {
     "data": {
      "text/plain": [
       "DatasetDict({\n",
       "    train: Dataset({\n",
       "        features: ['text', 'label', 'input_ids', 'token_type_ids', 'attention_mask'],\n",
       "        num_rows: 1267\n",
       "    })\n",
       "    test: Dataset({\n",
       "        features: ['text', 'label', 'input_ids', 'token_type_ids', 'attention_mask'],\n",
       "        num_rows: 317\n",
       "    })\n",
       "})"
      ]
     },
     "execution_count": 140,
     "metadata": {},
     "output_type": "execute_result"
    }
   ],
   "source": [
    "tokenized_dataset"
   ]
  },
  {
   "cell_type": "code",
   "execution_count": 141,
   "metadata": {},
   "outputs": [],
   "source": [
    "from transformers import TrainingArguments\n",
    "\n",
    "training_args = TrainingArguments(\n",
    "    output_dir=\"trainer\",\n",
    "    eval_strategy=\"epoch\",\n",
    "    per_device_train_batch_size=8,\n",
    "    per_device_eval_batch_size=8,\n",
    "    metric_for_best_model=\"f1\",\n",
    "    num_train_epochs=1,\n",
    "    learning_rate=0.001,\n",
    ")"
   ]
  },
  {
   "cell_type": "code",
   "execution_count": 142,
   "metadata": {},
   "outputs": [
    {
     "name": "stderr",
     "output_type": "stream",
     "text": [
      "Some weights of BertForSequenceClassification were not initialized from the model checkpoint at bert-base-cased and are newly initialized: ['classifier.bias', 'classifier.weight']\n",
      "You should probably TRAIN this model on a down-stream task to be able to use it for predictions and inference.\n"
     ]
    }
   ],
   "source": [
    "from transformers import AutoModelForSequenceClassification\n",
    "\n",
    "model = AutoModelForSequenceClassification.from_pretrained(checkpoint, num_labels=5)"
   ]
  },
  {
   "cell_type": "code",
   "execution_count": 143,
   "metadata": {},
   "outputs": [],
   "source": [
    "import evaluate\n",
    "import numpy as np\n",
    "\n",
    "metric = evaluate.load(\"f1\")"
   ]
  },
  {
   "cell_type": "code",
   "execution_count": 144,
   "metadata": {},
   "outputs": [],
   "source": [
    "def compute_metrics(eval_pred):\n",
    "    logits, labels = eval_pred\n",
    "    predictions = np.argmax(logits, axis=-1)\n",
    "    return metric.compute(predictions=predictions, references=labels, average=\"weighted\")"
   ]
  },
  {
   "cell_type": "code",
   "execution_count": 145,
   "metadata": {},
   "outputs": [],
   "source": [
    "from transformers import Trainer\n",
    "\n",
    "trainer = Trainer(\n",
    "    model,\n",
    "    training_args,\n",
    "    train_dataset=tokenized_dataset[\"train\"],\n",
    "    eval_dataset=tokenized_dataset[\"test\"],\n",
    "    compute_metrics=compute_metrics,\n",
    "    data_collator=data_collator,\n",
    ")"
   ]
  },
  {
   "cell_type": "code",
   "execution_count": 146,
   "metadata": {},
   "outputs": [],
   "source": [
    "import torch"
   ]
  },
  {
   "cell_type": "code",
   "execution_count": 147,
   "metadata": {},
   "outputs": [],
   "source": [
    "device = \"cuda\" if torch.cuda.is_available() else \"cpu\""
   ]
  },
  {
   "cell_type": "code",
   "execution_count": 148,
   "metadata": {},
   "outputs": [
    {
     "data": {
      "text/plain": [
       "BertForSequenceClassification(\n",
       "  (bert): BertModel(\n",
       "    (embeddings): BertEmbeddings(\n",
       "      (word_embeddings): Embedding(28996, 768, padding_idx=0)\n",
       "      (position_embeddings): Embedding(512, 768)\n",
       "      (token_type_embeddings): Embedding(2, 768)\n",
       "      (LayerNorm): LayerNorm((768,), eps=1e-12, elementwise_affine=True)\n",
       "      (dropout): Dropout(p=0.1, inplace=False)\n",
       "    )\n",
       "    (encoder): BertEncoder(\n",
       "      (layer): ModuleList(\n",
       "        (0-11): 12 x BertLayer(\n",
       "          (attention): BertAttention(\n",
       "            (self): BertSdpaSelfAttention(\n",
       "              (query): Linear(in_features=768, out_features=768, bias=True)\n",
       "              (key): Linear(in_features=768, out_features=768, bias=True)\n",
       "              (value): Linear(in_features=768, out_features=768, bias=True)\n",
       "              (dropout): Dropout(p=0.1, inplace=False)\n",
       "            )\n",
       "            (output): BertSelfOutput(\n",
       "              (dense): Linear(in_features=768, out_features=768, bias=True)\n",
       "              (LayerNorm): LayerNorm((768,), eps=1e-12, elementwise_affine=True)\n",
       "              (dropout): Dropout(p=0.1, inplace=False)\n",
       "            )\n",
       "          )\n",
       "          (intermediate): BertIntermediate(\n",
       "            (dense): Linear(in_features=768, out_features=3072, bias=True)\n",
       "            (intermediate_act_fn): GELUActivation()\n",
       "          )\n",
       "          (output): BertOutput(\n",
       "            (dense): Linear(in_features=3072, out_features=768, bias=True)\n",
       "            (LayerNorm): LayerNorm((768,), eps=1e-12, elementwise_affine=True)\n",
       "            (dropout): Dropout(p=0.1, inplace=False)\n",
       "          )\n",
       "        )\n",
       "      )\n",
       "    )\n",
       "    (pooler): BertPooler(\n",
       "      (dense): Linear(in_features=768, out_features=768, bias=True)\n",
       "      (activation): Tanh()\n",
       "    )\n",
       "  )\n",
       "  (dropout): Dropout(p=0.1, inplace=False)\n",
       "  (classifier): Linear(in_features=768, out_features=5, bias=True)\n",
       ")"
      ]
     },
     "execution_count": 148,
     "metadata": {},
     "output_type": "execute_result"
    }
   ],
   "source": [
    "model.to(device)"
   ]
  },
  {
   "cell_type": "code",
   "execution_count": 149,
   "metadata": {},
   "outputs": [
    {
     "data": {
      "application/vnd.jupyter.widget-view+json": {
       "model_id": "c4eacdd5115046ef8aab9702e4dc6fbe",
       "version_major": 2,
       "version_minor": 0
      },
      "text/plain": [
       "  0%|          | 0/159 [00:00<?, ?it/s]"
      ]
     },
     "metadata": {},
     "output_type": "display_data"
    },
    {
     "data": {
      "application/vnd.jupyter.widget-view+json": {
       "model_id": "98caf55615bf4bc29401abd9ba67ddd2",
       "version_major": 2,
       "version_minor": 0
      },
      "text/plain": [
       "  0%|          | 0/40 [00:00<?, ?it/s]"
      ]
     },
     "metadata": {},
     "output_type": "display_data"
    },
    {
     "name": "stdout",
     "output_type": "stream",
     "text": [
      "{'eval_loss': 1.5115764141082764, 'eval_f1': 0.14864413977190002, 'eval_runtime': 0.328, 'eval_samples_per_second': 966.467, 'eval_steps_per_second': 121.952, 'epoch': 1.0}\n",
      "{'train_runtime': 12.1471, 'train_samples_per_second': 104.305, 'train_steps_per_second': 13.09, 'train_loss': 1.6177245326012186, 'epoch': 1.0}\n"
     ]
    },
    {
     "data": {
      "text/plain": [
       "TrainOutput(global_step=159, training_loss=1.6177245326012186, metrics={'train_runtime': 12.1471, 'train_samples_per_second': 104.305, 'train_steps_per_second': 13.09, 'total_flos': 13386649400478.0, 'train_loss': 1.6177245326012186, 'epoch': 1.0})"
      ]
     },
     "execution_count": 149,
     "metadata": {},
     "output_type": "execute_result"
    }
   ],
   "source": [
    "trainer.train()"
   ]
  },
  {
   "cell_type": "code",
   "execution_count": 150,
   "metadata": {},
   "outputs": [
    {
     "data": {
      "application/vnd.jupyter.widget-view+json": {
       "model_id": "cae21e5b13ca4ff087aee086f01e035a",
       "version_major": 2,
       "version_minor": 0
      },
      "text/plain": [
       "  0%|          | 0/40 [00:00<?, ?it/s]"
      ]
     },
     "metadata": {},
     "output_type": "display_data"
    },
    {
     "data": {
      "text/plain": [
       "{'eval_loss': 1.5115764141082764,\n",
       " 'eval_f1': 0.14864413977190002,\n",
       " 'eval_runtime': 0.3084,\n",
       " 'eval_samples_per_second': 1028.024,\n",
       " 'eval_steps_per_second': 129.719,\n",
       " 'epoch': 1.0}"
      ]
     },
     "execution_count": 150,
     "metadata": {},
     "output_type": "execute_result"
    }
   ],
   "source": [
    "trainer.evaluate()"
   ]
  },
  {
   "cell_type": "code",
   "execution_count": 151,
   "metadata": {},
   "outputs": [
    {
     "data": {
      "application/vnd.jupyter.widget-view+json": {
       "model_id": "487ee66ce1454a978dc0bd3569d57ac7",
       "version_major": 2,
       "version_minor": 0
      },
      "text/plain": [
       "  0%|          | 0/40 [00:00<?, ?it/s]"
      ]
     },
     "metadata": {},
     "output_type": "display_data"
    },
    {
     "data": {
      "text/plain": [
       "PredictionOutput(predictions=array([[ 0.2585772 , -0.72477764,  0.5420048 ,  0.6427246 ,  0.5777421 ],\n",
       "       [ 0.2585772 , -0.72477764,  0.5420048 ,  0.6427246 ,  0.5777421 ],\n",
       "       [ 0.2585772 , -0.72477764,  0.5420048 ,  0.6427246 ,  0.5777421 ],\n",
       "       ...,\n",
       "       [ 0.25857717, -0.72477764,  0.5420048 ,  0.6427246 ,  0.5777421 ],\n",
       "       [ 0.2585772 , -0.72477764,  0.5420048 ,  0.6427246 ,  0.5777421 ],\n",
       "       [ 0.2585772 , -0.72477764,  0.5420048 ,  0.6427246 ,  0.5777421 ]],\n",
       "      dtype=float32), label_ids=array([4, 3, 3, 4, 3, 3, 1, 2, 3, 3, 4, 4, 1, 3, 4, 1, 0, 3, 3, 4, 2, 4,\n",
       "       3, 4, 0, 1, 4, 2, 3, 3, 4, 2, 3, 1, 3, 3, 4, 4, 3, 3, 0, 2, 2, 1,\n",
       "       3, 0, 2, 2, 4, 3, 4, 0, 2, 3, 1, 3, 4, 0, 3, 4, 2, 4, 3, 4, 2, 2,\n",
       "       1, 2, 3, 3, 4, 4, 2, 3, 4, 4, 4, 3, 0, 0, 0, 3, 2, 2, 0, 0, 3, 4,\n",
       "       3, 3, 0, 2, 3, 3, 4, 4, 4, 4, 3, 3, 4, 3, 3, 2, 3, 1, 2, 4, 3, 4,\n",
       "       3, 2, 3, 3, 2, 2, 4, 2, 2, 4, 4, 3, 4, 2, 0, 4, 3, 2, 4, 0, 2, 4,\n",
       "       2, 4, 4, 4, 3, 2, 0, 2, 2, 3, 4, 4, 4, 4, 4, 4, 3, 1, 1, 4, 0, 3,\n",
       "       0, 4, 3, 0, 3, 3, 1, 2, 2, 3, 4, 2, 2, 3, 3, 4, 4, 0, 3, 4, 2, 2,\n",
       "       2, 1, 0, 4, 3, 2, 0, 1, 0, 3, 3, 0, 3, 2, 2, 3, 0, 3, 2, 0, 2, 3,\n",
       "       0, 3, 3, 3, 3, 3, 3, 2, 3, 2, 4, 4, 4, 4, 4, 2, 1, 0, 3, 1, 2, 2,\n",
       "       3, 3, 4, 2, 2, 2, 0, 2, 3, 4, 4, 4, 0, 1, 4, 3, 4, 4, 3, 2, 4, 0,\n",
       "       2, 3, 2, 3, 2, 3, 4, 4, 3, 2, 3, 3, 4, 3, 3, 0, 1, 4, 4, 3, 4, 2,\n",
       "       4, 0, 0, 4, 3, 0, 2, 4, 3, 0, 0, 3, 3, 2, 0, 0, 4, 4, 3, 3, 0, 3,\n",
       "       0, 3, 4, 0, 2, 4, 2, 0, 4, 4, 2, 3, 0, 0, 3, 0, 0, 1, 4, 0, 1, 3,\n",
       "       2, 0, 4, 3, 2, 2, 3, 3, 3], dtype=int64), metrics={'test_loss': 1.5115764141082764, 'test_f1': 0.14864413977190002, 'test_runtime': 0.303, 'test_samples_per_second': 1046.052, 'test_steps_per_second': 131.994})"
      ]
     },
     "execution_count": 151,
     "metadata": {},
     "output_type": "execute_result"
    }
   ],
   "source": [
    "predictions = trainer.predict(tokenized_dataset[\"test\"])\n",
    "predictions"
   ]
  },
  {
   "cell_type": "code",
   "execution_count": 196,
   "metadata": {},
   "outputs": [
    {
     "data": {
      "text/plain": [
       "array([3, 3, 3, 3, 3, 3, 3, 3, 3, 3, 3, 3, 3, 3, 3, 3, 3, 3, 3, 3, 3, 3,\n",
       "       3, 3, 3, 3, 3, 3, 3, 3, 3, 3, 3, 3, 3, 3, 3, 3, 3, 3, 3, 3, 3, 3,\n",
       "       3, 3, 3, 3, 3, 3, 3, 3, 3, 3, 3, 3, 3, 3, 3, 3, 3, 3, 3, 3, 3, 3,\n",
       "       3, 3, 3, 3, 3, 3, 3, 3, 3, 3, 3, 3, 3, 3, 3, 3, 3, 3, 3, 3, 3, 3,\n",
       "       3, 3, 3, 3, 3, 3, 3, 3, 3, 3, 3, 3, 3, 3, 3, 3, 3, 3, 3, 3, 3, 3,\n",
       "       3, 3, 3, 3, 3, 3, 3, 3, 3, 3, 3, 3, 3, 3, 3, 3, 3, 3, 3, 3, 3, 3,\n",
       "       3, 3, 3, 3, 3, 3, 3, 3, 3, 3, 3, 3, 3, 3, 3, 3, 3, 3, 3, 3, 3, 3,\n",
       "       3, 3, 3, 3, 3, 3, 3, 3, 3, 3, 3, 3, 3, 3, 3, 3, 3, 3, 3, 3, 3, 3,\n",
       "       3, 3, 3, 3, 3, 3, 3, 3, 3, 3, 3, 3, 3, 3, 3, 3, 3, 3, 3, 3, 3, 3,\n",
       "       3, 3, 3, 3, 3, 3, 3, 3, 3, 3, 3, 3, 3, 3, 3, 3, 3, 3, 3, 3, 3, 3,\n",
       "       3, 3, 3, 3, 3, 3, 3, 3, 3, 3, 3, 3, 3, 3, 3, 3, 3, 3, 3, 3, 3, 3,\n",
       "       3, 3, 3, 3, 3, 3, 3, 3, 3, 3, 3, 3, 3, 3, 3, 3, 3, 3, 3, 3, 3, 3,\n",
       "       3, 3, 3, 3, 3, 3, 3, 3, 3, 3, 3, 3, 3, 3, 3, 3, 3, 3, 3, 3, 3, 3,\n",
       "       3, 3, 3, 3, 3, 3, 3, 3, 3, 3, 3, 3, 3, 3, 3, 3, 3, 3, 3, 3, 3, 3,\n",
       "       3, 3, 3, 3, 3, 3, 3, 3, 3], dtype=int64)"
      ]
     },
     "execution_count": 196,
     "metadata": {},
     "output_type": "execute_result"
    }
   ],
   "source": [
    "logits, labels = predictions.predictions, predictions.label_ids\n",
    "preds = np.argmax(logits, axis=-1)\n",
    "preds"
   ]
  },
  {
   "cell_type": "code",
   "execution_count": 197,
   "metadata": {},
   "outputs": [],
   "source": [
    "from sklearn.metrics import classification_report, confusion_matrix\n",
    "import seaborn as sns\n",
    "import matplotlib.pyplot as plt"
   ]
  },
  {
   "cell_type": "code",
   "execution_count": 198,
   "metadata": {},
   "outputs": [
    {
     "name": "stdout",
     "output_type": "stream",
     "text": [
      "              precision    recall  f1-score   support\n",
      "\n",
      "           0       0.00      0.00      0.00        48\n",
      "           1       0.00      0.00      0.00        20\n",
      "           2       0.00      0.00      0.00        66\n",
      "           3       0.31      1.00      0.48        99\n",
      "           4       0.00      0.00      0.00        84\n",
      "\n",
      "    accuracy                           0.31       317\n",
      "   macro avg       0.06      0.20      0.10       317\n",
      "weighted avg       0.10      0.31      0.15       317\n",
      "\n"
     ]
    },
    {
     "name": "stderr",
     "output_type": "stream",
     "text": [
      "C:\\Users\\PC\\AppData\\Roaming\\Python\\Python312\\site-packages\\sklearn\\metrics\\_classification.py:1509: UndefinedMetricWarning: Precision is ill-defined and being set to 0.0 in labels with no predicted samples. Use `zero_division` parameter to control this behavior.\n",
      "  _warn_prf(average, modifier, f\"{metric.capitalize()} is\", len(result))\n",
      "C:\\Users\\PC\\AppData\\Roaming\\Python\\Python312\\site-packages\\sklearn\\metrics\\_classification.py:1509: UndefinedMetricWarning: Precision is ill-defined and being set to 0.0 in labels with no predicted samples. Use `zero_division` parameter to control this behavior.\n",
      "  _warn_prf(average, modifier, f\"{metric.capitalize()} is\", len(result))\n",
      "C:\\Users\\PC\\AppData\\Roaming\\Python\\Python312\\site-packages\\sklearn\\metrics\\_classification.py:1509: UndefinedMetricWarning: Precision is ill-defined and being set to 0.0 in labels with no predicted samples. Use `zero_division` parameter to control this behavior.\n",
      "  _warn_prf(average, modifier, f\"{metric.capitalize()} is\", len(result))\n"
     ]
    }
   ],
   "source": [
    "print(classification_report(labels, preds))"
   ]
  },
  {
   "cell_type": "code",
   "execution_count": 199,
   "metadata": {},
   "outputs": [
    {
     "data": {
      "text/plain": [
       "Text(0.5, 1.0, 'Confusion Matrix')"
      ]
     },
     "execution_count": 199,
     "metadata": {},
     "output_type": "execute_result"
    },
    {
     "data": {
      "image/png": "[encoded data removed]",
      "text/plain": [
       "<Figure size 640x480 with 2 Axes>"
      ]
     },
     "metadata": {},
     "output_type": "display_data"
    }
   ],
   "source": [
    "sns.heatmap(confusion_matrix(labels, preds), annot=True, fmt=\"5.2f\", cmap=\"Blues\")\n",
    "plt.xlabel(\"Predicted Labels\")\n",
    "plt.ylabel(\"True Labels\")\n",
    "plt.title(\"Confusion Matrix\")"
   ]
  },
  {
   "cell_type": "code",
   "execution_count": 200,
   "metadata": {},
   "outputs": [
    {
     "data": {
      "text/plain": [
       "array(['Creative & Professional Services', 'Healthcare & Social Services',\n",
       "       'Management & Administration', 'Service & Support Roles',\n",
       "       'Technical & Skilled Trades'], dtype='<U32')"
      ]
     },
     "execution_count": 200,
     "metadata": {},
     "output_type": "execute_result"
    }
   ],
   "source": [
    "encoder.inverse_transform([0, 1, 2, 3, 4])"
   ]
  },
  {
   "cell_type": "code",
   "execution_count": 201,
   "metadata": {},
   "outputs": [],
   "source": [
    "import pandas as pd\n",
    "from sklearn.model_selection import train_test_split\n",
    "import matplotlib.pyplot as plt\n",
    "from tf_keras.preprocessing.text import Tokenizer\n",
    "from tf_keras.preprocessing import sequence\n",
    "from keras.models import Sequential\n",
    "from keras.layers import Dense, Embedding, Conv1D, MaxPooling1D, LSTM, Flatten\n",
    "from sklearn.metrics import confusion_matrix, classification_report\n",
    "import seaborn as sns"
   ]
  },
  {
   "cell_type": "code",
   "execution_count": 202,
   "metadata": {},
   "outputs": [
    {
     "data": {
      "text/html": [
       "<div>\n",
       "<style scoped>\n",
       "    .dataframe tbody tr th:only-of-type {\n",
       "        vertical-align: middle;\n",
       "    }\n",
       "\n",
       "    .dataframe tbody tr th {\n",
       "        vertical-align: top;\n",
       "    }\n",
       "\n",
       "    .dataframe thead th {\n",
       "        text-align: right;\n",
       "    }\n",
       "</style>\n",
       "<table border=\"1\" class=\"dataframe\">\n",
       "  <thead>\n",
       "    <tr style=\"text-align: right;\">\n",
       "      <th></th>\n",
       "      <th>base_sentence</th>\n",
       "      <th>occupation_category</th>\n",
       "    </tr>\n",
       "  </thead>\n",
       "  <tbody>\n",
       "    <tr>\n",
       "      <th>0</th>\n",
       "      <td>The developer argued with the designer because...</td>\n",
       "      <td>Technical &amp; Skilled Trades</td>\n",
       "    </tr>\n",
       "    <tr>\n",
       "      <th>1</th>\n",
       "      <td>The developer argued with the designer because...</td>\n",
       "      <td>Creative &amp; Professional Services</td>\n",
       "    </tr>\n",
       "    <tr>\n",
       "      <th>2</th>\n",
       "      <td>The mechanic gave the clerk a present because ...</td>\n",
       "      <td>Technical &amp; Skilled Trades</td>\n",
       "    </tr>\n",
       "    <tr>\n",
       "      <th>3</th>\n",
       "      <td>The mechanic gave the clerk a present because ...</td>\n",
       "      <td>Management &amp; Administration</td>\n",
       "    </tr>\n",
       "    <tr>\n",
       "      <th>4</th>\n",
       "      <td>The mover said thank you to the housekeeper be...</td>\n",
       "      <td>Technical &amp; Skilled Trades</td>\n",
       "    </tr>\n",
       "    <tr>\n",
       "      <th>...</th>\n",
       "      <td>...</td>\n",
       "      <td>...</td>\n",
       "    </tr>\n",
       "    <tr>\n",
       "      <th>1579</th>\n",
       "      <td>The driver was annoyed with the assistant and ...</td>\n",
       "      <td>Management &amp; Administration</td>\n",
       "    </tr>\n",
       "    <tr>\n",
       "      <th>1580</th>\n",
       "      <td>The cleaner waited for the chief and talked to...</td>\n",
       "      <td>Management &amp; Administration</td>\n",
       "    </tr>\n",
       "    <tr>\n",
       "      <th>1581</th>\n",
       "      <td>The chief waited for the cleaner and asked him...</td>\n",
       "      <td>Service &amp; Support Roles</td>\n",
       "    </tr>\n",
       "    <tr>\n",
       "      <th>1582</th>\n",
       "      <td>The teacher befriended the janitor and told he...</td>\n",
       "      <td>Service &amp; Support Roles</td>\n",
       "    </tr>\n",
       "    <tr>\n",
       "      <th>1583</th>\n",
       "      <td>The janitor befriended the teacher and told hi...</td>\n",
       "      <td>Creative &amp; Professional Services</td>\n",
       "    </tr>\n",
       "  </tbody>\n",
       "</table>\n",
       "<p>1584 rows × 2 columns</p>\n",
       "</div>"
      ],
      "text/plain": [
       "                                          base_sentence  \\\n",
       "0     The developer argued with the designer because...   \n",
       "1     The developer argued with the designer because...   \n",
       "2     The mechanic gave the clerk a present because ...   \n",
       "3     The mechanic gave the clerk a present because ...   \n",
       "4     The mover said thank you to the housekeeper be...   \n",
       "...                                                 ...   \n",
       "1579  The driver was annoyed with the assistant and ...   \n",
       "1580  The cleaner waited for the chief and talked to...   \n",
       "1581  The chief waited for the cleaner and asked him...   \n",
       "1582  The teacher befriended the janitor and told he...   \n",
       "1583  The janitor befriended the teacher and told hi...   \n",
       "\n",
       "                   occupation_category  \n",
       "0           Technical & Skilled Trades  \n",
       "1     Creative & Professional Services  \n",
       "2           Technical & Skilled Trades  \n",
       "3          Management & Administration  \n",
       "4           Technical & Skilled Trades  \n",
       "...                                ...  \n",
       "1579       Management & Administration  \n",
       "1580       Management & Administration  \n",
       "1581           Service & Support Roles  \n",
       "1582           Service & Support Roles  \n",
       "1583  Creative & Professional Services  \n",
       "\n",
       "[1584 rows x 2 columns]"
      ]
     },
     "execution_count": 202,
     "metadata": {},
     "output_type": "execute_result"
    }
   ],
   "source": [
    "data = pd.read_csv(\"data_g1.csv\")\n",
    "data"
   ]
  },
  {
   "cell_type": "code",
   "execution_count": 203,
   "metadata": {},
   "outputs": [
    {
     "data": {
      "text/plain": [
       "<Axes: xlabel='occupation_category'>"
      ]
     },
     "execution_count": 203,
     "metadata": {},
     "output_type": "execute_result"
    },
    {
     "data": {
      "image/png": "[encoded data removed]",
      "text/plain": [
       "<Figure size 640x480 with 1 Axes>"
      ]
     },
     "metadata": {},
     "output_type": "display_data"
    }
   ],
   "source": [
    "df[\"occupation_category\"].value_counts().plot.bar()"
   ]
  },
  {
   "cell_type": "code",
   "execution_count": 204,
   "metadata": {},
   "outputs": [
    {
     "data": {
      "text/plain": [
       "base_sentence          0\n",
       "occupation_category    0\n",
       "dtype: int64"
      ]
     },
     "execution_count": 204,
     "metadata": {},
     "output_type": "execute_result"
    }
   ],
   "source": [
    "df.isnull().sum()"
   ]
  },
  {
   "cell_type": "code",
   "execution_count": 205,
   "metadata": {},
   "outputs": [
    {
     "data": {
      "text/plain": [
       "<Axes: ylabel='Frequency'>"
      ]
     },
     "execution_count": 205,
     "metadata": {},
     "output_type": "execute_result"
    },
    {
     "data": {
      "image/png": "[encoded data removed]",
      "text/plain": [
       "<Figure size 640x480 with 1 Axes>"
      ]
     },
     "metadata": {},
     "output_type": "display_data"
    }
   ],
   "source": [
    "df[\"base_sentence\"].str.split(\" \").apply(len).plot.hist()"
   ]
  },
  {
   "cell_type": "code",
   "execution_count": 206,
   "metadata": {},
   "outputs": [
    {
     "data": {
      "text/plain": [
       "<Axes: >"
      ]
     },
     "execution_count": 206,
     "metadata": {},
     "output_type": "execute_result"
    },
    {
     "data": {
      "image/png": "[encoded data removed]",
      "text/plain": [
       "<Figure size 640x480 with 1 Axes>"
      ]
     },
     "metadata": {},
     "output_type": "display_data"
    }
   ],
   "source": [
    "df[\"base_sentence\"].str.split().apply(len).plot.box()"
   ]
  },
  {
   "cell_type": "code",
   "execution_count": 207,
   "metadata": {},
   "outputs": [
    {
     "data": {
      "text/html": [
       "<div>\n",
       "<style scoped>\n",
       "    .dataframe tbody tr th:only-of-type {\n",
       "        vertical-align: middle;\n",
       "    }\n",
       "\n",
       "    .dataframe tbody tr th {\n",
       "        vertical-align: top;\n",
       "    }\n",
       "\n",
       "    .dataframe thead th {\n",
       "        text-align: right;\n",
       "    }\n",
       "</style>\n",
       "<table border=\"1\" class=\"dataframe\">\n",
       "  <thead>\n",
       "    <tr style=\"text-align: right;\">\n",
       "      <th></th>\n",
       "      <th>base_sentence</th>\n",
       "      <th>occupation_category</th>\n",
       "    </tr>\n",
       "  </thead>\n",
       "  <tbody>\n",
       "    <tr>\n",
       "      <th>0</th>\n",
       "      <td>The developer argued with the designer because...</td>\n",
       "      <td>Technical &amp; Skilled Trades</td>\n",
       "    </tr>\n",
       "    <tr>\n",
       "      <th>1</th>\n",
       "      <td>The developer argued with the designer because...</td>\n",
       "      <td>Creative &amp; Professional Services</td>\n",
       "    </tr>\n",
       "    <tr>\n",
       "      <th>2</th>\n",
       "      <td>The mechanic gave the clerk a present because ...</td>\n",
       "      <td>Technical &amp; Skilled Trades</td>\n",
       "    </tr>\n",
       "    <tr>\n",
       "      <th>3</th>\n",
       "      <td>The mechanic gave the clerk a present because ...</td>\n",
       "      <td>Management &amp; Administration</td>\n",
       "    </tr>\n",
       "    <tr>\n",
       "      <th>4</th>\n",
       "      <td>The mover said thank you to the housekeeper be...</td>\n",
       "      <td>Technical &amp; Skilled Trades</td>\n",
       "    </tr>\n",
       "    <tr>\n",
       "      <th>...</th>\n",
       "      <td>...</td>\n",
       "      <td>...</td>\n",
       "    </tr>\n",
       "    <tr>\n",
       "      <th>1579</th>\n",
       "      <td>The driver was annoyed with the assistant and ...</td>\n",
       "      <td>Management &amp; Administration</td>\n",
       "    </tr>\n",
       "    <tr>\n",
       "      <th>1580</th>\n",
       "      <td>The cleaner waited for the chief and talked to...</td>\n",
       "      <td>Management &amp; Administration</td>\n",
       "    </tr>\n",
       "    <tr>\n",
       "      <th>1581</th>\n",
       "      <td>The chief waited for the cleaner and asked him...</td>\n",
       "      <td>Service &amp; Support Roles</td>\n",
       "    </tr>\n",
       "    <tr>\n",
       "      <th>1582</th>\n",
       "      <td>The teacher befriended the janitor and told he...</td>\n",
       "      <td>Service &amp; Support Roles</td>\n",
       "    </tr>\n",
       "    <tr>\n",
       "      <th>1583</th>\n",
       "      <td>The janitor befriended the teacher and told hi...</td>\n",
       "      <td>Creative &amp; Professional Services</td>\n",
       "    </tr>\n",
       "  </tbody>\n",
       "</table>\n",
       "<p>1529 rows × 2 columns</p>\n",
       "</div>"
      ],
      "text/plain": [
       "                                          base_sentence  \\\n",
       "0     The developer argued with the designer because...   \n",
       "1     The developer argued with the designer because...   \n",
       "2     The mechanic gave the clerk a present because ...   \n",
       "3     The mechanic gave the clerk a present because ...   \n",
       "4     The mover said thank you to the housekeeper be...   \n",
       "...                                                 ...   \n",
       "1579  The driver was annoyed with the assistant and ...   \n",
       "1580  The cleaner waited for the chief and talked to...   \n",
       "1581  The chief waited for the cleaner and asked him...   \n",
       "1582  The teacher befriended the janitor and told he...   \n",
       "1583  The janitor befriended the teacher and told hi...   \n",
       "\n",
       "                   occupation_category  \n",
       "0           Technical & Skilled Trades  \n",
       "1     Creative & Professional Services  \n",
       "2           Technical & Skilled Trades  \n",
       "3          Management & Administration  \n",
       "4           Technical & Skilled Trades  \n",
       "...                                ...  \n",
       "1579       Management & Administration  \n",
       "1580       Management & Administration  \n",
       "1581           Service & Support Roles  \n",
       "1582           Service & Support Roles  \n",
       "1583  Creative & Professional Services  \n",
       "\n",
       "[1529 rows x 2 columns]"
      ]
     },
     "execution_count": 207,
     "metadata": {},
     "output_type": "execute_result"
    }
   ],
   "source": [
    "df = df[df[\"base_sentence\"].str.split().apply(len) < 18].copy(deep=True)\n",
    "df"
   ]
  },
  {
   "cell_type": "code",
   "execution_count": 208,
   "metadata": {},
   "outputs": [
    {
     "data": {
      "text/plain": [
       "<Axes: ylabel='Frequency'>"
      ]
     },
     "execution_count": 208,
     "metadata": {},
     "output_type": "execute_result"
    },
    {
     "data": {
      "image/png": "[encoded data removed]",
      "text/plain": [
       "<Figure size 640x480 with 1 Axes>"
      ]
     },
     "metadata": {},
     "output_type": "display_data"
    }
   ],
   "source": [
    "df[\"base_sentence\"].str.split(\" \").apply(len).plot.hist()"
   ]
  },
  {
   "cell_type": "code",
   "execution_count": 209,
   "metadata": {},
   "outputs": [
    {
     "data": {
      "text/plain": [
       "<Axes: >"
      ]
     },
     "execution_count": 209,
     "metadata": {},
     "output_type": "execute_result"
    },
    {
     "data": {
      "image/png": "[encoded data removed]",
      "text/plain": [
       "<Figure size 640x480 with 1 Axes>"
      ]
     },
     "metadata": {},
     "output_type": "display_data"
    }
   ],
   "source": [
    "df[\"base_sentence\"].str.split().apply(len).plot.box()"
   ]
  },
  {
   "cell_type": "code",
   "execution_count": 210,
   "metadata": {},
   "outputs": [],
   "source": [
    "def get_vocabulary(texts):\n",
    "    vocabulary = []\n",
    "    for text in texts:\n",
    "        for word in text.split(\" \"):\n",
    "            vocabulary.append(word)\n",
    "    return list(set(vocabulary))"
   ]
  },
  {
   "cell_type": "code",
   "execution_count": 211,
   "metadata": {},
   "outputs": [],
   "source": [
    "vocabulary = get_vocabulary(df[\"base_sentence\"].tolist())"
   ]
  },
  {
   "cell_type": "code",
   "execution_count": 212,
   "metadata": {},
   "outputs": [
    {
     "data": {
      "text/plain": [
       "['making.',\n",
       " 'stood',\n",
       " 'brand.',\n",
       " 'hand.',\n",
       " 'tripped',\n",
       " 'kind',\n",
       " 'assistance',\n",
       " 'services',\n",
       " 'attention',\n",
       " 'careful',\n",
       " 'suit',\n",
       " 'even',\n",
       " 'about',\n",
       " 'guilty',\n",
       " 'received',\n",
       " 'favors',\n",
       " 'carelessness',\n",
       " 'fixed',\n",
       " 'disease',\n",
       " 'case.',\n",
       " 'packed',\n",
       " 'bully.',\n",
       " 'ached.',\n",
       " 'save',\n",
       " 'well.',\n",
       " 'wrote',\n",
       " 'apply.',\n",
       " 'mood.',\n",
       " 'increase',\n",
       " 'name',\n",
       " 'autograph',\n",
       " 'needed',\n",
       " 'provide',\n",
       " 'beat',\n",
       " 'in.',\n",
       " 'new.',\n",
       " 'fan.',\n",
       " 'obey',\n",
       " 'cried',\n",
       " 'information',\n",
       " 'concerns',\n",
       " 'honest.',\n",
       " 'than',\n",
       " 'but',\n",
       " 'protected',\n",
       " 'mother.',\n",
       " 'cleaning.',\n",
       " 'try.',\n",
       " 'slacking',\n",
       " 'famous.',\n",
       " 'down',\n",
       " 'broom',\n",
       " 'tester',\n",
       " 'equipment.',\n",
       " 'interview.',\n",
       " 'conclusions.',\n",
       " 'some',\n",
       " \"everyone's\",\n",
       " 'neck.',\n",
       " 'comes,',\n",
       " 'use',\n",
       " 'department.',\n",
       " 'sweater',\n",
       " 'because',\n",
       " 'thanks',\n",
       " 'noticed',\n",
       " 'holiday.',\n",
       " 'snooping.',\n",
       " 'lottery.',\n",
       " 'employee',\n",
       " 'comments.',\n",
       " 'ordered',\n",
       " 'clearly',\n",
       " 'email.',\n",
       " 'although',\n",
       " 'often',\n",
       " 'shovel.',\n",
       " 'hats.',\n",
       " 'legs.',\n",
       " 'protestors',\n",
       " 'rebuked',\n",
       " 'stability',\n",
       " 'organized',\n",
       " 'keeping',\n",
       " 'threw',\n",
       " 'should',\n",
       " 'mold',\n",
       " 'relentlessly.',\n",
       " 'Expo',\n",
       " 'significant',\n",
       " 'read',\n",
       " 'pleased',\n",
       " 'wallet.',\n",
       " 'farmer',\n",
       " 'receive',\n",
       " 'something.',\n",
       " 'logo.',\n",
       " 'eighty',\n",
       " 'believing',\n",
       " 'attracted',\n",
       " 'housekeeper,',\n",
       " 'snooping',\n",
       " 'due',\n",
       " 'party',\n",
       " 'request',\n",
       " 'recipes.',\n",
       " 'store',\n",
       " 'stealing',\n",
       " 'to.',\n",
       " 'proof.',\n",
       " 'inappropriate',\n",
       " 'transported',\n",
       " 'hated',\n",
       " 'flight.',\n",
       " 'examined',\n",
       " 'go',\n",
       " 'silly',\n",
       " 'proceeded',\n",
       " 'bring',\n",
       " 'stomachache.',\n",
       " 'publishing.',\n",
       " 'thorough.',\n",
       " 'welcomed',\n",
       " 'liar',\n",
       " 'do.',\n",
       " 'request.',\n",
       " 'complained.',\n",
       " 'salt',\n",
       " 'yet.',\n",
       " 'positions.',\n",
       " 'screaming',\n",
       " 'contacted',\n",
       " 'her',\n",
       " 'communicate',\n",
       " 'restaurant',\n",
       " 'filing',\n",
       " 'trouble.',\n",
       " 'technical',\n",
       " 'broke',\n",
       " 'fired.',\n",
       " 'teach',\n",
       " 'fell',\n",
       " 'steal',\n",
       " 'bag',\n",
       " 'anyways.',\n",
       " 'against',\n",
       " 'together',\n",
       " 'bossy.',\n",
       " 'pay.',\n",
       " 'work',\n",
       " 'listened',\n",
       " 'hairdresser',\n",
       " 'leaves',\n",
       " 'welcomed.',\n",
       " 'dishonest',\n",
       " 'presents.',\n",
       " 'goods',\n",
       " 'math',\n",
       " 'sane.',\n",
       " 'test.',\n",
       " 'stop',\n",
       " 'dangerous.',\n",
       " 'waving',\n",
       " 'saw',\n",
       " 'knew',\n",
       " 'serious.',\n",
       " 'fitness',\n",
       " 'share.',\n",
       " 'furniture',\n",
       " 'Saturday,',\n",
       " 'breath.',\n",
       " 'hired',\n",
       " 'leave.',\n",
       " 'felt',\n",
       " 'offended.',\n",
       " 'included',\n",
       " 'appointments.',\n",
       " 'admonished',\n",
       " 'artwork',\n",
       " 'kissed',\n",
       " 'location.',\n",
       " 'bullied',\n",
       " 'designer,',\n",
       " 'design.',\n",
       " 'harshly.',\n",
       " 'sent',\n",
       " 'mad.',\n",
       " 'prescribe',\n",
       " 'suggestions.',\n",
       " 'accept',\n",
       " 'work.',\n",
       " 'made',\n",
       " 'search',\n",
       " 'disease.',\n",
       " 'approached',\n",
       " 'meet',\n",
       " 'dollars.',\n",
       " 'snacks.',\n",
       " 'crops',\n",
       " 'take.',\n",
       " 'hated.',\n",
       " 'watched',\n",
       " 'rich.',\n",
       " 'succeeded.',\n",
       " 'care.',\n",
       " 'wait',\n",
       " 'admire',\n",
       " 'shocked',\n",
       " 'paid',\n",
       " 'application',\n",
       " 'drives',\n",
       " 'tried',\n",
       " 'good.',\n",
       " 'chair',\n",
       " 'withdraw',\n",
       " 'discovered',\n",
       " 'recent',\n",
       " 'detail',\n",
       " 'techniques',\n",
       " 'advice',\n",
       " 'impressed.',\n",
       " 'discussing',\n",
       " 'redo',\n",
       " 'behavior.',\n",
       " 'classrooms',\n",
       " 'successfully',\n",
       " 'note',\n",
       " 'willing',\n",
       " 'respected',\n",
       " 'them',\n",
       " 'story',\n",
       " 'beautiful',\n",
       " 'saluted',\n",
       " 'troubles',\n",
       " 'work,',\n",
       " 'hammer',\n",
       " 'hide',\n",
       " 'persuade',\n",
       " 'budget',\n",
       " 'years.',\n",
       " 'taxes.',\n",
       " 'though',\n",
       " 'said',\n",
       " 'product.',\n",
       " 'cooked',\n",
       " 'study.',\n",
       " 'regularly',\n",
       " 'related',\n",
       " 'withdrawal.',\n",
       " 'airport',\n",
       " 'pack',\n",
       " 'irrigation.',\n",
       " 'behavior',\n",
       " 'unable',\n",
       " 'redesign',\n",
       " 'friend.',\n",
       " 'common',\n",
       " 'document',\n",
       " 'whole',\n",
       " 'publicity.',\n",
       " 'talent.',\n",
       " 'early.',\n",
       " 'performance',\n",
       " 'proposal',\n",
       " 'gather',\n",
       " 'cancel',\n",
       " 'safety',\n",
       " 'improve',\n",
       " 'splashed',\n",
       " 'software.',\n",
       " 'sheriff',\n",
       " 'goods.',\n",
       " 'nothing',\n",
       " 'date',\n",
       " 'messed',\n",
       " 'refund.',\n",
       " 'janitor',\n",
       " 'list',\n",
       " 'best.',\n",
       " 'approach',\n",
       " 'frailty',\n",
       " 'all',\n",
       " 'during',\n",
       " 'standing',\n",
       " 'if',\n",
       " 'law.',\n",
       " 'tall',\n",
       " 'dropped',\n",
       " 'assigned',\n",
       " 'cleaning',\n",
       " 'glad',\n",
       " 'apartment',\n",
       " 'prepared.',\n",
       " 'recommend',\n",
       " 'generous.',\n",
       " 'romantic',\n",
       " 'won',\n",
       " 'much.',\n",
       " 'door.',\n",
       " 'provided',\n",
       " 'recommendation',\n",
       " 'arrive',\n",
       " 'tricks',\n",
       " 'replied',\n",
       " 'guilty.',\n",
       " 'sold',\n",
       " 'son.',\n",
       " 'salary',\n",
       " 'noted',\n",
       " 'rebellious.',\n",
       " 'application.',\n",
       " 'owner.',\n",
       " 'accident.',\n",
       " 'examine',\n",
       " 'broken',\n",
       " 'the',\n",
       " 'stop.',\n",
       " 'eggs',\n",
       " 'people.',\n",
       " 'rate.',\n",
       " 'check.',\n",
       " 'asks',\n",
       " 'has',\n",
       " 'disrespectfully.',\n",
       " 'peace.',\n",
       " 'improved',\n",
       " 'dreaded',\n",
       " 'can',\n",
       " 'patient',\n",
       " 'answer',\n",
       " 'requests',\n",
       " 'exceptionally',\n",
       " 'up.',\n",
       " 'later.',\n",
       " 'hair',\n",
       " 'outstanding',\n",
       " 'too',\n",
       " 'prosecution.',\n",
       " 'recipe.',\n",
       " 'wrong',\n",
       " 'saved',\n",
       " 'inquire',\n",
       " 'prognosis.',\n",
       " 'cannot',\n",
       " 'design',\n",
       " 'employed',\n",
       " 'services.',\n",
       " 'suggested',\n",
       " 'medicine',\n",
       " 'errors',\n",
       " 'afraid.',\n",
       " 'need',\n",
       " 'reference.',\n",
       " 'highly',\n",
       " 'change.',\n",
       " 'impressed',\n",
       " 'broken.',\n",
       " 'cellphone',\n",
       " 'building',\n",
       " 'accepted.',\n",
       " 'beautiful.',\n",
       " 'thief',\n",
       " 'wrong.',\n",
       " 'leave',\n",
       " 'without',\n",
       " 'pen.',\n",
       " 'enter',\n",
       " 'patrolled',\n",
       " 'speak.',\n",
       " 'nobody.',\n",
       " 'little',\n",
       " 'forget.',\n",
       " 'path.',\n",
       " 'kicked',\n",
       " 'over',\n",
       " 'caught',\n",
       " 'several',\n",
       " 'write.',\n",
       " 'criticized',\n",
       " 'spoke',\n",
       " 'early',\n",
       " 'scolded',\n",
       " 'upset.',\n",
       " 'admiration',\n",
       " 'manager',\n",
       " 'appointment',\n",
       " 'accused',\n",
       " 'hammer.',\n",
       " 'generous',\n",
       " 'store.',\n",
       " 'smiled.',\n",
       " 'lifestyle.',\n",
       " 'story.',\n",
       " 'dirty',\n",
       " 'teacher',\n",
       " 'notice.',\n",
       " 'great',\n",
       " 'cruel.',\n",
       " 'stared',\n",
       " 'job',\n",
       " 'issued',\n",
       " 'sorry',\n",
       " 'immediately',\n",
       " 'read.',\n",
       " 'twice',\n",
       " 'library',\n",
       " 'confused.',\n",
       " 'praised',\n",
       " 'identify',\n",
       " 'asked',\n",
       " 'supervisor',\n",
       " 'understand',\n",
       " 'comments',\n",
       " 'idea',\n",
       " 'baker.',\n",
       " 'excellent',\n",
       " 'sores',\n",
       " 'every',\n",
       " 'anywhere.',\n",
       " 'dinner',\n",
       " 'baking',\n",
       " 'poorly',\n",
       " 'formal',\n",
       " 'help',\n",
       " 'financial',\n",
       " 'misled',\n",
       " 'lobby',\n",
       " 'lenient',\n",
       " 'ignore',\n",
       " 'apron',\n",
       " 'around',\n",
       " 'accusations',\n",
       " 'counselor',\n",
       " 'famous',\n",
       " 'texted',\n",
       " 'drove',\n",
       " 'hall',\n",
       " 'confronted',\n",
       " 'towards',\n",
       " 'bread.',\n",
       " 'eye',\n",
       " 'fancy',\n",
       " 'clarifications.',\n",
       " 'busy',\n",
       " 'complied.',\n",
       " 'a',\n",
       " 'article',\n",
       " 'cuts.',\n",
       " 'fine',\n",
       " 'dirty.',\n",
       " 'fixed.',\n",
       " 'taking',\n",
       " 'mishandling',\n",
       " 'make',\n",
       " 'offended',\n",
       " 'walk',\n",
       " 'class.',\n",
       " 'key.',\n",
       " 'met',\n",
       " 'chatting',\n",
       " 'farming',\n",
       " 'mess',\n",
       " 'city.',\n",
       " 'cautious.',\n",
       " 'rescheduled',\n",
       " 'payment',\n",
       " 'labor.',\n",
       " 'schedule.',\n",
       " 'kidnapped',\n",
       " 'last',\n",
       " 'who',\n",
       " 'turn',\n",
       " 'threatened.',\n",
       " 'rewarded',\n",
       " 'fired',\n",
       " 'cleaner',\n",
       " 'attention.',\n",
       " 'cookies',\n",
       " 'opinion.',\n",
       " 'Monday.',\n",
       " 'dedication.',\n",
       " 'rude',\n",
       " 'written.',\n",
       " 'tabulation',\n",
       " 'window',\n",
       " 'best',\n",
       " 'slapped',\n",
       " 'leg.',\n",
       " 'free',\n",
       " 'produced',\n",
       " 'ride',\n",
       " 'audit.',\n",
       " 'crashed',\n",
       " 'words.',\n",
       " 'see',\n",
       " 'meal',\n",
       " 'medicine.',\n",
       " 'tool.',\n",
       " 'week',\n",
       " 'health',\n",
       " 'drug',\n",
       " 'calling',\n",
       " 'files.',\n",
       " 'grew',\n",
       " 'destroyed',\n",
       " 'expect',\n",
       " 'surprised',\n",
       " 'otherwise.',\n",
       " 'hair.',\n",
       " 'enjoy.',\n",
       " 'inspection',\n",
       " 'patent',\n",
       " 'behaving',\n",
       " 'manager.',\n",
       " 'blueprint.',\n",
       " 'struck',\n",
       " 'cooking',\n",
       " 'machine',\n",
       " 'bread',\n",
       " 'beauty.',\n",
       " 'favors.',\n",
       " 'mom',\n",
       " 'accounting',\n",
       " 'it',\n",
       " 'knew.',\n",
       " 'haircut.',\n",
       " 'preparing',\n",
       " 'baker',\n",
       " 'higher.',\n",
       " 'surgery.',\n",
       " 'reads',\n",
       " 'cloths',\n",
       " 'frail.',\n",
       " 'lives',\n",
       " 'cakes',\n",
       " 'suit.',\n",
       " 'looked',\n",
       " 'threaten',\n",
       " 'interest.',\n",
       " 'newspapers',\n",
       " 'stay',\n",
       " 'signature.',\n",
       " 'write',\n",
       " 'corner',\n",
       " 'stressful.',\n",
       " 'strict',\n",
       " 'CEO',\n",
       " 'voice',\n",
       " 'documents.',\n",
       " 'acting',\n",
       " 'trusted',\n",
       " 'lunch',\n",
       " 'likes',\n",
       " 'gel.',\n",
       " 'follows',\n",
       " 'developer',\n",
       " 'may',\n",
       " 'faster',\n",
       " 'discussed',\n",
       " 'injury.',\n",
       " 'morning',\n",
       " 'looks',\n",
       " 'offer.',\n",
       " 'hairstyles',\n",
       " 'website.',\n",
       " 'haircuts',\n",
       " 'cured.',\n",
       " 'party.',\n",
       " 'court.',\n",
       " 'information.',\n",
       " 'hands.',\n",
       " 'proud',\n",
       " 'instructions.',\n",
       " 'trusting.',\n",
       " 'listening.',\n",
       " 'works',\n",
       " 'privacy.',\n",
       " 'office.',\n",
       " 'agreement.',\n",
       " 'contact',\n",
       " 'reached',\n",
       " 'company.',\n",
       " 'house',\n",
       " 'perceived',\n",
       " 'relationship',\n",
       " 'housekeeper',\n",
       " 'underperforming.',\n",
       " 'salon.',\n",
       " 'source',\n",
       " 'life.',\n",
       " 'candy.',\n",
       " 'eats',\n",
       " 'must',\n",
       " 'mad',\n",
       " 'overwhelming',\n",
       " 'promotion.',\n",
       " 'judgment.',\n",
       " 'reprimanded',\n",
       " 'admired',\n",
       " 'card.',\n",
       " 'trust',\n",
       " 'what',\n",
       " 'artifact',\n",
       " 'writing',\n",
       " 'books.',\n",
       " 'back.',\n",
       " 'satisfied',\n",
       " 'selling',\n",
       " 'science',\n",
       " 'opened',\n",
       " 'doing',\n",
       " 'responsibility.',\n",
       " 'prototype.',\n",
       " 'danger',\n",
       " 'quote',\n",
       " 'bad',\n",
       " 'hats',\n",
       " 'useless',\n",
       " 'rejected',\n",
       " 'appreciation',\n",
       " 'instruction',\n",
       " 'placed',\n",
       " 'tool',\n",
       " 'someone',\n",
       " 'present.',\n",
       " 'one',\n",
       " 'lot',\n",
       " 'making',\n",
       " 'inspection.',\n",
       " 'newspaper',\n",
       " 'no',\n",
       " 'proposed',\n",
       " 'here.',\n",
       " 'sure',\n",
       " 'improved.',\n",
       " 'personal',\n",
       " 'trick.',\n",
       " 'books',\n",
       " 'feeling',\n",
       " 'demanding.',\n",
       " 'lying',\n",
       " 'medical',\n",
       " 'purposefully',\n",
       " 'treated',\n",
       " 'thousand',\n",
       " 'recommendations.',\n",
       " 'hospital',\n",
       " 'strong.',\n",
       " 'everything',\n",
       " 'telling',\n",
       " 'styled',\n",
       " 'menu',\n",
       " 'on.',\n",
       " 'appointment.',\n",
       " 'entering',\n",
       " 'choose',\n",
       " 'discuss',\n",
       " 'reminded',\n",
       " 'paid.',\n",
       " 'berated',\n",
       " 'librarian',\n",
       " 'clumsy',\n",
       " 'novels.',\n",
       " 'future',\n",
       " 'book.',\n",
       " 'apology',\n",
       " 'scan',\n",
       " 'explain',\n",
       " 'contributions.',\n",
       " 'notified',\n",
       " 'learn',\n",
       " 'properly.',\n",
       " 'yelled',\n",
       " 'brave.',\n",
       " 'will',\n",
       " 'library.',\n",
       " 'only',\n",
       " 'prove',\n",
       " 'additional',\n",
       " 'zone.',\n",
       " 'insulted',\n",
       " 'cake.',\n",
       " 'and',\n",
       " 'brought',\n",
       " 'finished',\n",
       " 'treats',\n",
       " 'want',\n",
       " 'examination.',\n",
       " 'liked',\n",
       " 'mistake',\n",
       " 'pending',\n",
       " 'nurse',\n",
       " 'records.',\n",
       " 'food.',\n",
       " 'disorder.',\n",
       " 'hardworking',\n",
       " 'order',\n",
       " 'old',\n",
       " 'math.',\n",
       " 'newspaper.',\n",
       " 'dish.',\n",
       " 'move',\n",
       " 'apology.',\n",
       " 'fun',\n",
       " 'express',\n",
       " 'difficult',\n",
       " 'leaving',\n",
       " 'conversations.',\n",
       " 'moments',\n",
       " 'next',\n",
       " 'impress',\n",
       " 'join',\n",
       " 'service.',\n",
       " 'valuable',\n",
       " 'properly',\n",
       " 'shows',\n",
       " 'petition',\n",
       " 'fire',\n",
       " 'allowance.',\n",
       " 'checked',\n",
       " 'say',\n",
       " 'enjoyed',\n",
       " 'baguette.',\n",
       " 'completed',\n",
       " 'fix',\n",
       " 'reports',\n",
       " 'confusing.',\n",
       " 'appreciate',\n",
       " 'wish',\n",
       " 'waiting',\n",
       " 'said.',\n",
       " 'tries',\n",
       " 'interior.',\n",
       " 'at',\n",
       " 'middle',\n",
       " 'clothes',\n",
       " 'day.',\n",
       " 'afraid',\n",
       " 'respect',\n",
       " 'repaid',\n",
       " 'purchase.',\n",
       " 'dress',\n",
       " 'complimented',\n",
       " 'helped',\n",
       " 'else.',\n",
       " 'experience',\n",
       " 'report.',\n",
       " 'gear',\n",
       " 'surgery',\n",
       " 'low.',\n",
       " 'mental',\n",
       " 'present',\n",
       " 'difficulty',\n",
       " 'attendant,',\n",
       " 'friendly',\n",
       " 'schedule',\n",
       " 'served',\n",
       " 'them.',\n",
       " 'deaf.',\n",
       " 'price',\n",
       " 'tricked,',\n",
       " 'friend',\n",
       " 'injured',\n",
       " 'sewing',\n",
       " 'haircut',\n",
       " 'him',\n",
       " 'paperwork',\n",
       " 'hire',\n",
       " 'stove.',\n",
       " 'window.',\n",
       " 'worry',\n",
       " 'tired',\n",
       " 'carry',\n",
       " 'clerk',\n",
       " 'physician',\n",
       " 'mistakes.',\n",
       " 'expected',\n",
       " 'cabinet.',\n",
       " 'clean.',\n",
       " 'fixing',\n",
       " 'editor,',\n",
       " 'kids.',\n",
       " 'disorderly',\n",
       " 'taste',\n",
       " 'so.',\n",
       " 'off',\n",
       " 'carpenter',\n",
       " 'noise.',\n",
       " 'hall.',\n",
       " 'computer',\n",
       " 'chocolate.',\n",
       " 'assignments',\n",
       " 'recommendation.',\n",
       " 'apartment.',\n",
       " 'door',\n",
       " 'implemented.',\n",
       " 'proof',\n",
       " 'forgets',\n",
       " 'understands',\n",
       " 'everyone.',\n",
       " 'tiring.',\n",
       " 'understood',\n",
       " 'satisfy',\n",
       " 'gun.',\n",
       " 'screamed',\n",
       " 'When',\n",
       " 'raced',\n",
       " 'experienced.',\n",
       " 'at.',\n",
       " 'receptionist,',\n",
       " 'mistakes',\n",
       " 'appease',\n",
       " 'thought',\n",
       " 'led',\n",
       " 'send',\n",
       " 'beer',\n",
       " 'used',\n",
       " 'sign.',\n",
       " 'suggestion',\n",
       " 'complaint',\n",
       " 'publish',\n",
       " 'superior',\n",
       " 'set',\n",
       " 'despite',\n",
       " 'prescribed',\n",
       " 'easy.',\n",
       " 'assistance.',\n",
       " 'agreed',\n",
       " 'come.',\n",
       " 'arrogant.',\n",
       " 'forgot',\n",
       " 'needed.',\n",
       " 'clean',\n",
       " 'overcharged.',\n",
       " 'handling',\n",
       " 'knowledge.',\n",
       " 'group.',\n",
       " 'attendant',\n",
       " 'autograph.',\n",
       " 'editor',\n",
       " 'draft.',\n",
       " 'own',\n",
       " 'file',\n",
       " 'there.',\n",
       " 'waved',\n",
       " 'resources.',\n",
       " 'spite',\n",
       " 'special',\n",
       " 'classroom.',\n",
       " 'wished',\n",
       " 'prompt',\n",
       " 'day',\n",
       " 'evidence',\n",
       " 'CPR.',\n",
       " 'protocol',\n",
       " 'protective',\n",
       " 'fine.',\n",
       " 'hand',\n",
       " 'providing',\n",
       " 'patients.',\n",
       " 'left',\n",
       " 'balance',\n",
       " 'ideas',\n",
       " 'here',\n",
       " 'distressed.',\n",
       " 'bake.',\n",
       " 'injections.',\n",
       " 'love',\n",
       " 'declared',\n",
       " 'makes',\n",
       " 'corrected',\n",
       " 'restaurant.',\n",
       " 'money',\n",
       " 'turned',\n",
       " 'concerned',\n",
       " 'room',\n",
       " 'injuries',\n",
       " 'crop',\n",
       " 'missed',\n",
       " 'calculations',\n",
       " 'failed',\n",
       " 'tip.',\n",
       " 'accused.',\n",
       " 'chatted',\n",
       " 'knows',\n",
       " 'prices',\n",
       " 'expectations.',\n",
       " 'of.',\n",
       " 'until',\n",
       " 'possible',\n",
       " 'online.',\n",
       " 'dishonest.',\n",
       " 'finances.',\n",
       " 'designs.',\n",
       " 'signed',\n",
       " 'ambulance.',\n",
       " 'take',\n",
       " 'control',\n",
       " 'required',\n",
       " 'correct',\n",
       " 'indebted.',\n",
       " 'gave',\n",
       " 'open',\n",
       " 'thankful',\n",
       " 'know',\n",
       " 'favorably',\n",
       " 'wore',\n",
       " 'screaming.',\n",
       " 'feedback',\n",
       " 'am.',\n",
       " 'spent',\n",
       " 'friends',\n",
       " 'slow.',\n",
       " 'managed',\n",
       " 'form.',\n",
       " 'cashier,',\n",
       " 'progress.',\n",
       " 'cash',\n",
       " 'gestures',\n",
       " 'far',\n",
       " 'deliver',\n",
       " 'arrested',\n",
       " 'built',\n",
       " 'silence',\n",
       " 'operation',\n",
       " 'blueprint',\n",
       " 'fruit',\n",
       " 'very',\n",
       " 'tip',\n",
       " 'learn.',\n",
       " 'as',\n",
       " 'followed',\n",
       " 'might',\n",
       " 'required.',\n",
       " 'task',\n",
       " 'on',\n",
       " 'eat.',\n",
       " 'suspected',\n",
       " 'house.',\n",
       " 'new',\n",
       " 'after-hour',\n",
       " 'often.',\n",
       " 'salary.',\n",
       " 'engine',\n",
       " 'from',\n",
       " \"didn't\",\n",
       " 'cake',\n",
       " 'lot.',\n",
       " 'visited',\n",
       " 'wanted',\n",
       " 'high.',\n",
       " 'big',\n",
       " 'faithful.',\n",
       " 'tools',\n",
       " 'cases.',\n",
       " 'hounding',\n",
       " 'answers.',\n",
       " 'follow',\n",
       " 'claimed',\n",
       " 'water',\n",
       " 'befriended',\n",
       " 'executed',\n",
       " 'arguments',\n",
       " 'again.',\n",
       " 'test',\n",
       " 'justify',\n",
       " 'convinced',\n",
       " 'workspace',\n",
       " 'accepted',\n",
       " 'lawyer',\n",
       " 'meetings',\n",
       " 'joke.',\n",
       " 'coordinated',\n",
       " 'expired',\n",
       " 'allergies.',\n",
       " 'late.',\n",
       " 'gets',\n",
       " 'once.',\n",
       " 'errors.',\n",
       " 'poor',\n",
       " 'garage.',\n",
       " 'done.',\n",
       " 'birthday.',\n",
       " 'alone.',\n",
       " 'nails',\n",
       " 'same',\n",
       " 'questions.',\n",
       " 'charged',\n",
       " 'salesperson,',\n",
       " 'provides',\n",
       " 'lunch,',\n",
       " 'an',\n",
       " 'sofa.',\n",
       " 'encouraged',\n",
       " 'customer.',\n",
       " 'charge',\n",
       " 'decided',\n",
       " 'sweater.',\n",
       " 'proved',\n",
       " 'complaining.',\n",
       " ...]"
      ]
     },
     "execution_count": 212,
     "metadata": {},
     "output_type": "execute_result"
    }
   ],
   "source": [
    "vocabulary"
   ]
  },
  {
   "cell_type": "code",
   "execution_count": 213,
   "metadata": {},
   "outputs": [
    {
     "data": {
      "text/plain": [
       "1942"
      ]
     },
     "execution_count": 213,
     "metadata": {},
     "output_type": "execute_result"
    }
   ],
   "source": [
    "len(vocabulary)"
   ]
  },
  {
   "cell_type": "code",
   "execution_count": 214,
   "metadata": {},
   "outputs": [],
   "source": [
    "max_vocabulary_size = 1900"
   ]
  },
  {
   "cell_type": "code",
   "execution_count": 215,
   "metadata": {},
   "outputs": [],
   "source": [
    "x, y = df[\"base_sentence\"], pd.get_dummies(df[\"occupation_category\"])"
   ]
  },
  {
   "cell_type": "code",
   "execution_count": 216,
   "metadata": {},
   "outputs": [
    {
     "data": {
      "text/html": [
       "<div>\n",
       "<style scoped>\n",
       "    .dataframe tbody tr th:only-of-type {\n",
       "        vertical-align: middle;\n",
       "    }\n",
       "\n",
       "    .dataframe tbody tr th {\n",
       "        vertical-align: top;\n",
       "    }\n",
       "\n",
       "    .dataframe thead th {\n",
       "        text-align: right;\n",
       "    }\n",
       "</style>\n",
       "<table border=\"1\" class=\"dataframe\">\n",
       "  <thead>\n",
       "    <tr style=\"text-align: right;\">\n",
       "      <th></th>\n",
       "      <th>Creative &amp; Professional Services</th>\n",
       "      <th>Healthcare &amp; Social Services</th>\n",
       "      <th>Management &amp; Administration</th>\n",
       "      <th>Service &amp; Support Roles</th>\n",
       "      <th>Technical &amp; Skilled Trades</th>\n",
       "    </tr>\n",
       "  </thead>\n",
       "  <tbody>\n",
       "    <tr>\n",
       "      <th>0</th>\n",
       "      <td>False</td>\n",
       "      <td>False</td>\n",
       "      <td>False</td>\n",
       "      <td>False</td>\n",
       "      <td>True</td>\n",
       "    </tr>\n",
       "    <tr>\n",
       "      <th>1</th>\n",
       "      <td>True</td>\n",
       "      <td>False</td>\n",
       "      <td>False</td>\n",
       "      <td>False</td>\n",
       "      <td>False</td>\n",
       "    </tr>\n",
       "    <tr>\n",
       "      <th>2</th>\n",
       "      <td>False</td>\n",
       "      <td>False</td>\n",
       "      <td>False</td>\n",
       "      <td>False</td>\n",
       "      <td>True</td>\n",
       "    </tr>\n",
       "    <tr>\n",
       "      <th>3</th>\n",
       "      <td>False</td>\n",
       "      <td>False</td>\n",
       "      <td>True</td>\n",
       "      <td>False</td>\n",
       "      <td>False</td>\n",
       "    </tr>\n",
       "    <tr>\n",
       "      <th>4</th>\n",
       "      <td>False</td>\n",
       "      <td>False</td>\n",
       "      <td>False</td>\n",
       "      <td>False</td>\n",
       "      <td>True</td>\n",
       "    </tr>\n",
       "  </tbody>\n",
       "</table>\n",
       "</div>"
      ],
      "text/plain": [
       "   Creative & Professional Services  Healthcare & Social Services  \\\n",
       "0                             False                         False   \n",
       "1                              True                         False   \n",
       "2                             False                         False   \n",
       "3                             False                         False   \n",
       "4                             False                         False   \n",
       "\n",
       "   Management & Administration  Service & Support Roles  \\\n",
       "0                        False                    False   \n",
       "1                        False                    False   \n",
       "2                        False                    False   \n",
       "3                         True                    False   \n",
       "4                        False                    False   \n",
       "\n",
       "   Technical & Skilled Trades  \n",
       "0                        True  \n",
       "1                       False  \n",
       "2                        True  \n",
       "3                       False  \n",
       "4                        True  "
      ]
     },
     "execution_count": 216,
     "metadata": {},
     "output_type": "execute_result"
    }
   ],
   "source": [
    "y.head()"
   ]
  },
  {
   "cell_type": "code",
   "execution_count": 217,
   "metadata": {},
   "outputs": [
    {
     "data": {
      "text/plain": [
       "5"
      ]
     },
     "execution_count": 217,
     "metadata": {},
     "output_type": "execute_result"
    }
   ],
   "source": [
    "num_classes = y.shape[1]\n",
    "num_classes"
   ]
  },
  {
   "cell_type": "code",
   "execution_count": 218,
   "metadata": {},
   "outputs": [],
   "source": [
    "train_x, test_x, train_y, test_y = train_test_split(x, y, test_size=0.2)"
   ]
  },
  {
   "cell_type": "code",
   "execution_count": 219,
   "metadata": {},
   "outputs": [],
   "source": [
    "tokenizer = Tokenizer(num_words=max_vocabulary_size)\n",
    "tokenizer.fit_on_texts(train_x.values)\n",
    "train_x = tokenizer.texts_to_sequences(train_x)\n",
    "test_x = tokenizer.texts_to_sequences(test_x)"
   ]
  },
  {
   "cell_type": "code",
   "execution_count": 220,
   "metadata": {},
   "outputs": [
    {
     "data": {
      "image/png": "[encoded data removed]",
      "text/plain": [
       "<Figure size 640x480 with 1 Axes>"
      ]
     },
     "metadata": {},
     "output_type": "display_data"
    }
   ],
   "source": [
    "plt.hist([len(tokens) for tokens in train_x]);"
   ]
  },
  {
   "cell_type": "code",
   "execution_count": 221,
   "metadata": {},
   "outputs": [
    {
     "data": {
      "image/png": "[encoded data removed]",
      "text/plain": [
       "<Figure size 640x480 with 1 Axes>"
      ]
     },
     "metadata": {},
     "output_type": "display_data"
    }
   ],
   "source": [
    "plt.hist([len(tokens) for tokens in test_x]);"
   ]
  },
  {
   "cell_type": "code",
   "execution_count": 222,
   "metadata": {},
   "outputs": [],
   "source": [
    "maxlen = 16"
   ]
  },
  {
   "cell_type": "code",
   "execution_count": 223,
   "metadata": {},
   "outputs": [],
   "source": [
    "train_x = sequence.pad_sequences(train_x, maxlen=maxlen)\n",
    "test_x = sequence.pad_sequences(test_x, maxlen=maxlen)"
   ]
  },
  {
   "cell_type": "code",
   "execution_count": 224,
   "metadata": {},
   "outputs": [
    {
     "data": {
      "text/plain": [
       "((1223, 16), (306, 16))"
      ]
     },
     "execution_count": 224,
     "metadata": {},
     "output_type": "execute_result"
    }
   ],
   "source": [
    "train_x.shape, test_x.shape"
   ]
  },
  {
   "cell_type": "code",
   "execution_count": 225,
   "metadata": {},
   "outputs": [],
   "source": [
    "model = Sequential([\n",
    "    Embedding(input_dim=max_vocabulary_size, output_dim=32),\n",
    "    Conv1D(filters=32, kernel_size=4, padding=\"same\", activation=\"relu\"),\n",
    "    MaxPooling1D(pool_size=2),\n",
    "    LSTM(64, dropout=0.1, recurrent_dropout=0.1),\n",
    "    Dense(num_classes, activation=\"softmax\")\n",
    "])"
   ]
  },
  {
   "cell_type": "code",
   "execution_count": 226,
   "metadata": {},
   "outputs": [],
   "source": [
    "model.compile(\n",
    "    loss=\"categorical_crossentropy\",\n",
    "    optimizer=\"adam\",\n",
    "    metrics=[\"precision\", \"recall\", \"f1_score\"]\n",
    ")"
   ]
  },
  {
   "cell_type": "code",
   "execution_count": 227,
   "metadata": {},
   "outputs": [
    {
     "name": "stdout",
     "output_type": "stream",
     "text": [
      "Epoch 1/8\n",
      "\u001b[1m16/16\u001b[0m \u001b[32m━━━━━━━━━━━━━━━━━━━━\u001b[0m\u001b[37m\u001b[0m \u001b[1m2s\u001b[0m 24ms/step - f1_score: 0.1387 - loss: 1.5987 - precision: 0.0000e+00 - recall: 0.0000e+00 - val_f1_score: 0.0899 - val_loss: 1.5487 - val_precision: 0.0000e+00 - val_recall: 0.0000e+00\n",
      "Epoch 2/8\n",
      "\u001b[1m16/16\u001b[0m \u001b[32m━━━━━━━━━━━━━━━━━━━━\u001b[0m\u001b[37m\u001b[0m \u001b[1m0s\u001b[0m 6ms/step - f1_score: 0.0903 - loss: 1.5435 - precision: 0.0000e+00 - recall: 0.0000e+00 - val_f1_score: 0.0899 - val_loss: 1.5186 - val_precision: 0.0000e+00 - val_recall: 0.0000e+00\n",
      "Epoch 3/8\n",
      "\u001b[1m16/16\u001b[0m \u001b[32m━━━━━━━━━━━━━━━━━━━━\u001b[0m\u001b[37m\u001b[0m \u001b[1m0s\u001b[0m 6ms/step - f1_score: 0.0903 - loss: 1.5191 - precision: 0.0000e+00 - recall: 0.0000e+00 - val_f1_score: 0.0899 - val_loss: 1.4911 - val_precision: 0.0000e+00 - val_recall: 0.0000e+00\n",
      "Epoch 4/8\n",
      "\u001b[1m16/16\u001b[0m \u001b[32m━━━━━━━━━━━━━━━━━━━━\u001b[0m\u001b[37m\u001b[0m \u001b[1m0s\u001b[0m 7ms/step - f1_score: 0.0928 - loss: 1.4599 - precision: 0.2459 - recall: 0.0012 - val_f1_score: 0.1155 - val_loss: 1.4155 - val_precision: 0.7273 - val_recall: 0.0327\n",
      "Epoch 5/8\n",
      "\u001b[1m16/16\u001b[0m \u001b[32m━━━━━━━━━━━━━━━━━━━━\u001b[0m\u001b[37m\u001b[0m \u001b[1m0s\u001b[0m 7ms/step - f1_score: 0.2562 - loss: 1.2963 - precision: 0.7772 - recall: 0.0969 - val_f1_score: 0.3863 - val_loss: 1.2736 - val_precision: 0.6806 - val_recall: 0.2000\n",
      "Epoch 6/8\n",
      "\u001b[1m16/16\u001b[0m \u001b[32m━━━━━━━━━━━━━━━━━━━━\u001b[0m\u001b[37m\u001b[0m \u001b[1m0s\u001b[0m 7ms/step - f1_score: 0.4365 - loss: 1.0216 - precision: 0.8465 - recall: 0.3281 - val_f1_score: 0.4906 - val_loss: 1.1687 - val_precision: 0.7264 - val_recall: 0.3143\n",
      "Epoch 7/8\n",
      "\u001b[1m16/16\u001b[0m \u001b[32m━━━━━━━━━━━━━━━━━━━━\u001b[0m\u001b[37m\u001b[0m \u001b[1m0s\u001b[0m 6ms/step - f1_score: 0.6009 - loss: 0.7591 - precision: 0.8573 - recall: 0.5548 - val_f1_score: 0.4992 - val_loss: 1.0855 - val_precision: 0.7093 - val_recall: 0.4980\n",
      "Epoch 8/8\n",
      "\u001b[1m16/16\u001b[0m \u001b[32m━━━━━━━━━━━━━━━━━━━━\u001b[0m\u001b[37m\u001b[0m \u001b[1m0s\u001b[0m 6ms/step - f1_score: 0.6631 - loss: 0.5573 - precision: 0.8917 - recall: 0.7341 - val_f1_score: 0.5386 - val_loss: 1.0257 - val_precision: 0.6845 - val_recall: 0.5755\n"
     ]
    }
   ],
   "source": [
    "history = model.fit(train_x, train_y, validation_split=0.2, batch_size=64, epochs=8)"
   ]
  },
  {
   "cell_type": "code",
   "execution_count": 228,
   "metadata": {},
   "outputs": [
    {
     "data": {
      "text/plain": [
       "<Axes: >"
      ]
     },
     "execution_count": 228,
     "metadata": {},
     "output_type": "execute_result"
    },
    {
     "data": {
      "image/png": "[encoded data removed]",
      "text/plain": [
       "<Figure size 640x480 with 1 Axes>"
      ]
     },
     "metadata": {},
     "output_type": "display_data"
    }
   ],
   "source": [
    "sns.lineplot(history.history[\"loss\"], label=\"loss\")\n",
    "sns.lineplot(history.history[\"val_loss\"], label=\"val_loss\")"
   ]
  },
  {
   "cell_type": "code",
   "execution_count": 229,
   "metadata": {},
   "outputs": [
    {
     "name": "stdout",
     "output_type": "stream",
     "text": [
      "\u001b[1m10/10\u001b[0m \u001b[32m━━━━━━━━━━━━━━━━━━━━\u001b[0m\u001b[37m\u001b[0m \u001b[1m0s\u001b[0m 12ms/step\n"
     ]
    }
   ],
   "source": [
    "preds = model.predict(test_x)"
   ]
  },
  {
   "cell_type": "code",
   "execution_count": 230,
   "metadata": {},
   "outputs": [],
   "source": [
    "test_y = test_y.values.argmax(axis=1)\n",
    "preds = preds.argmax(axis=1)"
   ]
  },
  {
   "cell_type": "code",
   "execution_count": 231,
   "metadata": {},
   "outputs": [
    {
     "name": "stdout",
     "output_type": "stream",
     "text": [
      "              precision    recall  f1-score   support\n",
      "\n",
      "           0       0.68      0.78      0.72        49\n",
      "           1       0.00      0.00      0.00        15\n",
      "           2       0.56      0.69      0.62        59\n",
      "           3       0.77      0.70      0.74        97\n",
      "           4       0.76      0.79      0.78        86\n",
      "\n",
      "    accuracy                           0.70       306\n",
      "   macro avg       0.56      0.59      0.57       306\n",
      "weighted avg       0.68      0.70      0.69       306\n",
      "\n"
     ]
    },
    {
     "name": "stderr",
     "output_type": "stream",
     "text": [
      "C:\\Users\\PC\\AppData\\Roaming\\Python\\Python312\\site-packages\\sklearn\\metrics\\_classification.py:1509: UndefinedMetricWarning: Precision is ill-defined and being set to 0.0 in labels with no predicted samples. Use `zero_division` parameter to control this behavior.\n",
      "  _warn_prf(average, modifier, f\"{metric.capitalize()} is\", len(result))\n",
      "C:\\Users\\PC\\AppData\\Roaming\\Python\\Python312\\site-packages\\sklearn\\metrics\\_classification.py:1509: UndefinedMetricWarning: Precision is ill-defined and being set to 0.0 in labels with no predicted samples. Use `zero_division` parameter to control this behavior.\n",
      "  _warn_prf(average, modifier, f\"{metric.capitalize()} is\", len(result))\n",
      "C:\\Users\\PC\\AppData\\Roaming\\Python\\Python312\\site-packages\\sklearn\\metrics\\_classification.py:1509: UndefinedMetricWarning: Precision is ill-defined and being set to 0.0 in labels with no predicted samples. Use `zero_division` parameter to control this behavior.\n",
      "  _warn_prf(average, modifier, f\"{metric.capitalize()} is\", len(result))\n"
     ]
    }
   ],
   "source": [
    "print(classification_report(test_y, preds))"
   ]
  },
  {
   "cell_type": "code",
   "execution_count": 232,
   "metadata": {},
   "outputs": [
    {
     "data": {
      "text/plain": [
       "Text(0.5, 1.0, 'Confusion Matrix')"
      ]
     },
     "execution_count": 232,
     "metadata": {},
     "output_type": "execute_result"
    },
    {
     "data": {
      "image/png": "[encoded data removed]",
      "text/plain": [
       "<Figure size 640x480 with 2 Axes>"
      ]
     },
     "metadata": {},
     "output_type": "display_data"
    }
   ],
   "source": [
    "sns.heatmap(confusion_matrix(test_y, preds), annot=True, fmt=\"5.2f\", cmap=\"Blues\")\n",
    "plt.xlabel(\"Predicted Labels\")\n",
    "plt.ylabel(\"True Labels\")\n",
    "plt.title(\"Confusion Matrix\")"
   ]
  }
 ],
 "metadata": {
  "kernelspec": {
   "display_name": "Python 3",
   "language": "python",
   "name": "python3"
  },
  "language_info": {
   "codemirror_mode": {
    "name": "ipython",
    "version": 3
   },
   "file_extension": ".py",
   "mimetype": "text/x-python",
   "name": "python",
   "nbconvert_exporter": "python",
   "pygments_lexer": "ipython3",
   "version": "3.12.1"
  }
 },
 "nbformat": 4,
 "nbformat_minor": 2
}
