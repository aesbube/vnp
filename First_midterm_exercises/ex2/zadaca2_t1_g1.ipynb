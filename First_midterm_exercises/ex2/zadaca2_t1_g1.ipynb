{
 "cells": [
  {
   "cell_type": "markdown",
   "metadata": {
    "id": "sRbkPJAzQPY5"
   },
   "source": [
    "# Task 2\n",
    "\n",
    "Perform hyper-parameter tuning on the DecisionTree algorithm in order to predict the target column \"smoking\". Use 5-fold cross-validation for the hyper-parameter tuning, tune the parameters \"criterion\", \"max_depth\", and \"min_samples_split\". Provide at least 3 values for each parameter."
   ]
  },
  {
   "cell_type": "markdown",
   "metadata": {
    "id": "JUbFeMNUQneg"
   },
   "source": [
    "## Dataset description\n",
    "\n",
    "### Features\n",
    "\n",
    "* id - patient identifier\n",
    "* age - patient age\n",
    "* height(cm) - patient height in cm\n",
    "* weight(kg) - patient weight in kg\n",
    "* waist(cm) - patient waist diameter in cm\n",
    "* eyesight(left) - patient eyesight left eye\n",
    "* eyesight(right) - patient eyesight right eye\n",
    "* hearing(left) - patient hearing condition left ear\n",
    "* hearing(right) - patient hearing condition right ear\n",
    "* systolic - patient systolic blood pressure\n",
    "* relaxation - patient relaxation blood pressure\n",
    "* fasting blood sugar - patient blood sugar level\n",
    "* Cholesterol - patient cholesterol level\n",
    "* triglyceride - patient triglyceride level\n",
    "* HDL - patient high-density lipoprotein cholesterol level\n",
    "* LDL - patient low-density lipoprotein cholesterol level\n",
    "* hemoglobin - patient hemoglobin level\n",
    "* Urine protein - patinet protein in urine level\n",
    "* serum creatinine - patient serum creatinine level\n",
    "* AST - patient aspartate aminotransferase level\n",
    "* ALT - patient Alanine transaminase level\n",
    "* Gtp - patient Guanosine-5'-triphosphate level\n",
    "* dental caries - patient dental status\n",
    "\n",
    "\n",
    "\n",
    "### Target variable\n",
    "smoking"
   ]
  },
  {
   "cell_type": "markdown",
   "metadata": {
    "id": "4bEbqyd3SXnC"
   },
   "source": [
    "### Download the dataset"
   ]
  },
  {
   "cell_type": "code",
   "execution_count": 1,
   "metadata": {
    "id": "_TYfTvvBPTnK"
   },
   "outputs": [
    {
     "name": "stderr",
     "output_type": "stream",
     "text": [
      "Downloading...\n",
      "From: https://drive.google.com/uc?id=1tUjwr64Sgv9DlImHSa5exj0Cv6Ngl6CC\n",
      "To: c:\\Users\\PC\\Desktop\\VNP\\First_midterm_exercises\\ex2\\data_g1.csv\n",
      "\n",
      "  0%|          | 0.00/9.79M [00:00<?, ?B/s]\n",
      "  5%|▌         | 524k/9.79M [00:00<00:02, 3.22MB/s]\n",
      " 21%|██▏       | 2.10M/9.79M [00:00<00:00, 8.53MB/s]\n",
      " 91%|█████████ | 8.91M/9.79M [00:00<00:00, 31.5MB/s]\n",
      "100%|██████████| 9.79M/9.79M [00:00<00:00, 25.5MB/s]\n"
     ]
    }
   ],
   "source": [
    "! gdown 1tUjwr64Sgv9DlImHSa5exj0Cv6Ngl6CC"
   ]
  },
  {
   "cell_type": "markdown",
   "metadata": {
    "id": "QQIRVprQSa0p"
   },
   "source": [
    "### Read the dataset"
   ]
  },
  {
   "cell_type": "code",
   "execution_count": null,
   "metadata": {
    "id": "XpO_W79nSc-D"
   },
   "outputs": [],
   "source": []
  },
  {
   "cell_type": "markdown",
   "metadata": {
    "id": "jGbC7XczWhMZ"
   },
   "source": [
    "### Check if dataset is balanced, or if not applicable give your reasons why\n",
    "\n"
   ]
  },
  {
   "cell_type": "code",
   "execution_count": null,
   "metadata": {
    "id": "DCSbhKw4Wh5x"
   },
   "outputs": [],
   "source": []
  },
  {
   "cell_type": "markdown",
   "metadata": {
    "id": "AO0vT8RtScsx"
   },
   "source": [
    "### Perform all necessary transformations of the data"
   ]
  },
  {
   "cell_type": "code",
   "execution_count": null,
   "metadata": {
    "id": "iqdpakElSgoX"
   },
   "outputs": [],
   "source": []
  },
  {
   "cell_type": "markdown",
   "metadata": {
    "id": "ybeI7j5OShTc"
   },
   "source": [
    "### Hyper-parameter tuning and cross-validation"
   ]
  },
  {
   "cell_type": "markdown",
   "metadata": {
    "id": "9aDMYqXmSsWK"
   },
   "source": [
    "Choose a metric to optimize, choose hyper parameter values to experiment with, perform 5-fold cross-validation."
   ]
  },
  {
   "cell_type": "code",
   "execution_count": null,
   "metadata": {
    "id": "HHdPIOGdSliO"
   },
   "outputs": [],
   "source": []
  },
  {
   "cell_type": "markdown",
   "metadata": {
    "id": "1aPsXvKiSl6p"
   },
   "source": [
    "### Evaluate the performance of the best model using multiple metrics"
   ]
  },
  {
   "cell_type": "markdown",
   "metadata": {
    "id": "SEfLc5YYTKEj"
   },
   "source": [
    "Calculate metrics\n",
    "\n",
    "Display a confusion matrix if applicable"
   ]
  },
  {
   "cell_type": "code",
   "execution_count": null,
   "metadata": {
    "id": "6cYbpPX3SrvE"
   },
   "outputs": [],
   "source": []
  }
 ],
 "metadata": {
  "colab": {
   "provenance": []
  },
  "kernelspec": {
   "display_name": "Python 3",
   "name": "python3"
  },
  "language_info": {
   "codemirror_mode": {
    "name": "ipython",
    "version": 3
   },
   "file_extension": ".py",
   "mimetype": "text/x-python",
   "name": "python",
   "nbconvert_exporter": "python",
   "pygments_lexer": "ipython3",
   "version": "3.12.1"
  }
 },
 "nbformat": 4,
 "nbformat_minor": 0
}
