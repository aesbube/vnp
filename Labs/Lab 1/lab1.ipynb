{
 "cells": [
  {
   "cell_type": "markdown",
   "metadata": {
    "id": "skreU4ZawqQ_"
   },
   "source": [
    "# Lab Exercise 1. Scraping Static Websites\n"
   ]
  },
  {
   "cell_type": "markdown",
   "metadata": {
    "id": "VzAWoqz5wwT9"
   },
   "source": [
    "This is the warmup task for the first laboratory exercise. It consists of scraping static Websites with BeautifulSoap.\n",
    "\n",
    " It should be completed at home and presented at the laboratory."
   ]
  },
  {
   "cell_type": "markdown",
   "metadata": {
    "id": "qpdvbrsow5EE"
   },
   "source": [
    "**Total points: 2**"
   ]
  },
  {
   "cell_type": "markdown",
   "metadata": {
    "id": "6eDmGLrXx0t8"
   },
   "source": [
    "### Task Description"
   ]
  },
  {
   "cell_type": "markdown",
   "metadata": {
    "id": "RG42MHsDxAP_"
   },
   "source": [
    "Scrape the information about the products on the following page:\n",
    "https://clevershop.mk/product-category/mobilni-laptopi-i-tableti/"
   ]
  },
  {
   "cell_type": "markdown",
   "metadata": {
    "id": "uoTcMRl4xP3G"
   },
   "source": [
    "For each product scrape:\n",
    "\n",
    "\n",
    "*   Product title (selector `'.wd-entities-title'`)\n",
    "*   Product regular price (selector `'.woocommerce-Price-amount'`)\n",
    "*   Product discount price (if available), same selector as regular price\n",
    "*   URL to the product page\n",
    "*   Add to cart button URL\n",
    "\n",
    "***Help: There are multiple product pages, for each page you need to send a separate request***\n"
   ]
  },
  {
   "cell_type": "markdown",
   "metadata": {
    "id": "tc0QvUR8xxwt"
   },
   "source": [
    "Save the results as a DataFrame object"
   ]
  },
  {
   "cell_type": "markdown",
   "metadata": {
    "id": "peGjiUZLzbZt"
   },
   "source": [
    "You can add as many code cells as you need."
   ]
  },
  {
   "cell_type": "markdown",
   "metadata": {
    "id": "b7U-kwKSzUIV"
   },
   "source": [
    "________________________________________________________________"
   ]
  },
  {
   "cell_type": "markdown",
   "metadata": {
    "id": "yn5gyMzNx5Vk"
   },
   "source": [
    "### Requirements"
   ]
  },
  {
   "cell_type": "markdown",
   "metadata": {
    "id": "WZ3ifNLhx7tk"
   },
   "source": [
    "Import libraries and modules that you are going to use"
   ]
  },
  {
   "cell_type": "code",
   "execution_count": 1,
   "metadata": {
    "executionInfo": {
     "elapsed": 1077,
     "status": "ok",
     "timestamp": 1730387462777,
     "user": {
      "displayName": "Ljubica Damjanovik",
      "userId": "09451212636672026964"
     },
     "user_tz": -60
    },
    "id": "GQ3zSO8WyJC_"
   },
   "outputs": [],
   "source": [
    "import pandas as pd\n",
    "import requests as rq\n",
    "from bs4 import BeautifulSoup"
   ]
  },
  {
   "cell_type": "markdown",
   "metadata": {
    "id": "fsR71mugyJP7"
   },
   "source": [
    "### Send HTTP request to the target Website"
   ]
  },
  {
   "cell_type": "code",
   "execution_count": 2,
   "metadata": {
    "executionInfo": {
     "elapsed": 1264,
     "status": "ok",
     "timestamp": 1730391321113,
     "user": {
      "displayName": "Ljubica Damjanovik",
      "userId": "09451212636672026964"
     },
     "user_tz": -60
    },
    "id": "61ImGen2yQff"
   },
   "outputs": [],
   "source": [
    "url = \"https://clevershop.mk/product-category/mobilni-laptopi-i-tableti/page/1/?per_page=36\"\n",
    "response =  rq.get(url)"
   ]
  },
  {
   "cell_type": "markdown",
   "metadata": {
    "id": "lFnRsSVJyXit"
   },
   "source": [
    "check the response status code"
   ]
  },
  {
   "cell_type": "code",
   "execution_count": 3,
   "metadata": {
    "colab": {
     "base_uri": "https://localhost:8080/"
    },
    "executionInfo": {
     "elapsed": 326,
     "status": "ok",
     "timestamp": 1730391322723,
     "user": {
      "displayName": "Ljubica Damjanovik",
      "userId": "09451212636672026964"
     },
     "user_tz": -60
    },
    "id": "xy6xJ3RGyXUN",
    "outputId": "fe7cd734-2705-44af-b965-aa4792c6b317"
   },
   "outputs": [
    {
     "name": "stdout",
     "output_type": "stream",
     "text": [
      "<Response [200]>\n"
     ]
    }
   ],
   "source": [
    "print(response)"
   ]
  },
  {
   "cell_type": "markdown",
   "metadata": {
    "id": "-MykzAV4yQ4j"
   },
   "source": [
    "### Parse the response content with BeautifulSoap"
   ]
  },
  {
   "cell_type": "code",
   "execution_count": 4,
   "metadata": {
    "executionInfo": {
     "elapsed": 329,
     "status": "ok",
     "timestamp": 1730391324447,
     "user": {
      "displayName": "Ljubica Damjanovik",
      "userId": "09451212636672026964"
     },
     "user_tz": -60
    },
    "id": "F92A3wvlyUBc"
   },
   "outputs": [],
   "source": [
    "soup = BeautifulSoup(response.text, 'html.parser')"
   ]
  },
  {
   "cell_type": "markdown",
   "metadata": {
    "id": "F8hifMvVycfV"
   },
   "source": [
    "### Extract data from the BeautifulSoap object using any selectors, attribute identifiers, etc."
   ]
  },
  {
   "cell_type": "markdown",
   "metadata": {
    "id": "sHgfHr61y2tD"
   },
   "source": [
    "* Product title (selector '.wd-entities-title')\n",
    "* Product regular price (selector '.woocommerce-Price-amount')\n",
    "* Product discount price (if available), same selector as regular price\n",
    "* URL to the product page\n",
    "* Add to cart button URL"
   ]
  },
  {
   "cell_type": "code",
   "execution_count": 5,
   "metadata": {
    "colab": {
     "base_uri": "https://localhost:8080/"
    },
    "executionInfo": {
     "elapsed": 316,
     "status": "ok",
     "timestamp": 1730391326989,
     "user": {
      "displayName": "Ljubica Damjanovik",
      "userId": "09451212636672026964"
     },
     "user_tz": -60
    },
    "id": "UV1kZCRyycQF",
    "outputId": "a12045e9-a563-41c1-e081-a2e4b7c49e19"
   },
   "outputs": [
    {
     "name": "stdout",
     "output_type": "stream",
     "text": [
      "36\n"
     ]
    }
   ],
   "source": [
    "products = soup.find_all('div', {'class':'product-grid-item'})\n",
    "print(len(products))"
   ]
  },
  {
   "cell_type": "markdown",
   "metadata": {
    "id": "gToy7d5Jy9Qk"
   },
   "source": [
    "Repeat the extraction process for each page of products"
   ]
  },
  {
   "cell_type": "code",
   "execution_count": 6,
   "metadata": {
    "colab": {
     "base_uri": "https://localhost:8080/"
    },
    "executionInfo": {
     "elapsed": 9380,
     "status": "ok",
     "timestamp": 1730391670992,
     "user": {
      "displayName": "Ljubica Damjanovik",
      "userId": "09451212636672026964"
     },
     "user_tz": -60
    },
    "id": "SgXLh_8nXglf",
    "outputId": "0b4ace69-4142-4abb-9992-92a10f449860"
   },
   "outputs": [
    {
     "name": "stdout",
     "output_type": "stream",
     "text": [
      "320\n"
     ]
    }
   ],
   "source": [
    "products = []\n",
    "num_of_pages = int(soup.find('ul', {'class':'page-numbers'}).find_all('li')[-2].text)\n",
    "for i in range(1, num_of_pages + 1):\n",
    "  url = f'https://clevershop.mk/product-category/mobilni-laptopi-i-tableti/page/{i}/?per_page=36'\n",
    "  response = rq.get(url)\n",
    "  soup = BeautifulSoup(response.text, 'html.parser')\n",
    "  products += soup.find_all('div', {'class':'product-grid-item'})\n",
    "\n",
    "print(len(products))"
   ]
  },
  {
   "cell_type": "markdown",
   "metadata": {
    "id": "R4OIUt0AynuU"
   },
   "source": [
    "### Create a pandas DataFrame with the scraped products"
   ]
  },
  {
   "cell_type": "code",
   "execution_count": 7,
   "metadata": {
    "colab": {
     "base_uri": "https://localhost:8080/",
     "height": 424
    },
    "executionInfo": {
     "elapsed": 832,
     "status": "ok",
     "timestamp": 1730391739267,
     "user": {
      "displayName": "Ljubica Damjanovik",
      "userId": "09451212636672026964"
     },
     "user_tz": -60
    },
    "id": "-wCzGEj8yrKU",
    "outputId": "1cfc3140-c69d-4bb7-cef4-bb1d91fda629"
   },
   "outputs": [
    {
     "data": {
      "text/html": [
       "<div>\n",
       "<style scoped>\n",
       "    .dataframe tbody tr th:only-of-type {\n",
       "        vertical-align: middle;\n",
       "    }\n",
       "\n",
       "    .dataframe tbody tr th {\n",
       "        vertical-align: top;\n",
       "    }\n",
       "\n",
       "    .dataframe thead th {\n",
       "        text-align: right;\n",
       "    }\n",
       "</style>\n",
       "<table border=\"1\" class=\"dataframe\">\n",
       "  <thead>\n",
       "    <tr style=\"text-align: right;\">\n",
       "      <th></th>\n",
       "      <th>Title</th>\n",
       "      <th>Regular Price</th>\n",
       "      <th>Discount Price</th>\n",
       "      <th>Product URL</th>\n",
       "      <th>Cart URL</th>\n",
       "    </tr>\n",
       "  </thead>\n",
       "  <tbody>\n",
       "    <tr>\n",
       "      <th>0</th>\n",
       "      <td>Acer A315-23-A7KD</td>\n",
       "      <td>17590</td>\n",
       "      <td>None</td>\n",
       "      <td>https://clevershop.mk/product/acer-a315-23-a7kd/</td>\n",
       "      <td>https://clevershop.mk/product-category/mobilni...</td>\n",
       "    </tr>\n",
       "    <tr>\n",
       "      <th>1</th>\n",
       "      <td>Acer A315-23-R5P2</td>\n",
       "      <td>27490</td>\n",
       "      <td>None</td>\n",
       "      <td>https://clevershop.mk/product/acer-a315-23-r5p2/</td>\n",
       "      <td>https://clevershop.mk/product-category/mobilni...</td>\n",
       "    </tr>\n",
       "    <tr>\n",
       "      <th>2</th>\n",
       "      <td>ACER Aspire 1 A115-22</td>\n",
       "      <td>18999</td>\n",
       "      <td>15999</td>\n",
       "      <td>https://clevershop.mk/product/acer-aspire-1-nx...</td>\n",
       "      <td>https://clevershop.mk/product-category/mobilni...</td>\n",
       "    </tr>\n",
       "    <tr>\n",
       "      <th>3</th>\n",
       "      <td>Acer Aspire 3 A315-23-R26A</td>\n",
       "      <td>29990</td>\n",
       "      <td>None</td>\n",
       "      <td>https://clevershop.mk/product/acer-aspire-3-a3...</td>\n",
       "      <td>https://clevershop.mk/product-category/mobilni...</td>\n",
       "    </tr>\n",
       "    <tr>\n",
       "      <th>4</th>\n",
       "      <td>Acer Aspire 3 A315-58-33WK</td>\n",
       "      <td>24490</td>\n",
       "      <td>None</td>\n",
       "      <td>https://clevershop.mk/product/21498/</td>\n",
       "      <td>https://clevershop.mk/product-category/mobilni...</td>\n",
       "    </tr>\n",
       "    <tr>\n",
       "      <th>...</th>\n",
       "      <td>...</td>\n",
       "      <td>...</td>\n",
       "      <td>...</td>\n",
       "      <td>...</td>\n",
       "      <td>...</td>\n",
       "    </tr>\n",
       "    <tr>\n",
       "      <th>315</th>\n",
       "      <td>Monitor 27 Philips 272E1GAJ/00 VA 1ms 144Hz</td>\n",
       "      <td>12890</td>\n",
       "      <td>None</td>\n",
       "      <td>https://clevershop.mk/product/monitor-27-phili...</td>\n",
       "      <td>https://clevershop.mk/product-category/mobilni...</td>\n",
       "    </tr>\n",
       "    <tr>\n",
       "      <th>316</th>\n",
       "      <td>Philips 24″ 243V7QDSB</td>\n",
       "      <td>8390</td>\n",
       "      <td>None</td>\n",
       "      <td>https://clevershop.mk/product/philips-24%e2%80...</td>\n",
       "      <td>https://clevershop.mk/product-category/mobilni...</td>\n",
       "    </tr>\n",
       "    <tr>\n",
       "      <th>317</th>\n",
       "      <td>Philips 27″ 278E1A/00 4K UHD IPS</td>\n",
       "      <td>18990</td>\n",
       "      <td>None</td>\n",
       "      <td>https://clevershop.mk/product/hp-27%e2%80%b3-2...</td>\n",
       "      <td>https://clevershop.mk/product-category/mobilni...</td>\n",
       "    </tr>\n",
       "    <tr>\n",
       "      <th>318</th>\n",
       "      <td>Philips 279C9-00 MON LED 27″ 3840 x 2160 5Ms 6...</td>\n",
       "      <td>26990</td>\n",
       "      <td>None</td>\n",
       "      <td>https://clevershop.mk/product/philips-279c9-00...</td>\n",
       "      <td>https://clevershop.mk/product-category/mobilni...</td>\n",
       "    </tr>\n",
       "    <tr>\n",
       "      <th>319</th>\n",
       "      <td>Xiaomi Redmi AirDots Wireless</td>\n",
       "      <td>990</td>\n",
       "      <td>None</td>\n",
       "      <td>https://clevershop.mk/product/redmi-headphones/</td>\n",
       "      <td>https://clevershop.mk/product-category/mobilni...</td>\n",
       "    </tr>\n",
       "  </tbody>\n",
       "</table>\n",
       "<p>320 rows × 5 columns</p>\n",
       "</div>"
      ],
      "text/plain": [
       "                                                 Title Regular Price  \\\n",
       "0                                    Acer A315-23-A7KD         17590   \n",
       "1                                    Acer A315-23-R5P2         27490   \n",
       "2                                ACER Aspire 1 A115-22         18999   \n",
       "3                           Acer Aspire 3 A315-23-R26A         29990   \n",
       "4                           Acer Aspire 3 A315-58-33WK         24490   \n",
       "..                                                 ...           ...   \n",
       "315        Monitor 27 Philips 272E1GAJ/00 VA 1ms 144Hz         12890   \n",
       "316                              Philips 24″ 243V7QDSB          8390   \n",
       "317                   Philips 27″ 278E1A/00 4K UHD IPS         18990   \n",
       "318  Philips 279C9-00 MON LED 27″ 3840 x 2160 5Ms 6...         26990   \n",
       "319                      Xiaomi Redmi AirDots Wireless           990   \n",
       "\n",
       "    Discount Price                                        Product URL  \\\n",
       "0             None   https://clevershop.mk/product/acer-a315-23-a7kd/   \n",
       "1             None   https://clevershop.mk/product/acer-a315-23-r5p2/   \n",
       "2            15999  https://clevershop.mk/product/acer-aspire-1-nx...   \n",
       "3             None  https://clevershop.mk/product/acer-aspire-3-a3...   \n",
       "4             None               https://clevershop.mk/product/21498/   \n",
       "..             ...                                                ...   \n",
       "315           None  https://clevershop.mk/product/monitor-27-phili...   \n",
       "316           None  https://clevershop.mk/product/philips-24%e2%80...   \n",
       "317           None  https://clevershop.mk/product/hp-27%e2%80%b3-2...   \n",
       "318           None  https://clevershop.mk/product/philips-279c9-00...   \n",
       "319           None    https://clevershop.mk/product/redmi-headphones/   \n",
       "\n",
       "                                              Cart URL  \n",
       "0    https://clevershop.mk/product-category/mobilni...  \n",
       "1    https://clevershop.mk/product-category/mobilni...  \n",
       "2    https://clevershop.mk/product-category/mobilni...  \n",
       "3    https://clevershop.mk/product-category/mobilni...  \n",
       "4    https://clevershop.mk/product-category/mobilni...  \n",
       "..                                                 ...  \n",
       "315  https://clevershop.mk/product-category/mobilni...  \n",
       "316  https://clevershop.mk/product-category/mobilni...  \n",
       "317  https://clevershop.mk/product-category/mobilni...  \n",
       "318  https://clevershop.mk/product-category/mobilni...  \n",
       "319  https://clevershop.mk/product-category/mobilni...  \n",
       "\n",
       "[320 rows x 5 columns]"
      ]
     },
     "execution_count": 7,
     "metadata": {},
     "output_type": "execute_result"
    }
   ],
   "source": [
    "data = pd.DataFrame(columns=['Title', 'Regular Price', 'Discount Price', 'Product URL', 'Cart URL'])\n",
    "\n",
    "for product in products:\n",
    "  title = product.find('h3', {'class':'wd-entities-title'}).text\n",
    "  prices = product.find_all('span', {'class':'woocommerce-Price-amount'})\n",
    "  regular_price = int(prices[0].text.replace(\"ден\", \"\").replace(\".\", \"\"))\n",
    "  discounted_price = int(prices[1].text.replace(\"ден\", \"\").replace(\".\", \"\")) if len(prices) ==  2 else None\n",
    "  product_url = product.find('h3', {'class':'wd-entities-title'}).find('a').get('href')\n",
    "  cart_url = 'https://clevershop.mk/product-category/mobilni-laptopi-i-tableti/' + product.find('div', {'class':'wd-add-btn'}).find('a').get('href')\n",
    "  prod = {'Title': title, 'Regular Price': regular_price, 'Discount Price': discounted_price, 'Product URL': product_url, 'Cart URL': cart_url}\n",
    "  data = data._append(prod, ignore_index=True)\n",
    "\n",
    "data"
   ]
  },
  {
   "cell_type": "markdown",
   "metadata": {
    "id": "Rxbi54EOyrb8"
   },
   "source": [
    "Save the dataframe as `.csv`"
   ]
  },
  {
   "cell_type": "code",
   "execution_count": 8,
   "metadata": {
    "executionInfo": {
     "elapsed": 314,
     "status": "ok",
     "timestamp": 1730391831718,
     "user": {
      "displayName": "Ljubica Damjanovik",
      "userId": "09451212636672026964"
     },
     "user_tz": -60
    },
    "id": "TLNfZQ07yuQE"
   },
   "outputs": [],
   "source": [
    "data.to_csv('clevershop_products.csv', index=False)"
   ]
  }
 ],
 "metadata": {
  "colab": {
   "provenance": []
  },
  "kernelspec": {
   "display_name": "base",
   "language": "python",
   "name": "python3"
  },
  "language_info": {
   "codemirror_mode": {
    "name": "ipython",
    "version": 3
   },
   "file_extension": ".py",
   "mimetype": "text/x-python",
   "name": "python",
   "nbconvert_exporter": "python",
   "pygments_lexer": "ipython3",
   "version": "3.11.7"
  }
 },
 "nbformat": 4,
 "nbformat_minor": 0
}
